{
 "cells": [
  {
   "cell_type": "markdown",
   "id": "ac93af95-16d7-4aa7-b09b-cd202f6b303a",
   "metadata": {},
   "source": [
    "# Zastosowania DFT\n",
    "## Laboratorium 9 - Metody Obliczeniowe w Nauce i Technice"
   ]
  },
  {
   "cell_type": "code",
   "execution_count": 2,
   "id": "728fa7cc-8a5b-415d-b07b-a16b7f45993d",
   "metadata": {},
   "outputs": [],
   "source": [
    "import numpy as np\n",
    "import scipy.linalg as salg\n",
    "import matplotlib.pyplot as plt\n",
    "import time\n",
    "from functools import reduce"
   ]
  },
  {
   "cell_type": "markdown",
   "id": "53103fd9-6478-4c87-85d0-5ec990c2e8dc",
   "metadata": {},
   "source": [
    "## Zadanie 1. Prosty ranking wierzchołków."
   ]
  },
  {
   "cell_type": "code",
   "execution_count": null,
   "id": "f2719f0a-7658-4d63-bc29-c72262dd6644",
   "metadata": {},
   "outputs": [],
   "source": []
  },
  {
   "cell_type": "markdown",
   "id": "cb1300b5-f312-4eed-9fe5-bcea2a427f20",
   "metadata": {},
   "source": [
    "## Zadanie 2."
   ]
  },
  {
   "cell_type": "code",
   "execution_count": null,
   "id": "a78c0f39-e38e-4ff9-8658-a00e09b6ceaa",
   "metadata": {},
   "outputs": [],
   "source": []
  },
  {
   "cell_type": "code",
   "execution_count": null,
   "id": "f77ba2d4-b69a-42b3-9af0-65bcf2789078",
   "metadata": {},
   "outputs": [],
   "source": []
  }
 ],
 "metadata": {
  "kernelspec": {
   "display_name": "Python 3 (ipykernel)",
   "language": "python",
   "name": "python3"
  },
  "language_info": {
   "codemirror_mode": {
    "name": "ipython",
    "version": 3
   },
   "file_extension": ".py",
   "mimetype": "text/x-python",
   "name": "python",
   "nbconvert_exporter": "python",
   "pygments_lexer": "ipython3",
   "version": "3.9.13"
  }
 },
 "nbformat": 4,
 "nbformat_minor": 5
}
