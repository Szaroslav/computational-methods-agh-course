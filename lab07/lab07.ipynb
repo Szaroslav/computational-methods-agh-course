{
 "cells": [
  {
   "cell_type": "markdown",
   "id": "d0a2716a-bb4f-4a45-8f16-7fcb35210e03",
   "metadata": {
    "tags": []
   },
   "source": [
    "# Dekompozycja spektralna\n",
    "## Laboratorium 7 - Metody Obliczeniowe w Nauce i Technice"
   ]
  },
  {
   "cell_type": "code",
   "execution_count": 4,
   "id": "82583a88-4ed0-4ed9-ab3b-d114609de0d5",
   "metadata": {},
   "outputs": [],
   "source": [
    "import numpy as np\n",
    "import matplotlib.pyplot as plt"
   ]
  },
  {
   "cell_type": "markdown",
   "id": "e3e2727a-0d48-41d3-a927-4b59f2228ddb",
   "metadata": {},
   "source": [
    "## Zadanie 1. Metoda potęgowa."
   ]
  },
  {
   "cell_type": "markdown",
   "id": "22ead92c-6171-4bdb-8caf-2c640a916e65",
   "metadata": {},
   "source": [
    "Napisz funkcję obliczającą metodą potęgową dominującą wartość własną (największą codo modułu) i odpowiadający jej wektor własny dla danej macierzy rzeczywistej syme-trycznej. Sprawdź poprawność działania programu porównując własną implementacjęz wynikami funkcji bibliotecznej. Przedstaw na wykresie zależność czasu obliczeń odrozmiaru macierzy (rozmiary macierzy 100x100, 500x500, ...)."
   ]
  },
  {
   "cell_type": "code",
   "execution_count": 5,
   "id": "2f126010-8bbe-44d6-815d-4aeb0a0fa73c",
   "metadata": {},
   "outputs": [],
   "source": []
  },
  {
   "cell_type": "code",
   "execution_count": null,
   "id": "c150fde6-e4e6-481f-b935-92d2946b3d22",
   "metadata": {},
   "outputs": [],
   "source": []
  },
  {
   "cell_type": "code",
   "execution_count": null,
   "id": "1e7e7336-6402-46b0-b10c-09885c7b16ae",
   "metadata": {},
   "outputs": [],
   "source": []
  }
 ],
 "metadata": {
  "kernelspec": {
   "display_name": "Python 3 (ipykernel)",
   "language": "python",
   "name": "python3"
  },
  "language_info": {
   "codemirror_mode": {
    "name": "ipython",
    "version": 3
   },
   "file_extension": ".py",
   "mimetype": "text/x-python",
   "name": "python",
   "nbconvert_exporter": "python",
   "pygments_lexer": "ipython3",
   "version": "3.9.13"
  }
 },
 "nbformat": 4,
 "nbformat_minor": 5
}
