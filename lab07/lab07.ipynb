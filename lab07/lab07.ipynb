{
 "cells": [
  {
   "cell_type": "markdown",
   "id": "d0a2716a-bb4f-4a45-8f16-7fcb35210e03",
   "metadata": {
    "tags": []
   },
   "source": [
    "# Dekompozycja spektralna\n",
    "## Laboratorium 7 - Metody Obliczeniowe w Nauce i Technice"
   ]
  },
  {
   "cell_type": "code",
   "execution_count": 15,
   "id": "82583a88-4ed0-4ed9-ab3b-d114609de0d5",
   "metadata": {},
   "outputs": [],
   "source": [
    "import numpy as np\n",
    "import matplotlib.pyplot as plt\n",
    "import time\n",
    "from functools import reduce"
   ]
  },
  {
   "cell_type": "markdown",
   "id": "e3e2727a-0d48-41d3-a927-4b59f2228ddb",
   "metadata": {},
   "source": [
    "## Zadanie 1. Metoda potęgowa."
   ]
  },
  {
   "cell_type": "markdown",
   "id": "22ead92c-6171-4bdb-8caf-2c640a916e65",
   "metadata": {},
   "source": [
    "Napisz funkcję obliczającą metodą potęgową dominującą wartość własną (największą co do modułu) i odpowiadający jej wektor własny dla danej macierzy rzeczywistej syme-trycznej. Sprawdź poprawność działania programu porównując własną implementacjęz wynikami funkcji bibliotecznej. Przedstaw na wykresie zależność czasu obliczeń odrozmiaru macierzy (rozmiary macierzy 100x100, 500x500, ...)."
   ]
  },
  {
   "cell_type": "code",
   "execution_count": 12,
   "id": "2f126010-8bbe-44d6-815d-4aeb0a0fa73c",
   "metadata": {},
   "outputs": [],
   "source": [
    "def vector_eps(v, eps=10**-6):      \n",
    "    for i in range(len(v)):\n",
    "        if abs(v[i][1]) > eps:\n",
    "            return False\n",
    "    return True\n",
    "\n",
    "def normalize(v):\n",
    "    norm = np.linalg.norm(v)\n",
    "    if norm == 0:\n",
    "        return v\n",
    "    return v / norm\n",
    "\n",
    "def method(A, max_iter):\n",
    "    x = np.full((len(A), 1), 1)\n",
    "    for _ in range(max_iter):\n",
    "        x = A * x\n",
    "        x /= x.max()\n",
    "        \n",
    "        if vector_eps(x):\n",
    "            break\n",
    "    \n",
    "    x = normalize(x)\n",
    "    return x.max(), x"
   ]
  },
  {
   "cell_type": "markdown",
   "id": "0c5f023f-36aa-4204-9667-ffe01db589c2",
   "metadata": {},
   "source": [
    "Sprawdzenie poprawności algorytmu"
   ]
  },
  {
   "cell_type": "code",
   "execution_count": null,
   "id": "e58bc4cc-c80d-4f3f-b65c-afdcba7db083",
   "metadata": {},
   "outputs": [],
   "source": [
    "A = np.array([\n",
    "    [1, 2, 3],\n",
    "    [3, 2, 1],\n",
    "    [3.5, 2, 4]\n",
    "])"
   ]
  },
  {
   "cell_type": "code",
   "execution_count": 24,
   "id": "8111752c-bbe1-409b-ad76-a5888719ecf5",
   "metadata": {},
   "outputs": [
    {
     "data": {
      "text/plain": [
       "(0.1322225991483173,\n",
       " array([[8.71924362e-058, 0.00000000e+000, 0.00000000e+000, ...,\n",
       "         0.00000000e+000, 0.00000000e+000, 5.20983936e-120],\n",
       "        [5.74625097e-044, 0.00000000e+000, 1.85218686e-118, ...,\n",
       "         0.00000000e+000, 0.00000000e+000, 0.00000000e+000],\n",
       "        [1.18590030e-101, 1.42288951e-015, 8.62425771e-150, ...,\n",
       "         0.00000000e+000, 5.90837600e-090, 0.00000000e+000],\n",
       "        ...,\n",
       "        [1.02431395e-072, 1.44572740e-208, 0.00000000e+000, ...,\n",
       "         0.00000000e+000, 7.63810982e-065, 0.00000000e+000],\n",
       "        [0.00000000e+000, 0.00000000e+000, 5.68469809e-176, ...,\n",
       "         6.71897805e-074, 3.79974926e-194, 0.00000000e+000],\n",
       "        [5.21743800e-193, 0.00000000e+000, 1.54458210e-010, ...,\n",
       "         2.51883473e-147, 1.33192962e-036, 2.87357202e-311]]))"
      ]
     },
     "execution_count": 24,
     "metadata": {},
     "output_type": "execute_result"
    }
   ],
   "source": [
    "method(np.copy(A), 1000)"
   ]
  },
  {
   "cell_type": "code",
   "execution_count": 26,
   "id": "21aec992-48e7-4af5-ab3a-3270eb773cd0",
   "metadata": {},
   "outputs": [
    {
     "data": {
      "text/plain": [
       "(array([ 1.65280630e+02+0.j        , -5.28983618e+00+0.98124666j,\n",
       "        -5.28983618e+00-0.98124666j, -3.68893883e+00+3.76873249j,\n",
       "        -3.68893883e+00-3.76873249j,  3.46335306e+00+4.17910678j,\n",
       "         3.46335306e+00-4.17910678j,  5.04255195e+00+1.8235442j ,\n",
       "         5.04255195e+00-1.8235442j ,  9.03289422e-01+5.04560037j,\n",
       "         9.03289422e-01-5.04560037j,  5.16546428e+00+0.15281259j,\n",
       "         5.16546428e+00-0.15281259j,  4.73249809e+00+1.90182914j,\n",
       "         4.73249809e+00-1.90182914j,  3.13056357e+00+4.04138284j,\n",
       "         3.13056357e+00-4.04138284j,  3.87546327e+00+3.26890759j,\n",
       "         3.87546327e+00-3.26890759j,  2.33924352e+00+4.50847115j,\n",
       "         2.33924352e+00-4.50847115j, -1.57329334e+00+4.8139834j ,\n",
       "        -1.57329334e+00-4.8139834j , -3.43636927e+00+3.81821681j,\n",
       "        -3.43636927e+00-3.81821681j, -3.13113247e+00+3.96541865j,\n",
       "        -3.13113247e+00-3.96541865j, -4.00005224e+00+2.92431689j,\n",
       "        -4.00005224e+00-2.92431689j, -4.46975939e+00+2.09166j   ,\n",
       "        -4.46975939e+00-2.09166j   , -2.57710030e+00+4.22554468j,\n",
       "        -2.57710030e+00-4.22554468j,  4.82802176e+00+1.11198085j,\n",
       "         4.82802176e+00-1.11198085j,  1.81157712e+00+4.56314473j,\n",
       "         1.81157712e+00-4.56314473j, -1.38929830e+00+4.67596259j,\n",
       "        -1.38929830e+00-4.67596259j,  3.44781899e+00+3.42453522j,\n",
       "         3.44781899e+00-3.42453522j, -4.56401304e+00+1.36341372j,\n",
       "        -4.56401304e+00-1.36341372j, -1.92466074e+00+4.36373537j,\n",
       "        -1.92466074e+00-4.36373537j, -2.68479823e+00+3.91494475j,\n",
       "        -2.68479823e+00-3.91494475j, -4.70079454e+00+0.07025634j,\n",
       "        -4.70079454e+00-0.07025634j,  4.75919857e+00+0.j        ,\n",
       "         3.95327260e+00+2.67347185j,  3.95327260e+00-2.67347185j,\n",
       "         9.18187952e-01+4.65623808j,  9.18187952e-01-4.65623808j,\n",
       "        -2.35633704e-01+4.69820518j, -2.35633704e-01-4.69820518j,\n",
       "        -9.45351365e-01+4.62552537j, -9.45351365e-01-4.62552537j,\n",
       "        -4.40064760e+00+1.55472491j, -4.40064760e+00-1.55472491j,\n",
       "        -3.40262632e+00+3.25414955j, -3.40262632e+00-3.25414955j,\n",
       "        -4.52330249e+00+0.97400619j, -4.52330249e+00-0.97400619j,\n",
       "         4.68673927e+00+0.61503893j,  4.68673927e+00-0.61503893j,\n",
       "         4.28615552e+00+1.93206593j,  4.28615552e+00-1.93206593j,\n",
       "         3.61232386e+00+2.9700765j ,  3.61232386e+00-2.9700765j ,\n",
       "         2.28566885e+00+4.09042069j,  2.28566885e+00-4.09042069j,\n",
       "         2.80892972e+00+3.71560374j,  2.80892972e+00-3.71560374j,\n",
       "        -1.50597947e+00+4.37055118j, -1.50597947e+00-4.37055118j,\n",
       "        -4.33985838e+00+1.38631191j, -4.33985838e+00-1.38631191j,\n",
       "        -1.69380607e+00+4.26034076j, -1.69380607e+00-4.26034076j,\n",
       "         2.64939121e-01+4.51050287j,  2.64939121e-01-4.51050287j,\n",
       "         4.06324231e+00+2.04707244j,  4.06324231e+00-2.04707244j,\n",
       "        -2.96510148e+00+3.40905712j, -2.96510148e+00-3.40905712j,\n",
       "         8.59986319e-01+4.4112294j ,  8.59986319e-01-4.4112294j ,\n",
       "        -4.43051417e+00+0.j        , -4.42131305e+00+0.52148118j,\n",
       "        -4.42131305e+00-0.52148118j, -2.86982973e-01+4.41981849j,\n",
       "        -2.86982973e-01-4.41981849j,  1.36936319e+00+4.1869154j ,\n",
       "         1.36936319e+00-4.1869154j , -3.16426496e-02+4.37640065j,\n",
       "        -3.16426496e-02-4.37640065j, -3.62247746e+00+2.30801955j,\n",
       "        -3.62247746e+00-2.30801955j, -1.60242330e+00+3.99279679j,\n",
       "        -1.60242330e+00-3.99279679j,  2.77772320e+00+3.44025025j,\n",
       "         2.77772320e+00-3.44025025j,  3.85933594e+00+2.10557626j,\n",
       "         3.85933594e+00-2.10557626j,  4.29503705e+00+1.03128128j,\n",
       "         4.29503705e+00-1.03128128j, -3.37602921e+00+2.44844231j,\n",
       "        -3.37602921e+00-2.44844231j, -3.10514955e+00+2.77186532j,\n",
       "        -3.10514955e+00-2.77186532j,  3.55795273e+00+2.3407472j ,\n",
       "         3.55795273e+00-2.3407472j ,  4.27539283e+00+0.09397622j,\n",
       "         4.27539283e+00-0.09397622j,  2.64328360e+00+3.27791811j,\n",
       "         2.64328360e+00-3.27791811j, -4.00607557e+00+0.80079482j,\n",
       "        -4.00607557e+00-0.80079482j, -3.99687824e+00+0.j        ,\n",
       "        -2.15084290e+00+3.47824784j, -2.15084290e+00-3.47824784j,\n",
       "        -3.66645831e+00+1.63998977j, -3.66645831e+00-1.63998977j,\n",
       "         2.32716886e+00+3.40494229j,  2.32716886e+00-3.40494229j,\n",
       "         1.42878241e+00+3.86553955j,  1.42878241e+00-3.86553955j,\n",
       "         4.06254157e+00+0.67719398j,  4.06254157e+00-0.67719398j,\n",
       "         3.48645108e+00+2.07128431j,  3.48645108e+00-2.07128431j,\n",
       "        -1.04369499e+00+3.90418342j, -1.04369499e+00-3.90418342j,\n",
       "        -1.92962121e+00+3.55472284j, -1.92962121e+00-3.55472284j,\n",
       "        -3.72229446e+00+1.43797061j, -3.72229446e+00-1.43797061j,\n",
       "         3.82799175e+00+1.22028466j,  3.82799175e+00-1.22028466j,\n",
       "         1.65588982e-02+3.97190139j,  1.65588982e-02-3.97190139j,\n",
       "        -3.49431974e+00+1.79485811j, -3.49431974e+00-1.79485811j,\n",
       "        -3.13630977e+00+2.30361353j, -3.13630977e+00-2.30361353j,\n",
       "         3.20431050e+00+2.27036371j,  3.20431050e+00-2.27036371j,\n",
       "         9.04398088e-01+3.84488795j,  9.04398088e-01-3.84488795j,\n",
       "        -2.57081796e+00+2.8808207j , -2.57081796e+00-2.8808207j ,\n",
       "         1.18367053e+00+3.72264674j,  1.18367053e+00-3.72264674j,\n",
       "         7.97991811e-01+3.78627881j,  7.97991811e-01-3.78627881j,\n",
       "         3.81770625e+00+0.57893716j,  3.81770625e+00-0.57893716j,\n",
       "        -3.64593197e+00+0.j        , -3.62045217e+00+0.73785286j,\n",
       "        -3.62045217e+00-0.73785286j, -2.12120551e+00+3.09450997j,\n",
       "        -2.12120551e+00-3.09450997j,  2.30452003e+00+2.98784638j,\n",
       "         2.30452003e+00-2.98784638j,  2.78996419e+00+2.51056381j,\n",
       "         2.78996419e+00-2.51056381j,  3.44742474e+00+1.47253125j,\n",
       "         3.44742474e+00-1.47253125j, -3.34098637e+00+1.33764899j,\n",
       "        -3.34098637e+00-1.33764899j, -4.31418598e-01+3.67152007j,\n",
       "        -4.31418598e-01-3.67152007j,  5.63601598e-01+3.63694018j,\n",
       "         5.63601598e-01-3.63694018j, -8.54744249e-01+3.52636649j,\n",
       "        -8.54744249e-01-3.52636649j, -2.52551158e+00+2.46398618j,\n",
       "        -2.52551158e+00-2.46398618j,  3.45555885e+00+0.82915946j,\n",
       "         3.45555885e+00-0.82915946j,  1.56338724e+00+3.20168262j,\n",
       "         1.56338724e+00-3.20168262j, -3.46960608e+00+0.j        ,\n",
       "        -9.15011958e-01+3.32062436j, -9.15011958e-01-3.32062436j,\n",
       "         1.26409338e+00+3.29924947j,  1.26409338e+00-3.29924947j,\n",
       "        -1.84172852e+00+2.8618197j , -1.84172852e+00-2.8618197j ,\n",
       "         3.42818797e+00+0.18234735j,  3.42818797e+00-0.18234735j,\n",
       "         3.12162115e+00+1.24997115j,  3.12162115e+00-1.24997115j,\n",
       "        -2.86849200e+00+1.54259029j, -2.86849200e+00-1.54259029j,\n",
       "        -2.41009380e+00+2.09041692j, -2.41009380e+00-2.09041692j,\n",
       "         2.46059711e+00+2.09970113j,  2.46059711e+00-2.09970113j,\n",
       "         3.15402859e+00+0.j        , -1.99915583e+00+2.44448086j,\n",
       "        -1.99915583e+00-2.44448086j, -3.77861986e-01+3.21080448j,\n",
       "        -3.77861986e-01-3.21080448j,  4.12753925e-01+3.191793j  ,\n",
       "         4.12753925e-01-3.191793j  , -5.51045533e-01+3.1277427j ,\n",
       "        -5.51045533e-01-3.1277427j , -1.52603438e+00+2.73013538j,\n",
       "        -1.52603438e+00-2.73013538j,  1.28837493e+00+2.93536888j,\n",
       "         1.28837493e+00-2.93536888j,  9.06477812e-01+3.0526504j ,\n",
       "         9.06477812e-01-3.0526504j , -2.96838245e+00+0.j        ,\n",
       "        -2.39859329e+00+1.74641389j, -2.39859329e+00-1.74641389j,\n",
       "        -2.84246451e+00+0.58547807j, -2.84246451e+00-0.58547807j,\n",
       "         1.54852087e+00+2.60212593j,  1.54852087e+00-2.60212593j,\n",
       "         2.93308088e+00+0.63208788j,  2.93308088e+00-0.63208788j,\n",
       "         1.77539891e+00+2.4511272j ,  1.77539891e+00-2.4511272j ,\n",
       "         2.23121260e+00+1.94859458j,  2.23121260e+00-1.94859458j,\n",
       "        -5.83968683e-01+2.84942067j, -5.83968683e-01-2.84942067j,\n",
       "        -1.26746046e+00+2.60563879j, -1.26746046e+00-2.60563879j,\n",
       "        -1.93991271e+00+2.14552852j, -1.93991271e+00-2.14552852j,\n",
       "         2.20072938e-01+2.80236545j,  2.20072938e-01-2.80236545j,\n",
       "         7.03460990e-01+2.73202567j,  7.03460990e-01-2.73202567j,\n",
       "        -2.53687984e+00+0.97614218j, -2.53687984e+00-0.97614218j,\n",
       "        -2.52069456e+00+0.j        ,  2.54854135e+00+1.20866283j,\n",
       "         2.54854135e+00-1.20866283j,  1.79901251e+00+2.09336027j,\n",
       "         1.79901251e+00-2.09336027j, -2.37688395e+00+1.01216383j,\n",
       "        -2.37688395e+00-1.01216383j, -1.95467937e+00+1.72803015j,\n",
       "        -1.95467937e+00-1.72803015j,  2.30151283e+00+1.25520439j,\n",
       "         2.30151283e+00-1.25520439j,  1.30752037e+00+2.24707796j,\n",
       "         1.30752037e+00-2.24707796j,  2.42323532e+00+0.82834745j,\n",
       "         2.42323532e+00-0.82834745j,  4.79908943e-02+2.46402468j,\n",
       "         4.79908943e-02-2.46402468j, -2.20709569e+00+0.84329931j,\n",
       "        -2.20709569e+00-0.84329931j, -1.66403246e+00+1.68231322j,\n",
       "        -1.66403246e+00-1.68231322j, -2.24253849e+00+0.09678248j,\n",
       "        -2.24253849e+00-0.09678248j, -1.85967356e+00+1.11026872j,\n",
       "        -1.85967356e+00-1.11026872j,  1.95384269e+00+1.26004779j,\n",
       "         1.95384269e+00-1.26004779j,  8.58430577e-01+2.00379174j,\n",
       "         8.58430577e-01-2.00379174j,  1.52121511e+00+1.56176794j,\n",
       "         1.52121511e+00-1.56176794j,  2.28372218e+00+0.j        ,\n",
       "         2.22819219e+00+0.1819948j ,  2.22819219e+00-0.1819948j ,\n",
       "        -1.37615006e+00+1.59740409j, -1.37615006e+00-1.59740409j,\n",
       "        -1.26552106e+00+1.66587908j, -1.26552106e+00-1.66587908j,\n",
       "        -7.25022040e-01+1.86786455j, -7.25022040e-01-1.86786455j,\n",
       "        -2.34173211e-01+1.96494441j, -2.34173211e-01-1.96494441j,\n",
       "         2.09983877e+00+0.j        , -1.72506683e+00+0.59454097j,\n",
       "        -1.72506683e+00-0.59454097j, -8.24000848e-01+1.66909086j,\n",
       "        -8.24000848e-01-1.66909086j,  1.69823021e+00+0.93140855j,\n",
       "         1.69823021e+00-0.93140855j,  1.26483366e+00+1.42223881j,\n",
       "         1.26483366e+00-1.42223881j,  5.26644748e-01+1.64908377j,\n",
       "         5.26644748e-01-1.64908377j,  3.00390431e-02+1.6991202j ,\n",
       "         3.00390431e-02-1.6991202j ,  9.70024604e-01+1.41494264j,\n",
       "         9.70024604e-01-1.41494264j, -1.45968092e+00+0.j        ,\n",
       "        -1.32685893e+00+0.64391634j, -1.32685893e+00-0.64391634j,\n",
       "         2.99067151e-01+1.39429285j,  2.99067151e-01-1.39429285j,\n",
       "         1.67346433e+00+0.15454743j,  1.67346433e+00-0.15454743j,\n",
       "         1.41008087e+00+0.59955969j,  1.41008087e+00-0.59955969j,\n",
       "         7.84365564e-01+1.08339714j,  7.84365564e-01-1.08339714j,\n",
       "        -8.94656019e-01+1.08226438j, -8.94656019e-01-1.08226438j,\n",
       "        -1.25517891e+00+0.j        , -2.06762988e-01+1.25028928j,\n",
       "        -2.06762988e-01-1.25028928j,  9.57023346e-01+0.86813731j,\n",
       "         9.57023346e-01-0.86813731j,  1.47373804e+00+0.34532855j,\n",
       "         1.47373804e+00-0.34532855j, -1.04049150e+00+0.58813405j,\n",
       "        -1.04049150e+00-0.58813405j, -6.74487436e-01+0.87744246j,\n",
       "        -6.74487436e-01-0.87744246j,  6.56046853e-02+0.58410298j,\n",
       "         6.56046853e-02-0.58410298j, -6.13492221e-01+0.j        ,\n",
       "        -1.32921833e-01+0.3426374j , -1.32921833e-01-0.3426374j ,\n",
       "        -2.63677081e-01+0.26939838j, -2.63677081e-01-0.26939838j,\n",
       "         2.89454802e-01+0.j        ,  6.45462499e-01+0.j        ]),\n",
       " array([[ 0.05775497+0.j        ,  0.02392762+0.01004115j,\n",
       "          0.02392762-0.01004115j, ..., -0.08593501+0.03075815j,\n",
       "         -0.04701088+0.j        ,  0.03586208+0.j        ],\n",
       "        [ 0.05545767+0.j        , -0.00674867-0.0093897j ,\n",
       "         -0.00674867+0.0093897j , ...,  0.06239766-0.01089125j,\n",
       "         -0.00360934+0.j        ,  0.00803906+0.j        ],\n",
       "        [ 0.05624245+0.j        , -0.04721994-0.00605247j,\n",
       "         -0.04721994+0.00605247j, ...,  0.03640677-0.03721599j,\n",
       "          0.05812034+0.j        , -0.05350537+0.j        ],\n",
       "        ...,\n",
       "        [ 0.05644132+0.j        ,  0.02165479-0.02372711j,\n",
       "          0.02165479+0.02372711j, ..., -0.02139373-0.01029356j,\n",
       "         -0.05132126+0.j        ,  0.02908366+0.j        ],\n",
       "        [ 0.05372079+0.j        ,  0.05090952+0.00397542j,\n",
       "          0.05090952-0.00397542j, ..., -0.03071176+0.04798095j,\n",
       "         -0.0630195 +0.j        ,  0.09399955+0.j        ],\n",
       "        [ 0.05258083+0.j        , -0.01558664-0.00679508j,\n",
       "         -0.01558664+0.00679508j, ..., -0.00505774-0.02436981j,\n",
       "          0.00314951+0.j        ,  0.00191701+0.j        ]]))"
      ]
     },
     "execution_count": 26,
     "metadata": {},
     "output_type": "execute_result"
    }
   ],
   "source": [
    "np.linalg.eig(np.copy(A))"
   ]
  },
  {
   "cell_type": "markdown",
   "id": "dd88c833-2f5e-47cb-97ba-9197f44ae03e",
   "metadata": {},
   "source": [
    "Porównanie czasowe dla losowych macierzy $n \\times n$, $n = 2, 3, ..., 512$"
   ]
  },
  {
   "cell_type": "code",
   "execution_count": 22,
   "id": "42a7540d-06dd-433f-b296-ba9f0bdb94b8",
   "metadata": {},
   "outputs": [
    {
     "data": {
      "image/png": "[encoded data removed]",
      "text/plain": [
       "<Figure size 640x480 with 1 Axes>"
      ]
     },
     "metadata": {},
     "output_type": "display_data"
    }
   ],
   "source": [
    "def render_time_plot():\n",
    "    ns = np.array([n for n in range(2, 513)])\n",
    "    times = np.empty(ns[len(ns) - 1] - ns[0] + 1)\n",
    "\n",
    "    for n in ns:\n",
    "        start = time.time()\n",
    "        A = np.random.rand(n, n)\n",
    "        method(A, 100)\n",
    "        times[n - ns[0]] = time.time() - start\n",
    "    \n",
    "    fig, ax = plt.subplots()\n",
    "    ax.scatter(ns, times)\n",
    "    plt.show()\n",
    "\n",
    "render_time_plot()"
   ]
  }
 ],
 "metadata": {
  "kernelspec": {
   "display_name": "Python 3 (ipykernel)",
   "language": "python",
   "name": "python3"
  },
  "language_info": {
   "codemirror_mode": {
    "name": "ipython",
    "version": 3
   },
   "file_extension": ".py",
   "mimetype": "text/x-python",
   "name": "python",
   "nbconvert_exporter": "python",
   "pygments_lexer": "ipython3",
   "version": "3.9.13"
  }
 },
 "nbformat": 4,
 "nbformat_minor": 5
}
