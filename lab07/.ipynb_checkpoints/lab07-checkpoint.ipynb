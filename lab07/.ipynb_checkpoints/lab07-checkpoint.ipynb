{
 "cells": [
  {
   "cell_type": "markdown",
   "id": "d0a2716a-bb4f-4a45-8f16-7fcb35210e03",
   "metadata": {
    "tags": []
   },
   "source": [
    "# Dekompozycja spektralna\n",
    "## Laboratorium 7 - Metody Obliczeniowe w Nauce i Technice"
   ]
  },
  {
   "cell_type": "code",
   "execution_count": 58,
   "id": "82583a88-4ed0-4ed9-ab3b-d114609de0d5",
   "metadata": {},
   "outputs": [],
   "source": [
    "import numpy as np\n",
    "import scipy.linalg as salg\n",
    "import matplotlib.pyplot as plt\n",
    "import time\n",
    "from functools import reduce"
   ]
  },
  {
   "cell_type": "markdown",
   "id": "e3e2727a-0d48-41d3-a927-4b59f2228ddb",
   "metadata": {},
   "source": [
    "## Zadanie 1. Metoda potęgowa."
   ]
  },
  {
   "cell_type": "markdown",
   "id": "22ead92c-6171-4bdb-8caf-2c640a916e65",
   "metadata": {},
   "source": [
    "Napisz funkcję obliczającą metodą potęgową dominującą wartość własną (największą co do modułu) i odpowiadający jej wektor własny dla danej macierzy rzeczywistej syme-trycznej. Sprawdź poprawność działania programu porównując własną implementacjęz wynikami funkcji bibliotecznej. Przedstaw na wykresie zależność czasu obliczeń odrozmiaru macierzy (rozmiary macierzy 100x100, 500x500, ...)."
   ]
  },
  {
   "cell_type": "code",
   "execution_count": 53,
   "id": "2f126010-8bbe-44d6-815d-4aeb0a0fa73c",
   "metadata": {},
   "outputs": [],
   "source": [
    "def vector_eps(v, eps=10**-6):      \n",
    "    for i in range(len(v)):\n",
    "        if abs(v[i][0]) > eps:\n",
    "            return False\n",
    "    return True\n",
    "\n",
    "def normalize(v):\n",
    "    norm = np.linalg.norm(v)\n",
    "    if norm == 0:\n",
    "        return v\n",
    "    return v / norm\n",
    "\n",
    "def method(A, max_iter):\n",
    "    x = np.full((len(A), 1), 1)\n",
    "    for _ in range(max_iter):\n",
    "        x = np.matmul(A, x)\n",
    "        x /= x.max()\n",
    "        \n",
    "        if vector_eps(x):\n",
    "            break\n",
    "    x = normalize(x)\n",
    "    return x.max(), x"
   ]
  },
  {
   "cell_type": "markdown",
   "id": "0c5f023f-36aa-4204-9667-ffe01db589c2",
   "metadata": {},
   "source": [
    "### Sprawdzenie poprawności algorytmu"
   ]
  },
  {
   "cell_type": "code",
   "execution_count": 51,
   "id": "e58bc4cc-c80d-4f3f-b65c-afdcba7db083",
   "metadata": {},
   "outputs": [],
   "source": [
    "A = np.array([\n",
    "    [1, 2, 3],\n",
    "    [3, 2, 1],\n",
    "    [3.5, 2, 4]\n",
    "])"
   ]
  },
  {
   "cell_type": "code",
   "execution_count": 54,
   "id": "8111752c-bbe1-409b-ad76-a5888719ecf5",
   "metadata": {},
   "outputs": [
    {
     "data": {
      "text/plain": [
       "(0.7633314241108896,\n",
       " array([[0.49218099],\n",
       "        [0.41842921],\n",
       "        [0.76333142]]))"
      ]
     },
     "execution_count": 54,
     "metadata": {},
     "output_type": "execute_result"
    }
   ],
   "source": [
    "method(np.copy(A), 1000)"
   ]
  },
  {
   "cell_type": "code",
   "execution_count": 55,
   "id": "21aec992-48e7-4af5-ab3a-3270eb773cd0",
   "metadata": {},
   "outputs": [
    {
     "data": {
      "text/plain": [
       "(array([ 7.35305455, -1.56761768,  1.21456313]),\n",
       " array([[-0.49218099, -0.77194172,  0.03211624],\n",
       "        [-0.41842921,  0.57055132, -0.83055941],\n",
       "        [-0.76333142,  0.28031619,  0.55600326]]))"
      ]
     },
     "execution_count": 55,
     "metadata": {},
     "output_type": "execute_result"
    }
   ],
   "source": [
    "np.linalg.eig(np.copy(A))"
   ]
  },
  {
   "cell_type": "markdown",
   "id": "dd88c833-2f5e-47cb-97ba-9197f44ae03e",
   "metadata": {},
   "source": [
    "### Porównanie czasowe dla losowych macierzy $n \\times n$, $n = 2, 3, ..., 512$ z maksymalną liczbą iteracji równą $100$"
   ]
  },
  {
   "cell_type": "code",
   "execution_count": 56,
   "id": "42a7540d-06dd-433f-b296-ba9f0bdb94b8",
   "metadata": {},
   "outputs": [
    {
     "data": {
      "image/png": "[encoded data removed]",
      "text/plain": [
       "<Figure size 640x480 with 1 Axes>"
      ]
     },
     "metadata": {},
     "output_type": "display_data"
    }
   ],
   "source": [
    "def render_time_plot():\n",
    "    ns = np.array([n for n in range(2, 513)])\n",
    "    times = np.empty(ns[len(ns) - 1] - ns[0] + 1)\n",
    "\n",
    "    for n in ns:\n",
    "        start = time.time()\n",
    "        A = np.random.rand(n, n)\n",
    "        method(A, 100)\n",
    "        times[n - ns[0]] = time.time() - start\n",
    "    \n",
    "    fig, ax = plt.subplots()\n",
    "    ax.scatter(ns, times)\n",
    "    plt.show()\n",
    "\n",
    "render_time_plot()"
   ]
  },
  {
   "cell_type": "markdown",
   "id": "ee6f3c50-699e-4733-86c6-3bbba65baa01",
   "metadata": {
    "tags": []
   },
   "source": [
    "## Zadanie 2. Odwrotna metoda potęgowa."
   ]
  },
  {
   "cell_type": "code",
   "execution_count": 57,
   "id": "cae625e8-e3b8-4039-874d-a8c3a31998a7",
   "metadata": {},
   "outputs": [],
   "source": [
    "def reverse_method(A, sigma):\n",
    "    P, L, U = scipy.linalg.lu(A)"
   ]
  }
 ],
 "metadata": {
  "kernelspec": {
   "display_name": "Python 3 (ipykernel)",
   "language": "python",
   "name": "python3"
  },
  "language_info": {
   "codemirror_mode": {
    "name": "ipython",
    "version": 3
   },
   "file_extension": ".py",
   "mimetype": "text/x-python",
   "name": "python",
   "nbconvert_exporter": "python",
   "pygments_lexer": "ipython3",
   "version": "3.9.13"
  }
 },
 "nbformat": 4,
 "nbformat_minor": 5
}
