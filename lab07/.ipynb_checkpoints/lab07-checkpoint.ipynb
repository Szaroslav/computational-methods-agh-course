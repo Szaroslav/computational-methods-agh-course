{
 "cells": [
  {
   "cell_type": "markdown",
   "id": "d0a2716a-bb4f-4a45-8f16-7fcb35210e03",
   "metadata": {
    "tags": []
   },
   "source": [
    "# Dekompozycja spektralna\n",
    "## Laboratorium 7 - Metody Obliczeniowe w Nauce i Technice"
   ]
  },
  {
   "cell_type": "code",
   "execution_count": 15,
   "id": "82583a88-4ed0-4ed9-ab3b-d114609de0d5",
   "metadata": {},
   "outputs": [],
   "source": [
    "import numpy as np\n",
    "import matplotlib.pyplot as plt\n",
    "import time\n",
    "from functools import reduce"
   ]
  },
  {
   "cell_type": "markdown",
   "id": "e3e2727a-0d48-41d3-a927-4b59f2228ddb",
   "metadata": {},
   "source": [
    "## Zadanie 1. Metoda potęgowa."
   ]
  },
  {
   "cell_type": "markdown",
   "id": "22ead92c-6171-4bdb-8caf-2c640a916e65",
   "metadata": {},
   "source": [
    "Napisz funkcję obliczającą metodą potęgową dominującą wartość własną (największą co do modułu) i odpowiadający jej wektor własny dla danej macierzy rzeczywistej syme-trycznej. Sprawdź poprawność działania programu porównując własną implementacjęz wynikami funkcji bibliotecznej. Przedstaw na wykresie zależność czasu obliczeń odrozmiaru macierzy (rozmiary macierzy 100x100, 500x500, ...)."
   ]
  },
  {
   "cell_type": "code",
   "execution_count": 12,
   "id": "2f126010-8bbe-44d6-815d-4aeb0a0fa73c",
   "metadata": {},
   "outputs": [],
   "source": [
    "def vector_eps(v, eps=10**-6):      \n",
    "    for i in range(len(v)):\n",
    "        if abs(v[i][1]) > eps:\n",
    "            return False\n",
    "    return True\n",
    "\n",
    "def normalize(v):\n",
    "    norm = np.linalg.norm(v)\n",
    "    if norm == 0:\n",
    "        return v\n",
    "    return v / norm\n",
    "\n",
    "def method(A, max_iter):\n",
    "    x = np.full((len(A), 1), 1)\n",
    "    for _ in range(max_iter):\n",
    "        x = A * x\n",
    "        x /= x.max()\n",
    "        \n",
    "        if vector_eps(x):\n",
    "            break\n",
    "    \n",
    "    x = normalize(x)\n",
    "    return x.max(), x"
   ]
  },
  {
   "cell_type": "code",
   "execution_count": null,
   "id": "c150fde6-e4e6-481f-b935-92d2946b3d22",
   "metadata": {},
   "outputs": [],
   "source": []
  },
  {
   "cell_type": "markdown",
   "id": "dd88c833-2f5e-47cb-97ba-9197f44ae03e",
   "metadata": {},
   "source": [
    "Porównanie czasowe dla losowych macierzy $n \\times n$, $n = 2, 3, ..., 512$"
   ]
  },
  {
   "cell_type": "code",
   "execution_count": 19,
   "id": "42a7540d-06dd-433f-b296-ba9f0bdb94b8",
   "metadata": {},
   "outputs": [
    {
     "ename": "IndexError",
     "evalue": "index 509 is out of bounds for axis 0 with size 509",
     "output_type": "error",
     "traceback": [
      "\u001b[1;31m---------------------------------------------------------------------------\u001b[0m",
      "\u001b[1;31mIndexError\u001b[0m                                Traceback (most recent call last)",
      "\u001b[1;32m~\\AppData\\Local\\Temp\\ipykernel_19196\\2307974535.py\u001b[0m in \u001b[0;36m<module>\u001b[1;34m\u001b[0m\n\u001b[0;32m     13\u001b[0m     \u001b[0mplt\u001b[0m\u001b[1;33m.\u001b[0m\u001b[0mshow\u001b[0m\u001b[1;33m(\u001b[0m\u001b[1;33m)\u001b[0m\u001b[1;33m\u001b[0m\u001b[1;33m\u001b[0m\u001b[0m\n\u001b[0;32m     14\u001b[0m \u001b[1;33m\u001b[0m\u001b[0m\n\u001b[1;32m---> 15\u001b[1;33m \u001b[0mrender_time_plot\u001b[0m\u001b[1;33m(\u001b[0m\u001b[1;33m)\u001b[0m\u001b[1;33m\u001b[0m\u001b[1;33m\u001b[0m\u001b[0m\n\u001b[0m",
      "\u001b[1;32m~\\AppData\\Local\\Temp\\ipykernel_19196\\2307974535.py\u001b[0m in \u001b[0;36mrender_time_plot\u001b[1;34m()\u001b[0m\n\u001b[0;32m      7\u001b[0m         \u001b[0mA\u001b[0m \u001b[1;33m=\u001b[0m \u001b[0mnp\u001b[0m\u001b[1;33m.\u001b[0m\u001b[0mrandom\u001b[0m\u001b[1;33m.\u001b[0m\u001b[0mrand\u001b[0m\u001b[1;33m(\u001b[0m\u001b[0mn\u001b[0m\u001b[1;33m,\u001b[0m \u001b[0mn\u001b[0m\u001b[1;33m)\u001b[0m\u001b[1;33m\u001b[0m\u001b[1;33m\u001b[0m\u001b[0m\n\u001b[0;32m      8\u001b[0m         \u001b[0mmethod\u001b[0m\u001b[1;33m(\u001b[0m\u001b[0mA\u001b[0m\u001b[1;33m,\u001b[0m \u001b[1;36m10\u001b[0m\u001b[1;33m)\u001b[0m\u001b[1;33m\u001b[0m\u001b[1;33m\u001b[0m\u001b[0m\n\u001b[1;32m----> 9\u001b[1;33m         \u001b[0mtimes\u001b[0m\u001b[1;33m[\u001b[0m\u001b[0mn\u001b[0m \u001b[1;33m-\u001b[0m \u001b[0mns\u001b[0m\u001b[1;33m[\u001b[0m\u001b[1;36m0\u001b[0m\u001b[1;33m]\u001b[0m\u001b[1;33m]\u001b[0m \u001b[1;33m=\u001b[0m \u001b[0mtime\u001b[0m\u001b[1;33m.\u001b[0m\u001b[0mtime\u001b[0m\u001b[1;33m(\u001b[0m\u001b[1;33m)\u001b[0m \u001b[1;33m-\u001b[0m \u001b[0mstart\u001b[0m\u001b[1;33m\u001b[0m\u001b[1;33m\u001b[0m\u001b[0m\n\u001b[0m\u001b[0;32m     10\u001b[0m \u001b[1;33m\u001b[0m\u001b[0m\n\u001b[0;32m     11\u001b[0m     \u001b[0mfig\u001b[0m\u001b[1;33m,\u001b[0m \u001b[0max\u001b[0m \u001b[1;33m=\u001b[0m \u001b[0mplt\u001b[0m\u001b[1;33m.\u001b[0m\u001b[0msubplots\u001b[0m\u001b[1;33m(\u001b[0m\u001b[1;33m)\u001b[0m\u001b[1;33m\u001b[0m\u001b[1;33m\u001b[0m\u001b[0m\n",
      "\u001b[1;31mIndexError\u001b[0m: index 509 is out of bounds for axis 0 with size 509"
     ]
    }
   ],
   "source": [
    "def render_time_plot():\n",
    "    ns = np.array([n for n in range(2, 513)])\n",
    "    times = np.empty(ns[len(ns) - 1] - ns[0])\n",
    "\n",
    "    for n in ns:\n",
    "        start = time.time()\n",
    "        A = np.random.rand(n, n)\n",
    "        method(A, 10)\n",
    "        times[n - ns[0]] = time.time() - start\n",
    "    \n",
    "    fig, ax = plt.subplots()\n",
    "    ax.scatter(ns, times)\n",
    "    plt.show()\n",
    "\n",
    "render_time_plot()"
   ]
  }
 ],
 "metadata": {
  "kernelspec": {
   "display_name": "Python 3 (ipykernel)",
   "language": "python",
   "name": "python3"
  },
  "language_info": {
   "codemirror_mode": {
    "name": "ipython",
    "version": 3
   },
   "file_extension": ".py",
   "mimetype": "text/x-python",
   "name": "python",
   "nbconvert_exporter": "python",
   "pygments_lexer": "ipython3",
   "version": "3.9.13"
  }
 },
 "nbformat": 4,
 "nbformat_minor": 5
}
