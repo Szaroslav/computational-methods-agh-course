{
 "cells": [
  {
   "cell_type": "markdown",
   "id": "c77b4382-6450-4cf6-9263-06d0788c0891",
   "metadata": {},
   "source": [
    "# Rozwiązywanie układów równań liniowych\n",
    "## Laboratorium 2 - Metody Obliczeniowe w Nauce i Technice"
   ]
  },
  {
   "cell_type": "code",
   "execution_count": 95,
   "id": "b1c171d5-b909-469a-888e-1fecbad8c474",
   "metadata": {},
   "outputs": [],
   "source": [
    "import numpy as np\n",
    "import networkx as nx\n",
    "import matplotlib as mpl\n",
    "from datetime import datetime"
   ]
  },
  {
   "cell_type": "markdown",
   "id": "ef5a215f-7d04-4b96-88be-79c82e5249e9",
   "metadata": {},
   "source": [
    "## Zadanie 1. Eliminacja Gaussa-Jordana."
   ]
  },
  {
   "cell_type": "code",
   "execution_count": 2,
   "id": "739b2c9c-90e0-49ce-9b71-4333ff7e6742",
   "metadata": {},
   "outputs": [],
   "source": [
    "# Gauss-Jordan elimination algorithm with partial pivoting\n",
    "def gauss_jordan(A):\n",
    "    n = len(A)\n",
    "    m = len(A[0])\n",
    "    h = k = 0\n",
    "\n",
    "    while h < n and k < m:\n",
    "        id_max = max([(abs(A[i][k]), i) for i in range(h, n)])[1]\n",
    "        if A[id_max][k] == 0: k += 1\n",
    "        else:\n",
    "            A[[h, id_max]] = A[[id_max, h]]\n",
    "            for i in range(h + 1, n):\n",
    "                f = A[i][k] / A[h][k]\n",
    "                A[i][k] = 0\n",
    "                for j in range(k + 1, m): A[i][j] -= f * A[h][j]\n",
    "            h += 1\n",
    "            k += 1\n",
    "            \n",
    "    return A\n",
    "\n",
    "\n",
    "# Backward substitution\n",
    "def backward_substitution(A):\n",
    "    n = len(A)\n",
    "    m = len(A[0])\n",
    "    \n",
    "    for h in range(n - 1, -1, -1):\n",
    "        A[h][m - 1] *= 1 / A[h][h]\n",
    "        A[h][h] = 1\n",
    "        for i in range(h - 1, -1, -1):\n",
    "            f = A[i][h]\n",
    "            A[i][h] = 0\n",
    "            for j in range(h + 1, m): A[i][j] -= f * A[h][j]\n",
    "            \n",
    "    return A\n",
    "\n",
    "\n",
    "# Linear solver\n",
    "def lin_solve(A, y):\n",
    "    n = len(A)\n",
    "    Ay = np.hstack((A, np.array([[x] for x in y])))\n",
    "    Ay = backward_substitution(gauss_jordan(Ay))\n",
    "    \n",
    "    return np.array([x[n] for x in Ay])"
   ]
  },
  {
   "cell_type": "code",
   "execution_count": null,
   "id": "8022c10a-5225-4b43-9549-405d0fc732d8",
   "metadata": {},
   "outputs": [],
   "source": [
    "dimensions = np.array([\n",
    "    (510, 510),\n",
    "    (520, 520),\n",
    "    (530, 530),\n",
    "    (540, 540),\n",
    "    (550, 550),\n",
    "    (600, 600),\n",
    "    (650, 650),\n",
    "    (700, 700),\n",
    "    (750, 750),\n",
    "    (800, 800),\n",
    "    (1000, 1000)\n",
    "])\n",
    "\n",
    "# Tests\n",
    "for n, m in dimensions:\n",
    "    print(f\"N = {n}\")\n",
    "    \n",
    "    A = np.random.rand(n, m)\n",
    "    y = np.random.rand(n)\n",
    "    \n",
    "    np_start_timestamp = datetime.timestamp(datetime.now())\n",
    "    np.linalg.solve(A, y)\n",
    "    print(f\"NumPy.linalg.solve():\\t\\t{datetime.timestamp(datetime.now()) - np_start_timestamp}s\")\n",
    "    \n",
    "    ls_start_timestamp = datetime.timestamp(datetime.now())\n",
    "    lin_solve(A, y)\n",
    "    print(f\"Own function, lin_solve():\\t{datetime.timestamp(datetime.now()) - np_start_timestamp}s\\n\")"
   ]
  },
  {
   "cell_type": "markdown",
   "id": "f36274f2-94f9-41e8-800b-a22578297b0c",
   "metadata": {},
   "source": [
    "## Zadanie 2. Faktoryzacja LU."
   ]
  },
  {
   "cell_type": "code",
   "execution_count": 3,
   "id": "0ecaf23f-a87c-4b6c-8a0c-57be9b26d32e",
   "metadata": {},
   "outputs": [],
   "source": [
    "def lu_decomposition(A):\n",
    "    n = len(A)\n",
    "    L = np.zeros((n, n))\n",
    "    h = k = 0\n",
    "\n",
    "    while h < n and k < n:\n",
    "        idx_non_zero = -1\n",
    "        for i in range(h, n):\n",
    "            if A[i][k] != 0:\n",
    "                idx_non_zero = i\n",
    "                break\n",
    "                \n",
    "        if idx_non_zero < 0: k += 1\n",
    "        else:\n",
    "            A[[h, idx_non_zero]] = A[[idx_non_zero, h]]\n",
    "            L[h][h] = 1\n",
    "            for i in range(h + 1, n):\n",
    "                f = A[i][k] / A[h][k]\n",
    "                A[i][k] = 0\n",
    "                L[i][h] = f\n",
    "                for j in range(k + 1, n): A[i][j] -= f * A[h][j]\n",
    "            h += 1\n",
    "            k += 1\n",
    "            \n",
    "    return L, A"
   ]
  },
  {
   "cell_type": "code",
   "execution_count": 4,
   "id": "23be183c-4b1c-4fd1-ab95-5b25c4fdc4c8",
   "metadata": {},
   "outputs": [
    {
     "data": {
      "text/plain": [
       "(array([[1., 0., 0.],\n",
       "        [5., 1., 0.],\n",
       "        [3., 4., 1.]]),\n",
       " array([[  1,   2,   3],\n",
       "        [  0,  -2, -19],\n",
       "        [  0,   0,  74]]))"
      ]
     },
     "execution_count": 4,
     "metadata": {},
     "output_type": "execute_result"
    }
   ],
   "source": [
    "A = np.array([[1,2,3],[5,8,-4],[3,-2,7]])\n",
    "L, U = lu_decomposition(np.copy(A))\n",
    "L, U"
   ]
  },
  {
   "cell_type": "markdown",
   "id": "ca32f1e6-1938-418e-a555-8b098ac6d9f2",
   "metadata": {},
   "source": [
    "Poprawność algorytmu dekompozycji $LU$, obliczając $||A - LU||_1$"
   ]
  },
  {
   "cell_type": "code",
   "execution_count": 5,
   "id": "b1679980-a445-4161-b4e8-e98559a7bd64",
   "metadata": {},
   "outputs": [
    {
     "data": {
      "text/plain": [
       "0.0"
      ]
     },
     "execution_count": 5,
     "metadata": {},
     "output_type": "execute_result"
    }
   ],
   "source": [
    "# Matrix norm of A - LU inducted by vector 1-norms\n",
    "np.max((np.abs(A - np.dot(L, U))).sum(axis=1))"
   ]
  },
  {
   "cell_type": "markdown",
   "id": "2886662a-904b-4bc1-afd8-1b17b0b179de",
   "metadata": {},
   "source": [
    "## Zadanie 3. Analiza obwodu elektrycznego - nadokreślony układ równań."
   ]
  },
  {
   "cell_type": "code",
   "execution_count": 6,
   "id": "65abadaf-ab80-4d35-86f3-f499e69c0f28",
   "metadata": {},
   "outputs": [],
   "source": [
    "def load_adjacency_list_from_file(path):\n",
    "    with open(path) as file:\n",
    "        adj_list = []\n",
    "        lines = [line.rstrip() for line in file]\n",
    "        \n",
    "        for i in range(len(lines)):\n",
    "            row = line.split(',')\n",
    "            for j in range(0, len(row), 2):\n",
    "                adj_list[i].append((int(row[j]), float(row[j + 1])))\n",
    "                \n",
    "        return adj_list\n",
    "    \n",
    "    return None\n",
    "\n",
    "\n",
    "# def adjacency_matrix_from_list(G):\n",
    "#     M = np.zeros((len(G), len(G)))\n",
    "#     for i in range(len(G)):\n",
    "#         for j, w in G[i]:\n",
    "#             M[i][j] = w\n",
    "            \n",
    "#     return M\n",
    "    \n",
    "\n",
    "def load_emf():\n",
    "    s, t, E = input(\"Type electromotive force E from s to v vertices (s t E): \").split()\n",
    "    return int(s), int(t), float(E)"
   ]
  },
  {
   "cell_type": "code",
   "execution_count": null,
   "id": "454b050b-6207-401d-b06d-5d9e2346eed4",
   "metadata": {},
   "outputs": [],
   "source": [
    "# Ohm's law\n",
    "def ol()"
   ]
  },
  {
   "cell_type": "markdown",
   "id": "434ef77e-66e6-4061-9188-5f12ca2c5577",
   "metadata": {},
   "source": [
    "![Test graph](graph-test.jpg)"
   ]
  },
  {
   "cell_type": "code",
   "execution_count": 20,
   "id": "656b1860-2f10-46f9-bd31-611343d69d53",
   "metadata": {},
   "outputs": [],
   "source": [
    "# Test graph\n",
    "\n",
    "# G0 = nx.Graph()\n",
    "# G0.add_weighted_edges_from([\n",
    "#     (1, 0, 0),\n",
    "#     (1, 4, 1),\n",
    "#     (1, 2, 4),\n",
    "#     (2, 3, 1),\n",
    "#     (3, 4, 2),\n",
    "#     (4, 5, 1),\n",
    "#     (5, 6, 4),\n",
    "#     (6, 0, 1),\n",
    "#     (3, 7, 1),\n",
    "#     (4, 7, 1),\n",
    "#     (7, 8, 1),\n",
    "#     (8, 5, 1)\n",
    "# ])\n",
    "\n",
    "G = nx.Graph()\n",
    "G.add_weighted_edges_from([\n",
    "    (0, 1, 0),\n",
    "    (1, 2, 6),\n",
    "    (2, 3, 4),\n",
    "    (3, 0, 2),\n",
    "])\n",
    "\n",
    "s, t, e = 0, 1, 4"
   ]
  },
  {
   "cell_type": "code",
   "execution_count": 21,
   "id": "4166681d-c642-4228-85e9-c2b30dd4ff3c",
   "metadata": {},
   "outputs": [
    {
     "data": {
      "text/plain": [
       "[[1, 2, 3, 0]]"
      ]
     },
     "execution_count": 21,
     "metadata": {},
     "output_type": "execute_result"
    }
   ],
   "source": [
    "G_cycle_basis = nx.cycle_basis(G)\n",
    "G_cycle_basis"
   ]
  },
  {
   "cell_type": "code",
   "execution_count": 22,
   "id": "54e23849-986b-4b15-a422-e492777f910c",
   "metadata": {},
   "outputs": [
    {
     "data": {
      "image/png": "[encoded data removed]",
      "text/plain": [
       "<Figure size 640x480 with 1 Axes>"
      ]
     },
     "metadata": {},
     "output_type": "display_data"
    }
   ],
   "source": [
    "def parse_to_directed(G, s, t, cycles):\n",
    "    di_G = G.to_directed()\n",
    "    \n",
    "    for cycle in cycles:\n",
    "        if s in cycle or t in cycle:\n",
    "            idx = cycle.index(t)\n",
    "            n = len(cycle)\n",
    "            for i in range(n):\n",
    "                v, u = cycle[(idx + i) % n], cycle[(idx + i - 1) % n]\n",
    "                if di_G.has_edge(v, u): di_G.remove_edge(v, u)\n",
    "                \n",
    "    for cycle in cycles:\n",
    "        if s not in cycle or t not in cycle:\n",
    "            n = len(cycle)\n",
    "            idx = None\n",
    "            for i in range(n):\n",
    "                v, u = cycle[i % n], cycle[(i - 1) % n]\n",
    "                if di_G.has_edge(v, u) and not di_G.has_edge(u, v):\n",
    "                    idx = i\n",
    "                    break\n",
    "                    \n",
    "            if idx is None: continue\n",
    "            for i in range(n - 1):\n",
    "                v, u = cycle[(idx + i) % n], cycle[(idx + i - 1) % n]\n",
    "                if di_G.has_edge(v, u): di_G.remove_edge(v, u)\n",
    "            \n",
    "    return di_G\n",
    "\n",
    "G = parse_to_directed(G, s, t, G_cycle_basis)\n",
    "nx.draw(G)"
   ]
  },
  {
   "cell_type": "markdown",
   "id": "a4031595-245a-46ba-8b5c-1c912fe30a18",
   "metadata": {},
   "source": [
    "### Metoda potencjałów węzłowych."
   ]
  },
  {
   "cell_type": "code",
   "execution_count": 97,
   "id": "9983e3c5-69f4-44be-ba80-55a4f3c1bc35",
   "metadata": {},
   "outputs": [
    {
     "data": {
      "image/png": "[encoded data removed]",
      "text/plain": [
       "<Figure size 640x480 with 1 Axes>"
      ]
     },
     "metadata": {},
     "output_type": "display_data"
    }
   ],
   "source": [
    "def branch_current_method(G, s, t, e):\n",
    "    N = len(G)\n",
    "    \n",
    "    A = np.zeros((N, N))\n",
    "    B = np.zeros(N)\n",
    "    \n",
    "    V = np.full(N, None)\n",
    "    V[s] = 0\n",
    "    V[t] = e\n",
    "    \n",
    "    for u in range(N):\n",
    "        # Out (+I_k)\n",
    "        for v in [v for v in G.neighbors(u)]:\n",
    "            w = G[u][v][\"weight\"]\n",
    "            if w == 0:\n",
    "                continue\n",
    "            \n",
    "            if V[u] is None: A[u][u] += 1 / w\n",
    "            else: B[u] -= V[u] / w\n",
    "            if V[v] is None: A[u][v] -= 1 / w\n",
    "            else: B[u] += V[v] / w\n",
    "            \n",
    "        # In (-I_k)\n",
    "        for v in range(N):\n",
    "            if not G.has_edge(v, u) or G[v][u][\"weight\"] == 0:\n",
    "                continue\n",
    "            w = G[v][u][\"weight\"]\n",
    "            \n",
    "            if V[u] is None: A[u][u] += 1 / w\n",
    "            else: B[u] -= V[u] / w\n",
    "            if V[v] is None: A[u][v] -= 1 / w\n",
    "            else: B[u] += V[v] / w\n",
    "    \n",
    "    # Remove unnecessary rows and columns, avoiding det(A) = 0\n",
    "    A = np.delete(A, (s, t), 0)\n",
    "    A = np.delete(A, (s, t), 1)\n",
    "    B = np.delete(B, (s, t))\n",
    "    res = np.linalg.solve(A, B)\n",
    "    \n",
    "    # Merge together electric potential differences of s and t nodes with others\n",
    "    j = 0\n",
    "    for i in range(N):\n",
    "        if i == s or i == t: continue\n",
    "        V[i] = res[j]\n",
    "        j += 1\n",
    "    \n",
    "    # Evaluate electric current in every edge of the circuit\n",
    "    I = {}\n",
    "    for i, e in enumerate(G.edges):\n",
    "        u, v = e\n",
    "        if G[u][v][\"weight\"] == 0: I[e] = 0\n",
    "        else: I[e] = round((V[u] - V[v]) / G[u][v][\"weight\"], 2)\n",
    "        \n",
    "    return I\n",
    "\n",
    "\n",
    "def draw_graph(G, weights):\n",
    "    layout = nx.spring_layout(G)\n",
    "    \n",
    "    _min, _max = min(weights.values()), max(weights.values())\n",
    "    edge_color_intesities = []\n",
    "    for u, v in G.edges:\n",
    "        edge_color_intesities.append((weights[(u, v)] - _min) / (_max - _min))\n",
    "    \n",
    "    nx.draw(G, pos=layout, edge_color=edge_color_intesities, edge_cmap=mpl.colormaps[\"plasma\"])\n",
    "    nx.draw_networkx_edge_labels(G, pos=layout, edge_labels=weights)\n",
    "    \n",
    "\n",
    "draw_graph(G, branch_current_method(G, s, t, e))"
   ]
  },
  {
   "cell_type": "code",
   "execution_count": 106,
   "id": "e453eee5-40bd-412d-b2d1-daf390b1a144",
   "metadata": {},
   "outputs": [
    {
     "name": "stdout",
     "output_type": "stream",
     "text": [
      "[[13, 43, 0], [33, 43, 0], [40, 43, 0], [1, 49, 43], [3, 49, 43], [6, 49, 43, 0], [12, 49, 43], [18, 49, 43], [33, 49, 43], [42, 49, 43], [6, 45, 49], [8, 45, 49], [12, 45, 49], [34, 45, 49, 43], [3, 37, 45, 49], [19, 37, 45, 49, 43, 0], [20, 37, 45, 49, 43], [22, 37, 45], [24, 37, 45, 49], [26, 37, 45, 49, 43, 0], [29, 37, 45, 49, 43, 0], [30, 37, 45, 49, 43], [36, 37, 45, 49], [40, 37, 45, 49, 43], [47, 37, 45, 49, 43], [6, 48, 37, 45], [8, 48, 37, 45], [10, 48, 37, 45, 49], [12, 48, 37, 45], [15, 48, 37], [18, 48, 37, 45, 49], [21, 48, 37, 45, 49, 43], [25, 48, 37, 45, 49, 43], [29, 48, 37], [30, 48, 37], [1, 46, 48, 37, 45, 49], [4, 46, 48, 37, 45, 49], [10, 46, 48], [14, 46, 48, 37, 45, 49, 43], [18, 46, 48], [19, 46, 48, 37], [22, 46, 48, 37], [23, 46, 48, 37, 45], [25, 46, 48], [34, 46, 48, 37, 45], [35, 46, 48, 37, 45, 49, 43], [42, 46, 48, 37, 45, 49], [44, 46, 48], [7, 41, 46, 48, 37, 45, 49], [13, 41, 46, 48, 37, 45, 49, 43], [19, 41, 46], [21, 41, 46, 48], [33, 41, 46, 48, 37, 45, 49], [34, 41, 46], [40, 41, 46, 48, 37], [47, 41, 46, 48, 37], [3, 17, 46, 48, 37], [5, 17, 46, 48, 37, 45], [12, 17, 46, 48], [15, 17, 46, 48], [16, 17, 46, 48, 37, 45, 49, 43, 0], [19, 17, 46], [26, 17, 46, 48, 37], [29, 17, 46, 48], [36, 17, 46, 48, 37], [42, 17, 46], [12, 44, 48], [13, 44, 48, 37, 45, 49, 43], [14, 44, 48, 37, 45, 49, 43], [15, 44, 48], [22, 44, 48, 37], [25, 44, 48], [34, 44, 48, 37, 45], [36, 44, 48, 37], [39, 44, 48, 37, 45, 49, 43], [1, 31, 48, 37, 45, 49], [3, 31, 48, 37], [4, 31, 48, 37, 45, 49], [13, 31, 48, 37, 45, 49, 43], [16, 31, 48, 37, 45, 49, 43, 0], [18, 31, 48], [20, 31, 48, 37], [27, 31, 48, 37, 45, 49], [36, 31, 48, 37], [39, 31, 48, 37, 45, 49, 43], [5, 9, 31, 48, 37, 45], [6, 9, 31, 48], [7, 9, 31, 48, 37, 45, 49], [13, 9, 31], [16, 9, 31], [27, 9, 31], [5, 11, 48, 37, 45], [6, 11, 48], [7, 11, 48, 37, 45, 49], [8, 11, 48], [19, 11, 48, 37], [24, 11, 48, 37], [29, 11, 48], [30, 11, 48], [34, 11, 48, 37, 45], [42, 11, 48, 37, 45, 49], [5, 15, 37, 45], [10, 15, 37, 45, 49], [12, 15, 37, 45], [18, 15, 37, 45, 49], [24, 15, 37], [25, 15, 37, 45, 49, 43], [30, 15, 37], [32, 15, 37, 45, 49, 43], [33, 15, 37, 45, 49], [35, 15, 37, 45, 49, 43], [40, 15, 37], [47, 15, 37], [1, 23, 45, 49], [2, 23, 45, 49], [4, 23, 45, 49], [10, 23, 45, 49], [12, 23, 45], [13, 23, 45, 49, 43], [16, 23, 45, 49, 43, 0], [18, 23, 45, 49], [19, 23, 45, 49, 43, 0], [21, 23, 45, 49, 43], [24, 23, 45, 49], [25, 23, 45, 49, 43], [29, 23, 45, 49, 43, 0], [33, 23, 45, 49], [36, 23, 45, 49], [47, 23, 45, 49, 43], [1, 22, 45, 49], [2, 22, 45, 49], [4, 22, 45, 49], [12, 22, 45], [13, 22, 45, 49, 43], [27, 22, 45, 49], [35, 22, 45, 49, 43], [39, 22, 45, 49, 43], [40, 22, 45, 49, 43], [47, 22, 45, 49, 43], [1, 5, 45, 49], [4, 5, 45, 49], [6, 5, 45], [14, 5, 45, 49, 43], [18, 5, 45, 49], [19, 5, 45, 49, 43, 0], [20, 5, 45, 49, 43], [25, 5, 45, 49, 43], [34, 5, 45], [39, 5, 45, 49, 43], [40, 5, 45, 49, 43], [1, 36, 49], [3, 36, 49], [7, 36, 49], [8, 36, 49], [13, 36, 49, 43], [18, 36, 49], [21, 36, 49, 43], [25, 36, 49, 43], [26, 36, 49, 43, 0], [39, 36, 49, 43], [40, 36, 49, 43], [47, 36, 49, 43], [3, 27, 49], [4, 27, 49], [6, 27, 49], [8, 27, 49], [12, 27, 49], [13, 27, 49, 43], [16, 27, 49, 43, 0], [18, 27, 49], [19, 27, 49, 43, 0], [30, 27, 49, 43], [32, 27, 49, 43], [33, 27, 49], [38, 27, 49, 43], [40, 27, 49, 43], [2, 24, 49], [3, 24, 49], [13, 24, 49, 43], [25, 24, 49, 43], [29, 24, 49, 43, 0], [35, 24, 49, 43], [20, 10, 49, 43], [21, 10, 49, 43], [26, 10, 49, 43, 0], [29, 10, 49, 43, 0], [32, 10, 49, 43], [38, 10, 49, 43], [40, 10, 49, 43], [42, 10, 49], [47, 10, 49, 43], [2, 8, 49], [4, 8, 49], [6, 8, 49], [7, 8, 49], [14, 8, 49, 43], [16, 8, 49, 43, 0], [29, 8, 49, 43, 0], [30, 8, 49, 43], [34, 8, 49, 43], [35, 8, 49, 43], [38, 8, 49, 43], [47, 8, 49, 43], [4, 7, 49], [6, 7, 49], [30, 7, 49, 43], [33, 7, 49], [34, 7, 49, 43], [39, 7, 49, 43], [40, 7, 49, 43], [47, 7, 49, 43], [18, 4, 49], [34, 4, 49, 43], [35, 4, 49, 43], [2, 28, 4, 49], [6, 28, 4, 49], [12, 28, 4, 49], [13, 28, 4, 49, 43], [18, 28, 4], [26, 28, 4, 49, 43, 0], [32, 28, 4, 49, 43], [38, 28, 4, 49, 43], [39, 28, 4, 49, 43], [40, 28, 4, 49, 43], [42, 28, 4, 49], [1, 2, 49], [3, 2, 49], [13, 2, 49, 43], [29, 2, 49, 43, 0], [40, 2, 49, 43], [3, 47, 43], [12, 47, 43], [14, 47, 43], [21, 47, 43], [29, 47, 43, 0], [30, 47, 43], [32, 47, 43], [39, 47, 43], [42, 47, 43], [1, 42, 43], [3, 42, 43], [12, 42, 43], [19, 42, 43, 0], [21, 42, 43], [25, 42, 43], [34, 42, 43], [16, 39, 43, 0], [18, 39, 43], [25, 39, 43], [33, 39, 43], [1, 38, 43], [6, 38, 43, 0], [12, 38, 43], [18, 38, 43], [19, 38, 43, 0], [20, 38, 43], [25, 38, 43], [34, 38, 43], [35, 38, 43], [3, 35, 43], [6, 35, 43, 0], [19, 35, 43, 0], [25, 35, 43], [32, 35, 43], [40, 35, 43], [1, 34, 43], [6, 34, 43, 0], [16, 34, 43, 0], [18, 34, 43], [20, 34, 43], [25, 34, 43], [3, 32, 43], [14, 32, 43], [21, 32, 43], [25, 32, 43], [3, 30, 43], [6, 30, 43, 0], [16, 30, 43, 0], [19, 30, 43, 0], [20, 30, 43], [21, 30, 43], [26, 30, 43, 0], [16, 25, 43, 0], [26, 25, 43, 0], [1, 21, 43], [14, 21, 43], [16, 21, 43, 0], [19, 21, 43, 0], [26, 21, 43, 0], [40, 21, 43], [12, 20, 43], [26, 20, 43, 0], [3, 18, 43], [12, 18, 43], [16, 18, 43, 0], [19, 18, 43, 0], [3, 14, 43], [26, 12, 43, 0], [1, 3, 43], [6, 3, 43, 0], [13, 3, 43], [29, 3, 43, 0], [6, 1, 43, 0], [13, 1, 43], [16, 1, 43, 0], [26, 1, 43, 0], [33, 1, 43], [40, 1, 43], [16, 40, 0], [13, 33, 0], [19, 33, 0], [13, 29, 0], [16, 29, 0], [26, 29, 0], [19, 26, 0], [6, 19, 0], [13, 19, 0], [13, 16, 0]]\n"
     ]
    },
    {
     "ename": "ValueError",
     "evalue": "1 is not in list",
     "output_type": "error",
     "traceback": [
      "\u001b[1;31m---------------------------------------------------------------------------\u001b[0m",
      "\u001b[1;31mValueError\u001b[0m                                Traceback (most recent call last)",
      "\u001b[1;32m~\\AppData\\Local\\Temp\\ipykernel_9596\\403408771.py\u001b[0m in \u001b[0;36m<module>\u001b[1;34m\u001b[0m\n\u001b[0;32m      2\u001b[0m \u001b[0mprint\u001b[0m\u001b[1;33m(\u001b[0m\u001b[0mnx\u001b[0m\u001b[1;33m.\u001b[0m\u001b[0mcycle_basis\u001b[0m\u001b[1;33m(\u001b[0m\u001b[0mX\u001b[0m\u001b[1;33m)\u001b[0m\u001b[1;33m)\u001b[0m\u001b[1;33m\u001b[0m\u001b[1;33m\u001b[0m\u001b[0m\n\u001b[0;32m      3\u001b[0m \u001b[0mX_cycle_basis\u001b[0m \u001b[1;33m=\u001b[0m \u001b[0mnx\u001b[0m\u001b[1;33m.\u001b[0m\u001b[0mcycle_basis\u001b[0m\u001b[1;33m(\u001b[0m\u001b[0mX\u001b[0m\u001b[1;33m)\u001b[0m\u001b[1;33m\u001b[0m\u001b[1;33m\u001b[0m\u001b[0m\n\u001b[1;32m----> 4\u001b[1;33m \u001b[0mX\u001b[0m \u001b[1;33m=\u001b[0m \u001b[0mparse_to_directed\u001b[0m\u001b[1;33m(\u001b[0m\u001b[0mX\u001b[0m\u001b[1;33m,\u001b[0m \u001b[0ms\u001b[0m\u001b[1;33m,\u001b[0m \u001b[0mt\u001b[0m\u001b[1;33m,\u001b[0m \u001b[0mX_cycle_basis\u001b[0m\u001b[1;33m)\u001b[0m\u001b[1;33m\u001b[0m\u001b[1;33m\u001b[0m\u001b[0m\n\u001b[0m\u001b[0;32m      5\u001b[0m \u001b[0mdraw_graph\u001b[0m\u001b[1;33m(\u001b[0m\u001b[0mX\u001b[0m\u001b[1;33m,\u001b[0m \u001b[0mbranch_current_method\u001b[0m\u001b[1;33m(\u001b[0m\u001b[0mX\u001b[0m\u001b[1;33m,\u001b[0m \u001b[0ms\u001b[0m\u001b[1;33m,\u001b[0m \u001b[0mt\u001b[0m\u001b[1;33m,\u001b[0m \u001b[0me\u001b[0m\u001b[1;33m)\u001b[0m\u001b[1;33m)\u001b[0m\u001b[1;33m\u001b[0m\u001b[1;33m\u001b[0m\u001b[0m\n",
      "\u001b[1;32m~\\AppData\\Local\\Temp\\ipykernel_9596\\2252664771.py\u001b[0m in \u001b[0;36mparse_to_directed\u001b[1;34m(G, s, t, cycles)\u001b[0m\n\u001b[0;32m      4\u001b[0m     \u001b[1;32mfor\u001b[0m \u001b[0mcycle\u001b[0m \u001b[1;32min\u001b[0m \u001b[0mcycles\u001b[0m\u001b[1;33m:\u001b[0m\u001b[1;33m\u001b[0m\u001b[1;33m\u001b[0m\u001b[0m\n\u001b[0;32m      5\u001b[0m         \u001b[1;32mif\u001b[0m \u001b[0ms\u001b[0m \u001b[1;32min\u001b[0m \u001b[0mcycle\u001b[0m \u001b[1;32mor\u001b[0m \u001b[0mt\u001b[0m \u001b[1;32min\u001b[0m \u001b[0mcycle\u001b[0m\u001b[1;33m:\u001b[0m\u001b[1;33m\u001b[0m\u001b[1;33m\u001b[0m\u001b[0m\n\u001b[1;32m----> 6\u001b[1;33m             \u001b[0midx\u001b[0m \u001b[1;33m=\u001b[0m \u001b[0mcycle\u001b[0m\u001b[1;33m.\u001b[0m\u001b[0mindex\u001b[0m\u001b[1;33m(\u001b[0m\u001b[0mt\u001b[0m\u001b[1;33m)\u001b[0m\u001b[1;33m\u001b[0m\u001b[1;33m\u001b[0m\u001b[0m\n\u001b[0m\u001b[0;32m      7\u001b[0m             \u001b[0mn\u001b[0m \u001b[1;33m=\u001b[0m \u001b[0mlen\u001b[0m\u001b[1;33m(\u001b[0m\u001b[0mcycle\u001b[0m\u001b[1;33m)\u001b[0m\u001b[1;33m\u001b[0m\u001b[1;33m\u001b[0m\u001b[0m\n\u001b[0;32m      8\u001b[0m             \u001b[1;32mfor\u001b[0m \u001b[0mi\u001b[0m \u001b[1;32min\u001b[0m \u001b[0mrange\u001b[0m\u001b[1;33m(\u001b[0m\u001b[0mn\u001b[0m\u001b[1;33m)\u001b[0m\u001b[1;33m:\u001b[0m\u001b[1;33m\u001b[0m\u001b[1;33m\u001b[0m\u001b[0m\n",
      "\u001b[1;31mValueError\u001b[0m: 1 is not in list"
     ]
    }
   ],
   "source": [
    "X = nx.erdos_renyi_graph(50, 0.3)\n",
    "print(nx.cycle_basis(X))\n",
    "X_cycle_basis = nx.cycle_basis(X)\n",
    "X = parse_to_directed(X, s, t, X_cycle_basis)\n",
    "draw_graph(X, branch_current_method(X, s, t, e))"
   ]
  },
  {
   "cell_type": "code",
   "execution_count": null,
   "id": "8f5328c1-afd4-48ad-a41a-038f4ba9d632",
   "metadata": {},
   "outputs": [],
   "source": []
  }
 ],
 "metadata": {
  "kernelspec": {
   "display_name": "Python 3 (ipykernel)",
   "language": "python",
   "name": "python3"
  },
  "language_info": {
   "codemirror_mode": {
    "name": "ipython",
    "version": 3
   },
   "file_extension": ".py",
   "mimetype": "text/x-python",
   "name": "python",
   "nbconvert_exporter": "python",
   "pygments_lexer": "ipython3",
   "version": "3.9.13"
  }
 },
 "nbformat": 4,
 "nbformat_minor": 5
}
