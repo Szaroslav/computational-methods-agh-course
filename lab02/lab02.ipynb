{
 "cells": [
  {
   "cell_type": "markdown",
   "id": "c77b4382-6450-4cf6-9263-06d0788c0891",
   "metadata": {},
   "source": [
    "# Rozwiązywanie układów równań liniowych\n",
    "## Laboratorium 2 - Metody Obliczeniowe w Nauce i Technice"
   ]
  },
  {
   "cell_type": "code",
   "execution_count": 1,
   "id": "b1c171d5-b909-469a-888e-1fecbad8c474",
   "metadata": {},
   "outputs": [],
   "source": [
    "import numpy as np\n",
    "from datetime import datetime"
   ]
  },
  {
   "cell_type": "markdown",
   "id": "ef5a215f-7d04-4b96-88be-79c82e5249e9",
   "metadata": {},
   "source": [
    "## Zadanie 1. Eliminacja Gaussa-Jordana."
   ]
  },
  {
   "cell_type": "code",
   "execution_count": null,
   "id": "739b2c9c-90e0-49ce-9b71-4333ff7e6742",
   "metadata": {},
   "outputs": [],
   "source": [
    "# Gauss-Jordan elimination algorithm with partial pivoting\n",
    "def gauss_jordan(A):\n",
    "    n = len(A)\n",
    "    m = len(A[0])\n",
    "    h = k = 0\n",
    "\n",
    "    while h < n and k < m:\n",
    "        id_max = max([(abs(A[i][k]), i) for i in range(h, n)])[1]\n",
    "        if A[id_max][k] == 0: k += 1\n",
    "        else:\n",
    "            A[[h, id_max]] = A[[id_max, h]]\n",
    "            for i in range(h + 1, n):\n",
    "                f = A[i][k] / A[h][k]\n",
    "                A[i][k] = 0\n",
    "                for j in range(k + 1, m): A[i][j] -= f * A[h][j]\n",
    "            h += 1\n",
    "            k += 1\n",
    "            \n",
    "    return A\n",
    "\n",
    "# Backward substitution\n",
    "def backward_substitution(A):\n",
    "    n = len(A)\n",
    "    m = len(A[0])\n",
    "    \n",
    "    for h in range(n - 1, -1, -1):\n",
    "        A[h][m - 1] *= 1 / A[h][h]\n",
    "        A[h][h] = 1\n",
    "        for i in range(h - 1, -1, -1):\n",
    "            f = A[i][h]\n",
    "            A[i][h] = 0\n",
    "            for j in range(h + 1, m): A[i][j] -= f * A[h][j]\n",
    "            \n",
    "    return A\n",
    "\n",
    "\n",
    "# Linear solver\n",
    "def lin_solve(A, y):\n",
    "    n = len(A)\n",
    "    Ay = np.hstack((A, np.array([[x] for x in y])))\n",
    "    Ay = backward_substitution(gauss_jordan(Ay))\n",
    "    \n",
    "    return np.array([x[n] for x in Ay])"
   ]
  },
  {
   "cell_type": "code",
   "execution_count": null,
   "id": "8022c10a-5225-4b43-9549-405d0fc732d8",
   "metadata": {},
   "outputs": [],
   "source": [
    "dimensions = np.array([\n",
    "    (510, 510),\n",
    "    (520, 520),\n",
    "    (530, 530),\n",
    "    (540, 540),\n",
    "    (550, 550),\n",
    "    (600, 600),\n",
    "    (650, 650),\n",
    "    (700, 700),\n",
    "    (750, 750),\n",
    "    (800, 800),\n",
    "    (1000, 1000),\n",
    "])\n",
    "\n",
    "# Tests\n",
    "for n, m in dimensions:\n",
    "    start_timestamp = datetime.timestamp(datetime.now())\n",
    "    lin_solve(np.random.rand(n, m), np.random.rand(n))\n",
    "    end_timestamp = datetime.timestamp(datetime.now())"
   ]
  },
  {
   "cell_type": "markdown",
   "id": "f36274f2-94f9-41e8-800b-a22578297b0c",
   "metadata": {},
   "source": [
    "## Zadanie 2. Faktoryzacja LU."
   ]
  },
  {
   "cell_type": "code",
   "execution_count": 5,
   "id": "0ecaf23f-a87c-4b6c-8a0c-57be9b26d32e",
   "metadata": {},
   "outputs": [],
   "source": [
    "# With partial pivoting Sadeg =(\n",
    "def lu_decomposition(A):\n",
    "    n = len(A)\n",
    "    L = np.zeros((n, n))\n",
    "    h = k = 0\n",
    "\n",
    "    while h < n and k < n:\n",
    "        id_max = -1\n",
    "        for i in range(h, n):\n",
    "            if A[i][k] != 0:\n",
    "                id_max = i\n",
    "                break\n",
    "                \n",
    "        if id_max < 0: k += 1\n",
    "        else:\n",
    "            A[[h, id_max]] = A[[id_max, h]]\n",
    "            L[h][h] = 1\n",
    "            for i in range(h + 1, n):\n",
    "                f = A[i][k] / A[h][k]\n",
    "                A[i][k] = 0\n",
    "                L[i][h] = f\n",
    "                for j in range(k + 1, n): A[i][j] -= f * A[h][j]\n",
    "            h += 1\n",
    "            k += 1\n",
    "            \n",
    "    return L, A"
   ]
  },
  {
   "cell_type": "code",
   "execution_count": 4,
   "id": "23be183c-4b1c-4fd1-ab95-5b25c4fdc4c8",
   "metadata": {},
   "outputs": [
    {
     "data": {
      "text/plain": [
       "(array([[1., 0., 0.],\n",
       "        [5., 1., 0.],\n",
       "        [3., 4., 1.]]),\n",
       " array([[  1,   2,   3],\n",
       "        [  0,  -2, -19],\n",
       "        [  0,   0,  74]]))"
      ]
     },
     "execution_count": 4,
     "metadata": {},
     "output_type": "execute_result"
    }
   ],
   "source": [
    "A = np.array([[1,2,3],[5,8,-4],[3,-2,7]])\n",
    "L, U = lu_decomposition(np.copy(A))\n",
    "L, U"
   ]
  },
  {
   "cell_type": "markdown",
   "id": "ca32f1e6-1938-418e-a555-8b098ac6d9f2",
   "metadata": {},
   "source": [
    "Poprawność algorytmu dekompozycji $LU$, obliczając $||A - LU||_1$"
   ]
  },
  {
   "cell_type": "code",
   "execution_count": 14,
   "id": "b1679980-a445-4161-b4e8-e98559a7bd64",
   "metadata": {},
   "outputs": [
    {
     "data": {
      "text/plain": [
       "0.0"
      ]
     },
     "execution_count": 14,
     "metadata": {},
     "output_type": "execute_result"
    }
   ],
   "source": [
    "# Matrix norm of A - LU inducted by vector 1-norms\n",
    "np.max((np.abs(A - np.dot(L, U))).sum(axis=1))"
   ]
  },
  {
   "cell_type": "code",
   "execution_count": null,
   "id": "52a97dfe-087a-4d49-a36f-1f79c7ea2ff7",
   "metadata": {},
   "outputs": [],
   "source": []
  }
 ],
 "metadata": {
  "kernelspec": {
   "display_name": "Python 3 (ipykernel)",
   "language": "python",
   "name": "python3"
  },
  "language_info": {
   "codemirror_mode": {
    "name": "ipython",
    "version": 3
   },
   "file_extension": ".py",
   "mimetype": "text/x-python",
   "name": "python",
   "nbconvert_exporter": "python",
   "pygments_lexer": "ipython3",
   "version": "3.9.13"
  }
 },
 "nbformat": 4,
 "nbformat_minor": 5
}
