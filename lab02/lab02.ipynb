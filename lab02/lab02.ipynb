{
 "cells": [
  {
   "cell_type": "markdown",
   "id": "c77b4382-6450-4cf6-9263-06d0788c0891",
   "metadata": {},
   "source": [
    "# Rozwiązywanie układów równań liniowych\n",
    "## Laboratorium 2 - Metody Obliczeniowe w Nauce i Technice"
   ]
  },
  {
   "cell_type": "code",
   "execution_count": null,
   "id": "b1c171d5-b909-469a-888e-1fecbad8c474",
   "metadata": {},
   "outputs": [],
   "source": [
    "import numpy as np\n",
    "import networkx as nx\n",
    "import matplotlib as mpl\n",
    "from datetime import datetime"
   ]
  },
  {
   "cell_type": "markdown",
   "id": "ef5a215f-7d04-4b96-88be-79c82e5249e9",
   "metadata": {},
   "source": [
    "## Zadanie 1. Eliminacja Gaussa-Jordana."
   ]
  },
  {
   "cell_type": "code",
   "execution_count": null,
   "id": "739b2c9c-90e0-49ce-9b71-4333ff7e6742",
   "metadata": {},
   "outputs": [],
   "source": [
    "# Gauss-Jordan elimination algorithm with partial pivoting\n",
    "def gauss_jordan(A):\n",
    "    n = len(A)\n",
    "    m = len(A[0])\n",
    "    h = k = 0\n",
    "\n",
    "    while h < n and k < m:\n",
    "        id_max = max([(abs(A[i][k]), i) for i in range(h, n)])[1]\n",
    "        if A[id_max][k] == 0: k += 1\n",
    "        else:\n",
    "            A[[h, id_max]] = A[[id_max, h]]\n",
    "            for i in range(h + 1, n):\n",
    "                f = A[i][k] / A[h][k]\n",
    "                A[i][k] = 0\n",
    "                for j in range(k + 1, m): A[i][j] -= f * A[h][j]\n",
    "            h += 1\n",
    "            k += 1\n",
    "            \n",
    "    return A\n",
    "\n",
    "\n",
    "# Backward substitution\n",
    "def backward_substitution(A):\n",
    "    n = len(A)\n",
    "    m = len(A[0])\n",
    "    \n",
    "    for h in range(n - 1, -1, -1):\n",
    "        A[h][m - 1] *= 1 / A[h][h]\n",
    "        A[h][h] = 1\n",
    "        for i in range(h - 1, -1, -1):\n",
    "            f = A[i][h]\n",
    "            A[i][h] = 0\n",
    "            for j in range(h + 1, m): A[i][j] -= f * A[h][j]\n",
    "            \n",
    "    return A\n",
    "\n",
    "\n",
    "# Linear solver\n",
    "def lin_solve(A, y):\n",
    "    n = len(A)\n",
    "    Ay = np.hstack((A, np.array([[x] for x in y])))\n",
    "    Ay = backward_substitution(gauss_jordan(Ay))\n",
    "    \n",
    "    return np.array([x[n] for x in Ay])"
   ]
  },
  {
   "cell_type": "code",
   "execution_count": null,
   "id": "8022c10a-5225-4b43-9549-405d0fc732d8",
   "metadata": {},
   "outputs": [],
   "source": [
    "dimensions = np.array([\n",
    "    (510, 510),\n",
    "    (520, 520),\n",
    "    (530, 530),\n",
    "    (540, 540),\n",
    "    (550, 550),\n",
    "    (600, 600),\n",
    "    (650, 650),\n",
    "    (700, 700),\n",
    "    (750, 750),\n",
    "    (800, 800),\n",
    "    (1000, 1000)\n",
    "])\n",
    "\n",
    "# Tests\n",
    "for n, m in dimensions:\n",
    "    print(f\"N = {n}\")\n",
    "    \n",
    "    A = np.random.rand(n, m)\n",
    "    y = np.random.rand(n)\n",
    "    \n",
    "    np_start_timestamp = datetime.timestamp(datetime.now())\n",
    "    np.linalg.solve(A, y)\n",
    "    print(f\"NumPy.linalg.solve():\\t\\t{datetime.timestamp(datetime.now()) - np_start_timestamp}s\")\n",
    "    \n",
    "    ls_start_timestamp = datetime.timestamp(datetime.now())\n",
    "    lin_solve(A, y)\n",
    "    print(f\"Own function, lin_solve():\\t{datetime.timestamp(datetime.now()) - np_start_timestamp}s\\n\")"
   ]
  },
  {
   "cell_type": "markdown",
   "id": "97b7fcce-cb0b-4740-a5ed-daff23733b8e",
   "metadata": {},
   "source": [
    "`np.linalg.solve()` jest zdecydowanie szybsza niż moja funkcja. Dużym usprawnieniem szybkości jest fakt implementacji biblioteki `NumPy` w `C` - chociaż jest dla mnie co najmniej zastawiająca olbrzymia różnica czasu wykonywania obu funkcji, uwzględniając ten fakt."
   ]
  },
  {
   "cell_type": "markdown",
   "id": "f36274f2-94f9-41e8-800b-a22578297b0c",
   "metadata": {},
   "source": [
    "## Zadanie 2. Faktoryzacja LU."
   ]
  },
  {
   "cell_type": "code",
   "execution_count": null,
   "id": "0ecaf23f-a87c-4b6c-8a0c-57be9b26d32e",
   "metadata": {},
   "outputs": [],
   "source": [
    "def lu_decomposition(A):\n",
    "    n = len(A)\n",
    "    L = np.zeros((n, n))\n",
    "    h = k = 0\n",
    "\n",
    "    while h < n and k < n:\n",
    "        idx_non_zero = -1\n",
    "        for i in range(h, n):\n",
    "            if A[i][k] != 0:\n",
    "                idx_non_zero = i\n",
    "                break\n",
    "                \n",
    "        if idx_non_zero < 0: k += 1\n",
    "        else:\n",
    "            A[[h, idx_non_zero]] = A[[idx_non_zero, h]]\n",
    "            L[h][h] = 1\n",
    "            for i in range(h + 1, n):\n",
    "                f = A[i][k] / A[h][k]\n",
    "                A[i][k] = 0\n",
    "                L[i][h] = f\n",
    "                for j in range(k + 1, n): A[i][j] -= f * A[h][j]\n",
    "            h += 1\n",
    "            k += 1\n",
    "            \n",
    "    return L, A"
   ]
  },
  {
   "cell_type": "code",
   "execution_count": null,
   "id": "23be183c-4b1c-4fd1-ab95-5b25c4fdc4c8",
   "metadata": {},
   "outputs": [],
   "source": [
    "A = np.array([[1,2,3],[5,8,-4],[3,-2,7]])\n",
    "L, U = lu_decomposition(np.copy(A))\n",
    "L, U"
   ]
  },
  {
   "cell_type": "markdown",
   "id": "ca32f1e6-1938-418e-a555-8b098ac6d9f2",
   "metadata": {},
   "source": [
    "Poprawność algorytmu dekompozycji $LU$, można sprawdzić obliczając $||A - LU||_1 = 0$"
   ]
  },
  {
   "cell_type": "code",
   "execution_count": null,
   "id": "b1679980-a445-4161-b4e8-e98559a7bd64",
   "metadata": {},
   "outputs": [],
   "source": [
    "# Matrix norm of A - LU inducted by vector 1-norms\n",
    "np.max((np.abs(A - np.dot(L, U))).sum(axis=1))"
   ]
  },
  {
   "cell_type": "markdown",
   "id": "2886662a-904b-4bc1-afd8-1b17b0b179de",
   "metadata": {},
   "source": [
    "## Zadanie 3. Analiza obwodu elektrycznego - nadokreślony układ równań."
   ]
  },
  {
   "cell_type": "markdown",
   "id": "ab52de10-262a-4dc2-975f-f25d27bfec3d",
   "metadata": {},
   "source": [
    "### Wczytywanie listy krawędzi grafu z pliku i siły elektromotorycznej SEM"
   ]
  },
  {
   "cell_type": "code",
   "execution_count": null,
   "id": "65abadaf-ab80-4d35-86f3-f499e69c0f28",
   "metadata": {},
   "outputs": [],
   "source": [
    "def load_adjacency_list_from_file(path):\n",
    "    with open(path) as file:\n",
    "        adj_list = []\n",
    "        lines = [line.rstrip() for line in file]\n",
    "        \n",
    "        for i in range(len(lines)):\n",
    "            row = line.split(',')\n",
    "            for j in range(0, len(row), 2):\n",
    "                adj_list[i].append((int(row[j]), float(row[j + 1])))\n",
    "                \n",
    "        return adj_list\n",
    "    \n",
    "    return None\n",
    "\n",
    "\n",
    "# def adjacency_matrix_from_list(G):\n",
    "#     M = np.zeros((len(G), len(G)))\n",
    "#     for i in range(len(G)):\n",
    "#         for j, w in G[i]:\n",
    "#             M[i][j] = w\n",
    "            \n",
    "#     return M\n",
    "    \n",
    "\n",
    "def load_emf():\n",
    "    s, t, E = input(\"Type electromotive force E from s to v vertices (s t E): \").split()\n",
    "    return int(s), int(t), float(E)"
   ]
  },
  {
   "cell_type": "markdown",
   "id": "289063f1-f3b5-4458-84c4-eac316a1bbee",
   "metadata": {},
   "source": [
    "### Graf $G$ reprezentujący testowy obwód elektryczny"
   ]
  },
  {
   "cell_type": "markdown",
   "id": "434ef77e-66e6-4061-9188-5f12ca2c5577",
   "metadata": {},
   "source": [
    "![Test graph](graph-test.jpg)"
   ]
  },
  {
   "cell_type": "code",
   "execution_count": null,
   "id": "656b1860-2f10-46f9-bd31-611343d69d53",
   "metadata": {},
   "outputs": [],
   "source": [
    "# Test graph\n",
    "\n",
    "# G0 = nx.Graph()\n",
    "# G0.add_weighted_edges_from([\n",
    "#     (1, 0, 0),\n",
    "#     (1, 4, 1),\n",
    "#     (1, 2, 4),\n",
    "#     (2, 3, 1),\n",
    "#     (3, 4, 2),\n",
    "#     (4, 5, 1),\n",
    "#     (5, 6, 4),\n",
    "#     (6, 0, 1),\n",
    "#     (3, 7, 1),\n",
    "#     (4, 7, 1),\n",
    "#     (7, 8, 1),\n",
    "#     (8, 5, 1)\n",
    "# ])\n",
    "\n",
    "G = nx.Graph()\n",
    "G.add_weighted_edges_from([\n",
    "    (0, 1, 0),\n",
    "    (1, 2, 6),\n",
    "    (2, 3, 4),\n",
    "    (3, 0, 2),\n",
    "])\n",
    "\n",
    "s, t, E = 0, 1, 4"
   ]
  },
  {
   "cell_type": "code",
   "execution_count": null,
   "id": "d2752044-d4f0-4b82-a0bb-9e9532b48f6b",
   "metadata": {},
   "outputs": [],
   "source": [
    "def draw_graph(G, weights):\n",
    "    layout = nx.spring_layout(G, seed=213700)\n",
    "    \n",
    "    _min, _max = min(weights.values()), max(weights.values())\n",
    "    edge_color_intesities = []\n",
    "    for u, v in G.edges:\n",
    "        edge_color_intesities.append((weights[(u, v)] - _min) / (_max - _min))\n",
    "    \n",
    "    nx.draw(G, pos=layout, edge_color=edge_color_intesities, edge_cmap=mpl.colormaps[\"plasma\"])\n",
    "    nx.draw_networkx_labels(G, pos=layout, font_color=\"#f0f0f0\")\n",
    "    nx.draw_networkx_edge_labels(G, pos=layout, edge_labels=weights)"
   ]
  },
  {
   "cell_type": "code",
   "execution_count": null,
   "id": "54e23849-986b-4b15-a422-e492777f910c",
   "metadata": {},
   "outputs": [],
   "source": [
    "def parse_to_directed(G, s, t):\n",
    "    if isinstance(G, nx.DiGraph):\n",
    "        G = G.to_undirected()\n",
    "    di_G = G.to_directed()\n",
    "    cycles = nx.cycle_basis(G)\n",
    "    \n",
    "    # Remove edges based on cycles, which contain s or t node\n",
    "    for cycle in cycles:\n",
    "        idx, is_t = None, None\n",
    "        if t in cycle: idx, is_t = cycle.index(t), True\n",
    "        elif s in cycle: idx, is_t = cycle.index(s), False\n",
    "        if idx is not None:\n",
    "            n = len(cycle)\n",
    "            for i in range(n):\n",
    "                v, u = cycle[(idx + i) % n], cycle[(idx + i - 1) % n]\n",
    "                if is_t and di_G.has_edge(v, u): di_G.remove_edge(v, u)\n",
    "                elif is_t == False and di_G.has_edge(u, v): di_G.remove_edge(u, v)\n",
    "     \n",
    "    # Remove edges based on other cycles\n",
    "    for cycle in cycles:\n",
    "        if s not in cycle and t not in cycle:\n",
    "            n = len(cycle)\n",
    "            idx = None\n",
    "            for i in range(n):\n",
    "                v, u = cycle[i % n], cycle[(i - 1) % n]\n",
    "                if di_G.has_edge(v, u) and not di_G.has_edge(u, v):\n",
    "                    idx = i\n",
    "                    break\n",
    "                    \n",
    "            if idx is None: continue\n",
    "            for i in range(n - 1):\n",
    "                v, u = cycle[(idx + i) % n], cycle[(idx + i - 1) % n]\n",
    "                if di_G.has_edge(v, u): di_G.remove_edge(v, u)\n",
    "       \n",
    "    return di_G\n",
    "\n",
    "\n",
    "G = parse_to_directed(G, s, t)"
   ]
  },
  {
   "cell_type": "markdown",
   "id": "7ade977b-5590-4893-ae52-8ede19cfc671",
   "metadata": {},
   "source": [
    "### I i II prawo Kirchhoffa"
   ]
  },
  {
   "cell_type": "markdown",
   "id": "a660d39f-2f2d-4eb5-9a4f-3eb35a2dbf0a",
   "metadata": {},
   "source": [
    "Posiadając dany graf skierowany $G = (V, E)$, jesteśmy w stanie uzyskać maksymalnie $V$ równań z I prawa Kirchhoffa, na potrzeby zadania zakładam, że między wierzchołkiem $s$ a $t$ nie istnieje żaden opór. Na początku wybieram potencjalnie $V$ z I prawa Kirchhoffa, jeśli rząd zawiera nie więcej niż 1 współczynnik lub istnieje \"zerowa\" kolumna, to odpowiednio je usuwam. Po wstępnym stworzeniu macierzy porównuje jej wielkość do rozmiaru grafu $G$, jeśli jest on mniejszy to korzystam z funkcji bibliotecznej `NetworkX` `cycle_basis()` i wyznaczam unikatową bazę cykli. Za jej pomocą jestem w stanie utworzyć kompletny układ równań z II prawa Kirchhoffa i prawa Ohma (jedynym wyjątkiem jest jeśli baza cykli + rozmiar wstępnej macierzy będzie mniejszy od $E$, można to wykonać, łącząc kombinacje poszczególnych elementów bazy, tworząc większe cykle)."
   ]
  },
  {
   "cell_type": "code",
   "execution_count": null,
   "id": "dd73e29f-1756-4d92-a3e3-98f53412ac27",
   "metadata": {},
   "outputs": [],
   "source": [
    "def kirchhoffs_laws(G, s, t, e):\n",
    "    def reduce_rows(A):\n",
    "        idxs, eps = [], 10**-9\n",
    "        for i in range(len(A)):\n",
    "            counter = 0\n",
    "            for j in range(len(A[i])):\n",
    "                if abs(A[i][j]) > eps:\n",
    "                    counter += 1\n",
    "            if counter <= 1:\n",
    "                idxs.append(i)\n",
    "                \n",
    "        A = np.delete(A, idxs, axis=0)\n",
    "        return A\n",
    "    \n",
    "    def reduce_cols(A):\n",
    "        idxs, eps = [], 10**-9\n",
    "        for j in range(len(A[0])):\n",
    "            counter = 0\n",
    "            for i in range(len(A)):\n",
    "                if abs(A[i][j]) > eps:\n",
    "                    counter += 1\n",
    "            if counter == 0:\n",
    "                idxs.append(j)\n",
    "                \n",
    "        A = np.delete(A, idxs, axis=1)\n",
    "        return A\n",
    "        \n",
    "        \n",
    "    N = len(G.edges) - 1\n",
    "    V = len(G)\n",
    "    \n",
    "    I = np.zeros((V, N))\n",
    "    A = np.zeros((N, N))\n",
    "    B = np.zeros(N)\n",
    "    \n",
    "    # Label every edge, which is not equal 0\n",
    "    i = 0\n",
    "    edges = {}\n",
    "    for u, v in G.edges:\n",
    "        if G[u][v][\"weight\"] == 0: continue\n",
    "        edges[(u, v)] = i\n",
    "        i += 1\n",
    "    # print(edges)\n",
    "    \n",
    "    # The Kirchhoff's current law\n",
    "    print(I)\n",
    "    for u, v in G.edges:\n",
    "        if G[u][v][\"weight\"] == 0:\n",
    "            continue\n",
    "        \n",
    "        # print(f\"({u}, {v})\", edges[(u, v)], I[u], len(I), len(I[0]), len(I[1]))\n",
    "        I[u][edges[(u, v)]] = 1\n",
    "        I[v][edges[(u, v)]] = -1\n",
    "    \n",
    "    # Reduce rows with less or equal than 1 and columns with 0 coefficients\n",
    "    I = reduce_rows(I)\n",
    "    if len(I) > N:\n",
    "        rows = [i for i in range(N, len(I))]\n",
    "        I = np.delete(I, rows, axis=0)\n",
    "    if len(I[0]) > N:\n",
    "        I = reduce_cols(I)\n",
    "        if len(I[0]) > N:\n",
    "            cols = [j for j in range(N, len(I[0]))]\n",
    "            I = np.delete(I, cols, axis=1)\n",
    "    \n",
    "    # Set A matrix, if there is more variables than rows, use the Kirchhoff's voltage law\n",
    "    if len(I) == N and len(I[0]) == N:\n",
    "        A = I\n",
    "    # The Kirchhoff's voltage law\n",
    "    else:\n",
    "        n, m = len(I), len(I[0])\n",
    "        C = np.zeros((N - n, N))\n",
    "        cycles = nx.cycle_basis(G.to_undirected())\n",
    "        if len(cycles) + n >= N:\n",
    "            for i in range(N - n):\n",
    "                c_len = len(cycles[i])\n",
    "                cycle_edges = [(cycles[i][j % c_len], cycles[i][(j + 1) % c_len]) for j in range(c_len)]\n",
    "                for u, v in cycle_edges:\n",
    "                    if u != s and v != t:\n",
    "                        C[i][edges[(u, v)]] = -G[u][v][\"weight\"]\n",
    "                    else:\n",
    "                        B[i + n] = -e\n",
    "            if m < N:\n",
    "                I = np.hstack((I, np.zeros(n, N - m)))\n",
    "                        \n",
    "            A = np.vstack((I, C))\n",
    "        else:\n",
    "            # Combine cycle basis\n",
    "            print(len(cycles), n, N)\n",
    "            pass\n",
    "        \n",
    "    return np.linalg.solve(A, B)\n",
    "    \n",
    "    \n",
    "# kirchhoffs_laws(G, s, t, E)"
   ]
  },
  {
   "cell_type": "markdown",
   "id": "a4031595-245a-46ba-8b5c-1c912fe30a18",
   "metadata": {},
   "source": [
    "### Metoda potencjałów węzłowych"
   ]
  },
  {
   "cell_type": "markdown",
   "id": "b437fae6-1c0f-48dc-ba24-96f945683c45",
   "metadata": {},
   "source": [
    "Posiadając dany graf skierowany $G = (V, E)$ można uzyskać $V$ równań napięcia. Wykorzystując metodę potencjałów węzłowych jestem w stanie obliczyć napięcie w każdym wierzchołku grafu $G$, a następnie z prawa Ohma natężenie w każdym odcinku obwodu."
   ]
  },
  {
   "cell_type": "code",
   "execution_count": null,
   "id": "9983e3c5-69f4-44be-ba80-55a4f3c1bc35",
   "metadata": {},
   "outputs": [],
   "source": [
    "def branch_current_method(G, s, t, e):\n",
    "    N = len(G)\n",
    "    \n",
    "    A = np.zeros((N, N))\n",
    "    B = np.zeros(N)\n",
    "    \n",
    "    V = np.full(N, None)\n",
    "    V[s] = 0\n",
    "    V[t] = e\n",
    "    \n",
    "    for u in range(N):\n",
    "        # Out (+I_k)\n",
    "        for v in [v for v in G.neighbors(u)]:\n",
    "            w = G[u][v][\"weight\"]\n",
    "            if w == 0:\n",
    "                continue\n",
    "            \n",
    "            if V[u] is None: A[u][u] += 1 / w\n",
    "            else: B[u] -= V[u] / w\n",
    "            if V[v] is None: A[u][v] -= 1 / w\n",
    "            else: B[u] += V[v] / w\n",
    "            \n",
    "        # In (-I_k)\n",
    "        for v in range(N):\n",
    "            if not G.has_edge(v, u) or G[v][u][\"weight\"] == 0:\n",
    "                continue\n",
    "            w = G[v][u][\"weight\"]\n",
    "            \n",
    "            if V[u] is None: A[u][u] += 1 / w\n",
    "            else: B[u] -= V[u] / w\n",
    "            if V[v] is None: A[u][v] -= 1 / w\n",
    "            else: B[u] += V[v] / w\n",
    "    \n",
    "    # Remove unnecessary rows and columns, avoiding det(A) = 0\n",
    "    A = np.delete(A, (s, t), 0)\n",
    "    A = np.delete(A, (s, t), 1)\n",
    "    B = np.delete(B, (s, t))\n",
    "    res = np.linalg.solve(A, B)\n",
    "    \n",
    "    # Merge together electric potential differences of s and t nodes with others\n",
    "    j = 0\n",
    "    for i in range(N):\n",
    "        if i == s or i == t: continue\n",
    "        V[i] = res[j]\n",
    "        j += 1\n",
    "    \n",
    "    # Evaluate electric current in every edge of the circuit\n",
    "    I = {}\n",
    "    for i, e in enumerate(G.edges):\n",
    "        u, v = e\n",
    "        if G[u][v][\"weight\"] == 0: I[e] = 0\n",
    "        else: I[e] = round((V[u] - V[v]) / G[u][v][\"weight\"], 2)\n",
    "        \n",
    "    return I\n",
    "    \n",
    "\n",
    "draw_graph(G, branch_current_method(G, s, t, E))"
   ]
  },
  {
   "cell_type": "code",
   "execution_count": null,
   "id": "965d44bb-e74a-4d66-af83-6f46698093ae",
   "metadata": {},
   "outputs": [],
   "source": [
    "def add_weights_to_graph(G, s, t):\n",
    "    G = parse_to_directed(G, s, t)\n",
    "    \n",
    "    for u, v in G.edges:\n",
    "        G.update(edges=[(u, v, {\"weight\": np.random.rand() * 11})])\n",
    "    \n",
    "    return G"
   ]
  },
  {
   "cell_type": "markdown",
   "id": "fec1ebc1-7f1d-4d2e-b8ce-586d6c601957",
   "metadata": {},
   "source": [
    "### Spójny graf losowy (Erdős–Rény)"
   ]
  },
  {
   "cell_type": "code",
   "execution_count": null,
   "id": "8f5328c1-afd4-48ad-a41a-038f4ba9d632",
   "metadata": {},
   "outputs": [],
   "source": [
    "G = add_weights_to_graph(nx.erdos_renyi_graph(20, 0.3), s, t)\n",
    "draw_graph(G, branch_current_method(G, s, t, E))"
   ]
  },
  {
   "cell_type": "markdown",
   "id": "3c052819-d21a-45cd-b529-351e69c24cbe",
   "metadata": {},
   "source": [
    "### Graf 3-regularny (kubiczny)"
   ]
  },
  {
   "cell_type": "code",
   "execution_count": null,
   "id": "3ef2a23d-ccfe-40db-a443-919b3066caa1",
   "metadata": {},
   "outputs": [],
   "source": [
    "G = add_weights_to_graph(nx.random_regular_graph(3, 20), s, t)\n",
    "draw_graph(G, branch_current_method(G, s, t, E))"
   ]
  },
  {
   "cell_type": "markdown",
   "id": "84de3d8a-2536-4563-8cbf-3e36691601ee",
   "metadata": {},
   "source": [
    "### Graf złożony z dwóch grafów losowych połaczonych mostkiem"
   ]
  },
  {
   "cell_type": "code",
   "execution_count": null,
   "id": "a3da2edb-f8f5-418a-8121-e7b0192b981f",
   "metadata": {},
   "outputs": [],
   "source": [
    "N = 20\n",
    "G0 = nx.erdos_renyi_graph(N, 0.4)\n",
    "G1 = nx.erdos_renyi_graph(40, 0.45)\n",
    "for u, v in [e for e in G1.edges]:\n",
    "    G1.remove_edge(u, v)\n",
    "    G1.add_edge(u + N, v + N)\n",
    "G = nx.compose(G0, G1)\n",
    "G.add_edge(5, 32)\n",
    "G = add_weights_to_graph(G, s, t)\n",
    "\n",
    "# nx.draw(G)\n",
    "draw_graph(G, branch_current_method(G, s, t, E))"
   ]
  },
  {
   "cell_type": "markdown",
   "id": "e313b8f2-683f-4798-ad91-67d2497e63c7",
   "metadata": {},
   "source": [
    "### Graf siatka 2D"
   ]
  },
  {
   "cell_type": "code",
   "execution_count": null,
   "id": "da426c12-a994-4ea6-a876-5aa5c31756bd",
   "metadata": {},
   "outputs": [],
   "source": [
    "# Whoopsie, different representation of grid_2d_graph().edges\n",
    "G = add_weights_to_graph(nx.grid_2d_graph(32, 16), s, t)\n",
    "draw_graph(G, kirchhoffs_laws(G, s, t, E))"
   ]
  },
  {
   "cell_type": "markdown",
   "id": "0db0c295-2b96-49bc-9abc-57a56b1f510e",
   "metadata": {
    "tags": []
   },
   "source": [
    "### Graf typu small-world"
   ]
  },
  {
   "cell_type": "code",
   "execution_count": null,
   "id": "afda6187-1b32-47cf-b2df-a1595193c0d2",
   "metadata": {},
   "outputs": [],
   "source": [
    "# Whoopsie, different representation of navigable_small_world_graph().edges\n",
    "G = add_weights_to_graph(nx.navigable_small_world_graph(32), s, t)\n",
    "draw_graph(G, kirchhoffs_laws(G, s, t, E))"
   ]
  },
  {
   "cell_type": "markdown",
   "id": "c9d04f48-f9fd-4ee5-a22a-0cee29e2f595",
   "metadata": {},
   "source": [
    "Jedyną wadą powyższych algorytmów jest błędny algorytm wyznaczania kierunku przepływu prądu w obwodzie (zamiany grafu nieskierowanego $G$ na skierowany), potrafi on rzadko zwrócić krawędź dwukierunkową w wyniku zbyt małej bazy cykli."
   ]
  },
  {
   "cell_type": "code",
   "execution_count": null,
   "id": "de8b51e2-6416-45fb-b0aa-db2289a980ca",
   "metadata": {},
   "outputs": [],
   "source": []
  }
 ],
 "metadata": {
  "kernelspec": {
   "display_name": "Python 3 (ipykernel)",
   "language": "python",
   "name": "python3"
  },
  "language_info": {
   "codemirror_mode": {
    "name": "ipython",
    "version": 3
   },
   "file_extension": ".py",
   "mimetype": "text/x-python",
   "name": "python",
   "nbconvert_exporter": "python",
   "pygments_lexer": "ipython3",
   "version": "3.9.13"
  }
 },
 "nbformat": 4,
 "nbformat_minor": 5
}
