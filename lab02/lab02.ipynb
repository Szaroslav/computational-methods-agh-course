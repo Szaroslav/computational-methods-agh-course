{
 "cells": [
  {
   "cell_type": "markdown",
   "id": "c77b4382-6450-4cf6-9263-06d0788c0891",
   "metadata": {},
   "source": [
    "# Rozwiązywanie układów równań liniowych\n",
    "## Laboratorium 2 - Metody Obliczeniowe w Nauce i Technice"
   ]
  },
  {
   "cell_type": "code",
   "execution_count": 1,
   "id": "b1c171d5-b909-469a-888e-1fecbad8c474",
   "metadata": {},
   "outputs": [],
   "source": [
    "import numpy as np\n",
    "import networkx as nx\n",
    "import matplotlib as mpl\n",
    "from datetime import datetime"
   ]
  },
  {
   "cell_type": "markdown",
   "id": "ef5a215f-7d04-4b96-88be-79c82e5249e9",
   "metadata": {},
   "source": [
    "## Zadanie 1. Eliminacja Gaussa-Jordana."
   ]
  },
  {
   "cell_type": "code",
   "execution_count": 2,
   "id": "739b2c9c-90e0-49ce-9b71-4333ff7e6742",
   "metadata": {},
   "outputs": [],
   "source": [
    "# Gauss-Jordan elimination algorithm with partial pivoting\n",
    "def gauss_jordan(A):\n",
    "    n = len(A)\n",
    "    m = len(A[0])\n",
    "    h = k = 0\n",
    "\n",
    "    while h < n and k < m:\n",
    "        id_max = max([(abs(A[i][k]), i) for i in range(h, n)])[1]\n",
    "        if A[id_max][k] == 0: k += 1\n",
    "        else:\n",
    "            A[[h, id_max]] = A[[id_max, h]]\n",
    "            for i in range(h + 1, n):\n",
    "                f = A[i][k] / A[h][k]\n",
    "                A[i][k] = 0\n",
    "                for j in range(k + 1, m): A[i][j] -= f * A[h][j]\n",
    "            h += 1\n",
    "            k += 1\n",
    "            \n",
    "    return A\n",
    "\n",
    "\n",
    "# Backward substitution\n",
    "def backward_substitution(A):\n",
    "    n = len(A)\n",
    "    m = len(A[0])\n",
    "    \n",
    "    for h in range(n - 1, -1, -1):\n",
    "        A[h][m - 1] *= 1 / A[h][h]\n",
    "        A[h][h] = 1\n",
    "        for i in range(h - 1, -1, -1):\n",
    "            f = A[i][h]\n",
    "            A[i][h] = 0\n",
    "            for j in range(h + 1, m): A[i][j] -= f * A[h][j]\n",
    "            \n",
    "    return A\n",
    "\n",
    "\n",
    "# Linear solver\n",
    "def lin_solve(A, y):\n",
    "    n = len(A)\n",
    "    Ay = np.hstack((A, np.array([[x] for x in y])))\n",
    "    Ay = backward_substitution(gauss_jordan(Ay))\n",
    "    \n",
    "    return np.array([x[n] for x in Ay])"
   ]
  },
  {
   "cell_type": "code",
   "execution_count": null,
   "id": "8022c10a-5225-4b43-9549-405d0fc732d8",
   "metadata": {},
   "outputs": [],
   "source": [
    "dimensions = np.array([\n",
    "    (510, 510),\n",
    "    (520, 520),\n",
    "    (530, 530),\n",
    "    (540, 540),\n",
    "    (550, 550),\n",
    "    (600, 600),\n",
    "    (650, 650),\n",
    "    (700, 700),\n",
    "    (750, 750),\n",
    "    (800, 800),\n",
    "    (1000, 1000)\n",
    "])\n",
    "\n",
    "# Tests\n",
    "for n, m in dimensions:\n",
    "    print(f\"N = {n}\")\n",
    "    \n",
    "    A = np.random.rand(n, m)\n",
    "    y = np.random.rand(n)\n",
    "    \n",
    "    np_start_timestamp = datetime.timestamp(datetime.now())\n",
    "    np.linalg.solve(A, y)\n",
    "    print(f\"NumPy.linalg.solve():\\t\\t{datetime.timestamp(datetime.now()) - np_start_timestamp}s\")\n",
    "    \n",
    "    ls_start_timestamp = datetime.timestamp(datetime.now())\n",
    "    lin_solve(A, y)\n",
    "    print(f\"Own function, lin_solve():\\t{datetime.timestamp(datetime.now()) - np_start_timestamp}s\\n\")"
   ]
  },
  {
   "cell_type": "markdown",
   "id": "f36274f2-94f9-41e8-800b-a22578297b0c",
   "metadata": {},
   "source": [
    "## Zadanie 2. Faktoryzacja LU."
   ]
  },
  {
   "cell_type": "code",
   "execution_count": 3,
   "id": "0ecaf23f-a87c-4b6c-8a0c-57be9b26d32e",
   "metadata": {},
   "outputs": [],
   "source": [
    "def lu_decomposition(A):\n",
    "    n = len(A)\n",
    "    L = np.zeros((n, n))\n",
    "    h = k = 0\n",
    "\n",
    "    while h < n and k < n:\n",
    "        idx_non_zero = -1\n",
    "        for i in range(h, n):\n",
    "            if A[i][k] != 0:\n",
    "                idx_non_zero = i\n",
    "                break\n",
    "                \n",
    "        if idx_non_zero < 0: k += 1\n",
    "        else:\n",
    "            A[[h, idx_non_zero]] = A[[idx_non_zero, h]]\n",
    "            L[h][h] = 1\n",
    "            for i in range(h + 1, n):\n",
    "                f = A[i][k] / A[h][k]\n",
    "                A[i][k] = 0\n",
    "                L[i][h] = f\n",
    "                for j in range(k + 1, n): A[i][j] -= f * A[h][j]\n",
    "            h += 1\n",
    "            k += 1\n",
    "            \n",
    "    return L, A"
   ]
  },
  {
   "cell_type": "code",
   "execution_count": 4,
   "id": "23be183c-4b1c-4fd1-ab95-5b25c4fdc4c8",
   "metadata": {},
   "outputs": [
    {
     "data": {
      "text/plain": [
       "(array([[1., 0., 0.],\n",
       "        [5., 1., 0.],\n",
       "        [3., 4., 1.]]),\n",
       " array([[  1,   2,   3],\n",
       "        [  0,  -2, -19],\n",
       "        [  0,   0,  74]]))"
      ]
     },
     "execution_count": 4,
     "metadata": {},
     "output_type": "execute_result"
    }
   ],
   "source": [
    "A = np.array([[1,2,3],[5,8,-4],[3,-2,7]])\n",
    "L, U = lu_decomposition(np.copy(A))\n",
    "L, U"
   ]
  },
  {
   "cell_type": "markdown",
   "id": "ca32f1e6-1938-418e-a555-8b098ac6d9f2",
   "metadata": {},
   "source": [
    "Poprawność algorytmu dekompozycji $LU$, obliczając $||A - LU||_1$"
   ]
  },
  {
   "cell_type": "code",
   "execution_count": 5,
   "id": "b1679980-a445-4161-b4e8-e98559a7bd64",
   "metadata": {},
   "outputs": [
    {
     "data": {
      "text/plain": [
       "0.0"
      ]
     },
     "execution_count": 5,
     "metadata": {},
     "output_type": "execute_result"
    }
   ],
   "source": [
    "# Matrix norm of A - LU inducted by vector 1-norms\n",
    "np.max((np.abs(A - np.dot(L, U))).sum(axis=1))"
   ]
  },
  {
   "cell_type": "markdown",
   "id": "2886662a-904b-4bc1-afd8-1b17b0b179de",
   "metadata": {},
   "source": [
    "## Zadanie 3. Analiza obwodu elektrycznego - nadokreślony układ równań."
   ]
  },
  {
   "cell_type": "code",
   "execution_count": 6,
   "id": "65abadaf-ab80-4d35-86f3-f499e69c0f28",
   "metadata": {},
   "outputs": [],
   "source": [
    "def load_adjacency_list_from_file(path):\n",
    "    with open(path) as file:\n",
    "        adj_list = []\n",
    "        lines = [line.rstrip() for line in file]\n",
    "        \n",
    "        for i in range(len(lines)):\n",
    "            row = line.split(',')\n",
    "            for j in range(0, len(row), 2):\n",
    "                adj_list[i].append((int(row[j]), float(row[j + 1])))\n",
    "                \n",
    "        return adj_list\n",
    "    \n",
    "    return None\n",
    "\n",
    "\n",
    "# def adjacency_matrix_from_list(G):\n",
    "#     M = np.zeros((len(G), len(G)))\n",
    "#     for i in range(len(G)):\n",
    "#         for j, w in G[i]:\n",
    "#             M[i][j] = w\n",
    "            \n",
    "#     return M\n",
    "    \n",
    "\n",
    "def load_emf():\n",
    "    s, t, E = input(\"Type electromotive force E from s to v vertices (s t E): \").split()\n",
    "    return int(s), int(t), float(E)"
   ]
  },
  {
   "cell_type": "code",
   "execution_count": null,
   "id": "454b050b-6207-401d-b06d-5d9e2346eed4",
   "metadata": {},
   "outputs": [],
   "source": [
    "# Ohm's law\n",
    "# def ol()"
   ]
  },
  {
   "cell_type": "markdown",
   "id": "434ef77e-66e6-4061-9188-5f12ca2c5577",
   "metadata": {},
   "source": [
    "![Test graph](graph-test.jpg)"
   ]
  },
  {
   "cell_type": "code",
   "execution_count": 14,
   "id": "656b1860-2f10-46f9-bd31-611343d69d53",
   "metadata": {},
   "outputs": [],
   "source": [
    "# Test graph\n",
    "\n",
    "# G0 = nx.Graph()\n",
    "# G0.add_weighted_edges_from([\n",
    "#     (1, 0, 0),\n",
    "#     (1, 4, 1),\n",
    "#     (1, 2, 4),\n",
    "#     (2, 3, 1),\n",
    "#     (3, 4, 2),\n",
    "#     (4, 5, 1),\n",
    "#     (5, 6, 4),\n",
    "#     (6, 0, 1),\n",
    "#     (3, 7, 1),\n",
    "#     (4, 7, 1),\n",
    "#     (7, 8, 1),\n",
    "#     (8, 5, 1)\n",
    "# ])\n",
    "\n",
    "G = nx.Graph()\n",
    "G.add_weighted_edges_from([\n",
    "    (0, 1, 0),\n",
    "    (1, 2, 6),\n",
    "    (2, 3, 4),\n",
    "    (3, 0, 2),\n",
    "])\n",
    "\n",
    "s, t, e = 0, 1, 4"
   ]
  },
  {
   "cell_type": "code",
   "execution_count": 15,
   "id": "4166681d-c642-4228-85e9-c2b30dd4ff3c",
   "metadata": {},
   "outputs": [
    {
     "data": {
      "text/plain": [
       "[[1, 2, 3, 0]]"
      ]
     },
     "execution_count": 15,
     "metadata": {},
     "output_type": "execute_result"
    }
   ],
   "source": [
    "G_cycle_basis = nx.cycle_basis(G)\n",
    "G_cycle_basis"
   ]
  },
  {
   "cell_type": "code",
   "execution_count": 17,
   "id": "54e23849-986b-4b15-a422-e492777f910c",
   "metadata": {},
   "outputs": [
    {
     "data": {
      "image/png": "[encoded data removed]",
      "text/plain": [
       "<Figure size 640x480 with 1 Axes>"
      ]
     },
     "metadata": {},
     "output_type": "display_data"
    }
   ],
   "source": [
    "def parse_to_directed(G, s, t, cycles):\n",
    "    di_G = G.to_directed()\n",
    "    \n",
    "    for cycle in cycles:\n",
    "        idx, is_t = None, None\n",
    "        if t in cycle: idx, is_t = cycle.index(t), True\n",
    "        elif s in cycle: idx, is_t = cycle.index(s), False\n",
    "        if idx is not None:\n",
    "            n = len(cycle)\n",
    "            for i in range(n):\n",
    "                v, u = cycle[(idx + i) % n], cycle[(idx + i - 1) % n]\n",
    "                if is_t and di_G.has_edge(v, u): di_G.remove_edge(v, u)\n",
    "                elif not is_t and di_G.has_edge(u, v): di_G.remove_edge(u, v)\n",
    "                \n",
    "    for cycle in cycles:\n",
    "        if s not in cycle or t not in cycle:\n",
    "            n = len(cycle)\n",
    "            idx = None\n",
    "            for i in range(n):\n",
    "                v, u = cycle[i % n], cycle[(i - 1) % n]\n",
    "                if di_G.has_edge(v, u) and not di_G.has_edge(u, v):\n",
    "                    idx = i\n",
    "                    break\n",
    "                    \n",
    "            if idx is None: continue\n",
    "            for i in range(n - 1):\n",
    "                v, u = cycle[(idx + i) % n], cycle[(idx + i - 1) % n]\n",
    "                if di_G.has_edge(v, u): di_G.remove_edge(v, u)\n",
    "            \n",
    "    return di_G\n",
    "\n",
    "G = parse_to_directed(G, s, t, G_cycle_basis)\n",
    "nx.draw(G)"
   ]
  },
  {
   "cell_type": "markdown",
   "id": "a4031595-245a-46ba-8b5c-1c912fe30a18",
   "metadata": {},
   "source": [
    "### Metoda potencjałów węzłowych."
   ]
  },
  {
   "cell_type": "code",
   "execution_count": 21,
   "id": "9983e3c5-69f4-44be-ba80-55a4f3c1bc35",
   "metadata": {},
   "outputs": [
    {
     "data": {
      "image/png": "[encoded data removed]",
      "text/plain": [
       "<Figure size 640x480 with 1 Axes>"
      ]
     },
     "metadata": {},
     "output_type": "display_data"
    }
   ],
   "source": [
    "def branch_current_method(G, s, t, e):\n",
    "    N = len(G)\n",
    "    \n",
    "    A = np.zeros((N, N))\n",
    "    B = np.zeros(N)\n",
    "    \n",
    "    V = np.full(N, None)\n",
    "    V[s] = 0\n",
    "    V[t] = e\n",
    "    \n",
    "    for u in range(N):\n",
    "        # Out (+I_k)\n",
    "        for v in [v for v in G.neighbors(u)]:\n",
    "            w = G[u][v][\"weight\"]\n",
    "            if w == 0:\n",
    "                continue\n",
    "            \n",
    "            if V[u] is None: A[u][u] += 1 / w\n",
    "            else: B[u] -= V[u] / w\n",
    "            if V[v] is None: A[u][v] -= 1 / w\n",
    "            else: B[u] += V[v] / w\n",
    "            \n",
    "        # In (-I_k)\n",
    "        for v in range(N):\n",
    "            if not G.has_edge(v, u) or G[v][u][\"weight\"] == 0:\n",
    "                continue\n",
    "            w = G[v][u][\"weight\"]\n",
    "            \n",
    "            if V[u] is None: A[u][u] += 1 / w\n",
    "            else: B[u] -= V[u] / w\n",
    "            if V[v] is None: A[u][v] -= 1 / w\n",
    "            else: B[u] += V[v] / w\n",
    "    \n",
    "    # Remove unnecessary rows and columns, avoiding det(A) = 0\n",
    "    A = np.delete(A, (s, t), 0)\n",
    "    A = np.delete(A, (s, t), 1)\n",
    "    B = np.delete(B, (s, t))\n",
    "    res = np.linalg.solve(A, B)\n",
    "    \n",
    "    # Merge together electric potential differences of s and t nodes with others\n",
    "    j = 0\n",
    "    for i in range(N):\n",
    "        if i == s or i == t: continue\n",
    "        V[i] = res[j]\n",
    "        j += 1\n",
    "    \n",
    "    # Evaluate electric current in every edge of the circuit\n",
    "    I = {}\n",
    "    for i, e in enumerate(G.edges):\n",
    "        u, v = e\n",
    "        if G[u][v][\"weight\"] == 0: I[e] = 0\n",
    "        else: I[e] = round((V[u] - V[v]) / G[u][v][\"weight\"], 2)\n",
    "        \n",
    "    return I\n",
    "\n",
    "\n",
    "def draw_graph(G, weights):\n",
    "    layout = nx.spring_layout(G, seed=213700)\n",
    "    \n",
    "    _min, _max = min(weights.values()), max(weights.values())\n",
    "    edge_color_intesities = []\n",
    "    for u, v in G.edges:\n",
    "        edge_color_intesities.append((weights[(u, v)] - _min) / (_max - _min))\n",
    "    \n",
    "    nx.draw(G, pos=layout, edge_color=edge_color_intesities, edge_cmap=mpl.colormaps[\"plasma\"])\n",
    "    nx.draw_networkx_edge_labels(G, pos=layout, edge_labels=weights)\n",
    "    \n",
    "\n",
    "draw_graph(G, branch_current_method(G, s, t, e))"
   ]
  },
  {
   "cell_type": "code",
   "execution_count": 19,
   "id": "e453eee5-40bd-412d-b2d1-daf390b1a144",
   "metadata": {},
   "outputs": [
    {
     "name": "stdout",
     "output_type": "stream",
     "text": [
      "[[5, 48, 0], [12, 48, 0], [18, 48, 0], [27, 48, 0], [45, 48, 0], [3, 44, 48, 0], [20, 44, 48, 0], [27, 44, 48], [28, 44, 48], [33, 44, 48, 0], [37, 44, 48], [40, 44, 48], [4, 38, 44], [8, 38, 44], [9, 38, 44, 48, 0], [10, 38, 44, 48], [12, 38, 44, 48], [17, 38, 44, 48], [20, 38, 44], [22, 38, 44, 48], [30, 38, 44, 48], [33, 38, 44], [37, 38, 44], [45, 38, 44, 48], [18, 13, 38, 44, 48], [27, 13, 38, 44], [30, 13, 38], [37, 13, 38], [45, 13, 38], [2, 46, 13, 38], [4, 46, 13, 38], [5, 46, 13, 38, 44, 48], [7, 46, 13, 38], [8, 46, 13, 38], [9, 46, 13, 38], [11, 46, 13], [17, 46, 13, 38], [20, 46, 13, 38], [22, 46, 13, 38], [27, 46, 13], [28, 46, 13, 38, 44], [30, 46, 13], [34, 46, 13], [11, 39, 46], [12, 39, 46, 13, 38], [15, 39, 46, 13], [17, 39, 46], [18, 39, 46, 13], [20, 39, 46], [22, 39, 46], [23, 39, 46, 13, 38, 44, 48, 0], [37, 39, 46, 13], [43, 39, 46, 13], [4, 31, 39, 46], [7, 31, 39, 46], [8, 31, 39, 46], [15, 31, 39], [24, 31, 39, 46, 13], [27, 31, 39, 46], [37, 31, 39], [42, 31, 39, 46, 13, 38, 44, 48], [43, 31, 39], [8, 14, 46], [21, 14, 46, 13], [23, 14, 46, 13, 38, 44, 48, 0], [25, 14, 46, 13, 38, 44], [29, 14, 46, 13, 38, 44], [40, 14, 46, 13, 38, 44], [42, 14, 46, 13, 38, 44, 48], [45, 14, 46, 13], [2, 47, 14, 46], [6, 47, 14, 46, 13, 38, 44, 48], [7, 47, 14, 46], [10, 47, 14, 46, 13, 38], [11, 47, 14, 46], [16, 47, 14, 46, 13, 38, 44, 48], [22, 47, 14, 46], [23, 47, 14], [25, 47, 14], [27, 47, 14, 46], [30, 47, 14, 46], [34, 47, 14, 46], [37, 47, 14, 46, 13], [42, 47, 14], [43, 47, 14, 46, 13], [45, 47, 14], [5, 19, 47, 14, 46], [9, 19, 47, 14, 46], [15, 19, 47, 14, 46, 13], [22, 19, 47], [23, 19, 47], [25, 19, 47], [29, 19, 47, 14], [30, 19, 47], [33, 19, 47, 14, 46, 13, 38], [43, 19, 47], [9, 36, 14, 46], [10, 36, 14, 46, 13, 38], [15, 36, 14, 46, 13], [28, 36, 14, 46], [33, 36, 14, 46, 13, 38], [34, 36, 14, 46], [41, 36, 14, 46, 13, 38, 44, 48], [45, 36, 14], [1, 35, 14, 46], [8, 35, 14], [10, 35, 14, 46, 13, 38], [12, 35, 14, 46, 13, 38], [15, 35, 14, 46, 13], [17, 35, 14, 46], [23, 35, 14], [25, 35, 14], [28, 35, 14, 46], [34, 35, 14, 46], [41, 35, 14, 46, 13, 38, 44, 48], [43, 35, 14, 46, 13], [1, 49, 35], [2, 49, 35, 14, 46], [8, 49, 35], [12, 49, 35], [17, 49, 35], [18, 49, 35, 14, 46, 13], [22, 49, 35, 14, 46], [25, 49, 35], [29, 49, 35, 14], [30, 49, 35, 14, 46], [32, 49, 35, 14], [37, 49, 35, 14, 46, 13], [42, 49, 35, 14], [45, 49, 35, 14], [4, 32, 14, 46], [11, 32, 14, 46], [16, 32, 14, 46, 13, 38, 44, 48], [17, 32, 14, 46], [25, 32, 14], [27, 32, 14, 46], [33, 32, 14, 46, 13, 38], [37, 32, 14, 46, 13], [6, 1, 46, 13, 38, 44, 48], [10, 1, 46, 13, 38], [15, 1, 46, 13], [17, 1, 46], [20, 1, 46], [21, 1, 46, 13], [23, 1, 46, 13, 38, 44, 48, 0], [33, 1, 46, 13, 38], [34, 1, 46], [37, 1, 46, 13], [42, 1, 46, 13, 38, 44, 48], [2, 43, 13, 38], [4, 43, 13, 38], [5, 43, 13, 38, 44, 48], [10, 43, 13, 38], [11, 43, 13], [17, 43, 13, 38], [18, 43, 13], [22, 43, 13, 38], [23, 43, 13, 38, 44, 48, 0], [24, 43, 13], [25, 43, 13, 38, 44], [26, 43, 13], [28, 43, 13, 38, 44], [37, 43, 13], [45, 43, 13], [9, 34, 13, 38], [17, 34, 13, 38], [18, 34, 13], [20, 34, 13, 38], [25, 34, 13, 38, 44], [26, 34, 13], [27, 34, 13], [42, 34, 13, 38, 44, 48], [9, 26, 13, 38], [11, 26, 13], [28, 26, 13, 38, 44], [29, 26, 13, 38, 44], [33, 26, 13, 38], [37, 26, 13], [42, 26, 13, 38, 44, 48], [2, 24, 13, 38], [16, 24, 13, 38, 44, 48], [18, 24, 13], [23, 24, 13, 38, 44, 48, 0], [27, 24, 13], [29, 24, 13, 38, 44], [45, 24, 13], [2, 21, 13, 38], [7, 21, 13, 38], [8, 21, 13, 38], [9, 21, 13, 38], [20, 21, 13, 38], [33, 21, 13, 38], [40, 21, 13, 38, 44], [2, 15, 13, 38], [8, 15, 13, 38], [11, 15, 13], [30, 15, 13], [40, 15, 13, 38, 44], [41, 15, 13, 38, 44, 48], [5, 11, 13, 38, 44, 48], [6, 11, 13, 38, 44, 48], [17, 11, 13, 38], [42, 11, 13, 38, 44, 48], [45, 11, 13], [5, 7, 38, 44, 48], [9, 7, 38], [17, 7, 38], [18, 7, 38, 44, 48], [30, 7, 38], [41, 7, 38, 44, 48], [42, 7, 38, 44, 48], [16, 2, 38, 44, 48], [30, 2, 38], [33, 2, 38], [37, 2, 38], [41, 2, 38, 44, 48], [4, 29, 44], [10, 29, 44, 48], [17, 29, 44, 48], [25, 29, 44], [28, 29, 44], [33, 29, 44], [6, 25, 44, 48], [8, 25, 44], [9, 25, 44, 48, 0], [16, 25, 44, 48], [17, 25, 44, 48], [18, 25, 44, 48], [20, 25, 44], [23, 25, 44, 48, 0], [3, 8, 44], [9, 8, 44, 48, 0], [22, 8, 44, 48], [27, 8, 44], [33, 8, 44], [37, 8, 44], [6, 4, 44, 48], [10, 4, 44, 48], [12, 4, 44, 48], [17, 4, 44, 48], [18, 4, 44, 48], [23, 4, 44, 48, 0], [3, 42, 48, 0], [6, 42, 48], [17, 42, 48], [18, 42, 48], [23, 42, 48, 0], [28, 42, 48], [33, 42, 48, 0], [40, 42, 48], [3, 41, 48, 0], [6, 41, 48], [20, 41, 48, 0], [28, 41, 48], [10, 40, 48], [20, 40, 48, 0], [23, 40, 48, 0], [27, 40, 48], [33, 40, 48, 0], [45, 40, 48], [10, 37, 48], [20, 37, 48, 0], [30, 37, 48], [3, 30, 48, 0], [5, 30, 48], [6, 30, 48], [16, 30, 48], [28, 30, 48], [3, 28, 48, 0], [12, 28, 48], [3, 22, 48, 0], [27, 22, 48], [45, 22, 48], [3, 17, 48, 0], [5, 17, 48], [6, 17, 48], [18, 17, 48], [20, 17, 48, 0], [5, 16, 48], [12, 16, 48], [20, 16, 48, 0], [45, 16, 48], [12, 10, 48], [20, 10, 48, 0], [27, 10, 48], [33, 10, 48, 0], [20, 45, 0], [27, 45, 0], [33, 45, 0], [12, 33, 0], [18, 33, 0], [20, 33, 0], [23, 33, 0], [9, 27, 0], [18, 27, 0], [3, 23, 0], [18, 23, 0], [3, 18, 0]]\n"
     ]
    },
    {
     "ename": "KeyError",
     "evalue": "'weight'",
     "output_type": "error",
     "traceback": [
      "\u001b[1;31m---------------------------------------------------------------------------\u001b[0m",
      "\u001b[1;31mKeyError\u001b[0m                                  Traceback (most recent call last)",
      "\u001b[1;32m~\\AppData\\Local\\Temp\\ipykernel_10456\\403408771.py\u001b[0m in \u001b[0;36m<module>\u001b[1;34m\u001b[0m\n\u001b[0;32m      3\u001b[0m \u001b[0mX_cycle_basis\u001b[0m \u001b[1;33m=\u001b[0m \u001b[0mnx\u001b[0m\u001b[1;33m.\u001b[0m\u001b[0mcycle_basis\u001b[0m\u001b[1;33m(\u001b[0m\u001b[0mX\u001b[0m\u001b[1;33m)\u001b[0m\u001b[1;33m\u001b[0m\u001b[1;33m\u001b[0m\u001b[0m\n\u001b[0;32m      4\u001b[0m \u001b[0mX\u001b[0m \u001b[1;33m=\u001b[0m \u001b[0mparse_to_directed\u001b[0m\u001b[1;33m(\u001b[0m\u001b[0mX\u001b[0m\u001b[1;33m,\u001b[0m \u001b[0ms\u001b[0m\u001b[1;33m,\u001b[0m \u001b[0mt\u001b[0m\u001b[1;33m,\u001b[0m \u001b[0mX_cycle_basis\u001b[0m\u001b[1;33m)\u001b[0m\u001b[1;33m\u001b[0m\u001b[1;33m\u001b[0m\u001b[0m\n\u001b[1;32m----> 5\u001b[1;33m \u001b[0mdraw_graph\u001b[0m\u001b[1;33m(\u001b[0m\u001b[0mX\u001b[0m\u001b[1;33m,\u001b[0m \u001b[0mbranch_current_method\u001b[0m\u001b[1;33m(\u001b[0m\u001b[0mX\u001b[0m\u001b[1;33m,\u001b[0m \u001b[0ms\u001b[0m\u001b[1;33m,\u001b[0m \u001b[0mt\u001b[0m\u001b[1;33m,\u001b[0m \u001b[0me\u001b[0m\u001b[1;33m)\u001b[0m\u001b[1;33m)\u001b[0m\u001b[1;33m\u001b[0m\u001b[1;33m\u001b[0m\u001b[0m\n\u001b[0m",
      "\u001b[1;32m~\\AppData\\Local\\Temp\\ipykernel_10456\\3197290418.py\u001b[0m in \u001b[0;36mbranch_current_method\u001b[1;34m(G, s, t, e)\u001b[0m\n\u001b[0;32m     12\u001b[0m         \u001b[1;31m# Out (+I_k)\u001b[0m\u001b[1;33m\u001b[0m\u001b[1;33m\u001b[0m\u001b[0m\n\u001b[0;32m     13\u001b[0m         \u001b[1;32mfor\u001b[0m \u001b[0mv\u001b[0m \u001b[1;32min\u001b[0m \u001b[1;33m[\u001b[0m\u001b[0mv\u001b[0m \u001b[1;32mfor\u001b[0m \u001b[0mv\u001b[0m \u001b[1;32min\u001b[0m \u001b[0mG\u001b[0m\u001b[1;33m.\u001b[0m\u001b[0mneighbors\u001b[0m\u001b[1;33m(\u001b[0m\u001b[0mu\u001b[0m\u001b[1;33m)\u001b[0m\u001b[1;33m]\u001b[0m\u001b[1;33m:\u001b[0m\u001b[1;33m\u001b[0m\u001b[1;33m\u001b[0m\u001b[0m\n\u001b[1;32m---> 14\u001b[1;33m             \u001b[0mw\u001b[0m \u001b[1;33m=\u001b[0m \u001b[0mG\u001b[0m\u001b[1;33m[\u001b[0m\u001b[0mu\u001b[0m\u001b[1;33m]\u001b[0m\u001b[1;33m[\u001b[0m\u001b[0mv\u001b[0m\u001b[1;33m]\u001b[0m\u001b[1;33m[\u001b[0m\u001b[1;34m\"weight\"\u001b[0m\u001b[1;33m]\u001b[0m\u001b[1;33m\u001b[0m\u001b[1;33m\u001b[0m\u001b[0m\n\u001b[0m\u001b[0;32m     15\u001b[0m             \u001b[1;32mif\u001b[0m \u001b[0mw\u001b[0m \u001b[1;33m==\u001b[0m \u001b[1;36m0\u001b[0m\u001b[1;33m:\u001b[0m\u001b[1;33m\u001b[0m\u001b[1;33m\u001b[0m\u001b[0m\n\u001b[0;32m     16\u001b[0m                 \u001b[1;32mcontinue\u001b[0m\u001b[1;33m\u001b[0m\u001b[1;33m\u001b[0m\u001b[0m\n",
      "\u001b[1;31mKeyError\u001b[0m: 'weight'"
     ]
    }
   ],
   "source": [
    "X = nx.erdos_renyi_graph(50, 0.3)\n",
    "print(nx.cycle_basis(X))\n",
    "X_cycle_basis = nx.cycle_basis(X)\n",
    "X = parse_to_directed(X, s, t, X_cycle_basis)\n",
    "draw_graph(X, branch_current_method(X, s, t, e))"
   ]
  },
  {
   "cell_type": "code",
   "execution_count": null,
   "id": "8f5328c1-afd4-48ad-a41a-038f4ba9d632",
   "metadata": {},
   "outputs": [],
   "source": []
  }
 ],
 "metadata": {
  "kernelspec": {
   "display_name": "Python 3 (ipykernel)",
   "language": "python",
   "name": "python3"
  },
  "language_info": {
   "codemirror_mode": {
    "name": "ipython",
    "version": 3
   },
   "file_extension": ".py",
   "mimetype": "text/x-python",
   "name": "python",
   "nbconvert_exporter": "python",
   "pygments_lexer": "ipython3",
   "version": "3.9.13"
  }
 },
 "nbformat": 4,
 "nbformat_minor": 5
}
