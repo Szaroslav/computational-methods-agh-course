{
 "cells": [
  {
   "cell_type": "markdown",
   "id": "b776fa49-4a99-4a78-9ee5-c82ce54c1ef6",
   "metadata": {},
   "source": [
    "# Singular Value Decomposition\n",
    "## Laboratorium 5 - Metody Obliczeniowe w Nauce i Technice"
   ]
  },
  {
   "cell_type": "code",
   "execution_count": 3,
   "id": "29353798-e8e6-47f2-a7cc-fb99a71c392f",
   "metadata": {},
   "outputs": [],
   "source": [
    "import numpy as np\n",
    "import matplotlib.pyplot as plt"
   ]
  },
  {
   "cell_type": "markdown",
   "id": "5e97f5ae-94a8-4449-83e4-21c00b2ff5b1",
   "metadata": {},
   "source": [
    "## Zadanie 1. Przekształcenie sfery w elipsoidę."
   ]
  },
  {
   "cell_type": "markdown",
   "id": "fbdb4ec7-9df4-4859-98e9-aadc1d59dac9",
   "metadata": {},
   "source": [
    "1. Korzystając z równania parametrycznego narysuj sferę jednostkową w 3D\n",
    "$$\n",
    "v = \\begin{bmatrix}\n",
    "    \\cos{(s)}\\sin{(t)} \\\\\n",
    "    \\sin{(s)}\\cos{(t)} \\\\\n",
    "    \\cos{(t)}\n",
    "\\end{bmatrix} \\\\\n",
    "s \\in [0, 2\\pi],\\; t \\in [0, \\pi]\n",
    "$$"
   ]
  },
  {
   "cell_type": "code",
   "execution_count": 49,
   "id": "bc986edd-cd0e-4cef-b16b-6a1da281c90b",
   "metadata": {},
   "outputs": [],
   "source": [
    "def get_points(n):\n",
    "    s_space = np.linspace(0, 2 * np.pi, n)\n",
    "    t_space = np.linspace(0, np.pi, n)\n",
    "    \n",
    "    return np.array([(np.cos(s) * np.sin(t), np.sin(s) * np.cos(t), np.cos(t)) for s in s_space for t in t_space])\n",
    "\n",
    "def plot_scatter(x, y, z):\n",
    "    fig = plt.figure()\n",
    "    ax = fig.add_subplot(projection='3d')\n",
    "\n",
    "    ax.scatter(x, y, z)\n",
    "    ax.set_box_aspect((1, 1, 1))\n",
    "\n",
    "    plt.show()\n",
    "    \n",
    "\n",
    "\n",
    "def get_sphere_points(n):\n",
    "    ss = np.linspace(0, 2*np.pi, n)\n",
    "    ts = np.linspace(0, np.pi, n)\n",
    "    \n",
    "    x = lambda s, t: np.cos(s)*np.sin(t)\n",
    "    y = lambda s, t: np.sin(s)*np.sin(t)\n",
    "    z = lambda s, t: np.cos(t)\n",
    "    \n",
    "    return np.array([[x(s, t), y(s, t), z(s, t)] for s in ss for t in ts])"
   ]
  },
  {
   "cell_type": "code",
   "execution_count": 50,
   "id": "0022c7c8-2814-4ee4-8fe3-87241b7a2eea",
   "metadata": {},
   "outputs": [
    {
     "name": "stdout",
     "output_type": "stream",
     "text": [
      "[[ 0.00000000e+00  0.00000000e+00  1.00000000e+00]\n",
      " [ 1.00000000e+00  0.00000000e+00  6.12323400e-17]\n",
      " [ 1.22464680e-16 -0.00000000e+00 -1.00000000e+00]\n",
      " [-0.00000000e+00  1.22464680e-16  1.00000000e+00]\n",
      " [-1.00000000e+00  7.49879891e-33  6.12323400e-17]\n",
      " [-1.22464680e-16 -1.22464680e-16 -1.00000000e+00]\n",
      " [ 0.00000000e+00 -2.44929360e-16  1.00000000e+00]\n",
      " [ 1.00000000e+00 -1.49975978e-32  6.12323400e-17]\n",
      " [ 1.22464680e-16  2.44929360e-16 -1.00000000e+00]]\n",
      "[[ 0.00000000e+00  0.00000000e+00  1.00000000e+00]\n",
      " [ 1.00000000e+00  0.00000000e+00  6.12323400e-17]\n",
      " [ 1.22464680e-16  0.00000000e+00 -1.00000000e+00]\n",
      " [-0.00000000e+00  0.00000000e+00  1.00000000e+00]\n",
      " [-1.00000000e+00  1.22464680e-16  6.12323400e-17]\n",
      " [-1.22464680e-16  1.49975978e-32 -1.00000000e+00]\n",
      " [ 0.00000000e+00 -0.00000000e+00  1.00000000e+00]\n",
      " [ 1.00000000e+00 -2.44929360e-16  6.12323400e-17]\n",
      " [ 1.22464680e-16 -2.99951957e-32 -1.00000000e+00]]\n"
     ]
    }
   ],
   "source": [
    "# x, y, z = \n",
    "# plot_scatter(x, y, z)\n",
    "print(get_points(3))\n",
    "print(get_sphere_points(3))"
   ]
  },
  {
   "cell_type": "markdown",
   "id": "b32aded4-ca63-4cfd-9597-c2211667d6c3",
   "metadata": {},
   "source": [
    "2. Wygeneruj 3 różne macierze $A_1$, $A_2$, $A_3$, ($A_i \\in \\mathbb{R}^{3\\times3}$), za ich pomocą dokonaj przekształcenia sfery w elipsoidę, a następnie przedstaw wizualizację uzyskanego wyniku."
   ]
  },
  {
   "cell_type": "code",
   "execution_count": null,
   "id": "7454c713-4f1c-45d8-b0bb-a47ae71e7ee1",
   "metadata": {},
   "outputs": [],
   "source": [
    "A1 = np.random.rand(3, 3)\n",
    "A2 = np.random.rand(3, 3)\n",
    "A3 = np.random.rand(3, 3)"
   ]
  },
  {
   "cell_type": "code",
   "execution_count": null,
   "id": "03bc70ec-929b-43ec-9daa-7dce57de6270",
   "metadata": {},
   "outputs": [],
   "source": [
    "x, y, z = get_points(2**4)\n"
   ]
  },
  {
   "cell_type": "code",
   "execution_count": null,
   "id": "1f807604-10ac-4ebf-b78f-be60b2c4d253",
   "metadata": {},
   "outputs": [],
   "source": []
  }
 ],
 "metadata": {
  "kernelspec": {
   "display_name": "Python 3 (ipykernel)",
   "language": "python",
   "name": "python3"
  },
  "language_info": {
   "codemirror_mode": {
    "name": "ipython",
    "version": 3
   },
   "file_extension": ".py",
   "mimetype": "text/x-python",
   "name": "python",
   "nbconvert_exporter": "python",
   "pygments_lexer": "ipython3",
   "version": "3.9.13"
  }
 },
 "nbformat": 4,
 "nbformat_minor": 5
}
