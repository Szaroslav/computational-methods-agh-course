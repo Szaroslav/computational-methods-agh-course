{
 "cells": [
  {
   "attachments": {},
   "cell_type": "markdown",
   "id": "d652ca96-39c5-40d5-b628-3e7a93dacd69",
   "metadata": {},
   "source": [
    "# Faktoryzacja QR\n",
    "Laboratorium 11 - Metody Obliczeniowe w Nauce i Technice"
   ]
  },
  {
   "cell_type": "code",
   "execution_count": 3,
   "id": "2c9843fb-268d-4168-8157-8d592dd117c0",
   "metadata": {},
   "outputs": [],
   "source": [
    "import numpy as np\n",
    "import os\n",
    "import matplotlib.pyplot as plt\n",
    "import time"
   ]
  },
  {
   "attachments": {},
   "cell_type": "markdown",
   "id": "bbc70087",
   "metadata": {},
   "source": [
    "## Zadanie 1. Faktoryzacja QR metodą Grama-Schmidta."
   ]
  },
  {
   "attachments": {},
   "cell_type": "markdown",
   "id": "033e3281",
   "metadata": {},
   "source": [
    "### 1."
   ]
  },
  {
   "cell_type": "code",
   "execution_count": 44,
   "id": "d075e947",
   "metadata": {},
   "outputs": [
    {
     "name": "stdout",
     "output_type": "stream",
     "text": [
      "k 1, i 0 [1.18181818 4.72727273 8.27272727]\n",
      "k 2, i 0 [1.36363636 5.45454545 9.54545455]\n",
      "k 2, i 1 [ 1.63636364  0.54545455 -0.54545455]\n",
      "[[ 0.12309149  0.90453403 -0.92060161]\n",
      " [ 0.49236596  0.30151134 -0.32491822]\n",
      " [ 0.86164044 -0.30151134  0.21661214]]\n",
      "[[-0.12309149  0.90453403  0.40824829]\n",
      " [-0.49236596  0.30151134 -0.81649658]\n",
      " [-0.86164044 -0.30151134  0.40824829]]\n"
     ]
    }
   ],
   "source": [
    "def qr(A: np.ndarray) -> tuple[np.ndarray, np.ndarray]:\n",
    "    n = A.shape[0]\n",
    "    # print(A[:, 0], np.linalg.norm(A[:, 0]))\n",
    "\n",
    "    # Q\n",
    "    # for k in range(1, n):\n",
    "    #     a = A[:, k].copy()\n",
    "    #     ak = A[:, k].copy()\n",
    "    #     for i in range(k):\n",
    "    #         ui = Q[:, i].copy()\n",
    "    #         ak -= ui @ a * ui\n",
    "    #     uk = ak / np.linalg.norm(ak)\n",
    "    #     Q = np.column_stack((Q, uk))\n",
    "\n",
    "    # Q\n",
    "    Q = np.empty((n, n))\n",
    "    Q[:, 0] = A[:, 0] / np.linalg.norm(A[:, 0])\n",
    "    for k in range(1, n):\n",
    "        ak = A[:, k]\n",
    "        _sum = np.zeros((1, n))\n",
    "        for i in range(k):\n",
    "            ui = Q[:, i]\n",
    "            _sum += ui @ ak * ui\n",
    "            print(f\"k {k}, i {i}\", ui @ ak * ui)\n",
    "\n",
    "\n",
    "        Q[:, k] = A[:, k] - _sum\n",
    "        Q[:, k] /= np.linalg.norm(Q[:, k])\n",
    "\n",
    "    # R\n",
    "    R = np.zeros((n, n))\n",
    "    for i in range(n):\n",
    "        for j in range(i, n):\n",
    "            R[i, j] = Q[:, i] @ A[:, j]\n",
    "\n",
    "    return Q, R\n",
    "\n",
    "\n",
    "print(qr(np.array([[1, 2, 3], [4, 5, 6], [7, 8, 9]], dtype=np.float64))[0])\n",
    "print(np.linalg.qr(np.array([[1, 2, 3], [4, 5, 6], [7, 8, 9]], dtype=np.float64))[0])"
   ]
  },
  {
   "attachments": {},
   "cell_type": "markdown",
   "id": "1c969df9",
   "metadata": {},
   "source": [
    "### 2."
   ]
  },
  {
   "cell_type": "code",
   "execution_count": 34,
   "id": "3300a8cd",
   "metadata": {},
   "outputs": [
    {
     "name": "stdout",
     "output_type": "stream",
     "text": [
      "Dla n = 16: False\n",
      "Dla n = 32: False\n",
      "Dla n = 100: False\n",
      "Dla n = 500: False\n",
      "Dla n = 1024: False\n"
     ]
    }
   ],
   "source": [
    "def test_correctness():\n",
    "    for n in [16, 32, 100, 500, 1024]:\n",
    "        A = np.random.rand(n , n) * np.random.rand() * 100\n",
    "        Q, R = qr(A)\n",
    "        np_Q, np_R = np.linalg.qr(A)\n",
    "        print(f\"Dla n = {n}: {np.allclose(Q, np_Q) and np.allclose(R, np_R)}\")\n",
    "\n",
    "\n",
    "test_correctness()"
   ]
  },
  {
   "attachments": {},
   "cell_type": "markdown",
   "id": "aff8f696",
   "metadata": {},
   "source": [
    "### 3."
   ]
  },
  {
   "cell_type": "code",
   "execution_count": null,
   "id": "c0e83ea2",
   "metadata": {},
   "outputs": [],
   "source": []
  },
  {
   "attachments": {},
   "cell_type": "markdown",
   "id": "e0113f55",
   "metadata": {},
   "source": [
    "### 4."
   ]
  },
  {
   "cell_type": "code",
   "execution_count": null,
   "id": "56bfa8bb",
   "metadata": {},
   "outputs": [],
   "source": []
  },
  {
   "attachments": {},
   "cell_type": "markdown",
   "id": "79c80218",
   "metadata": {},
   "source": [
    "### 5."
   ]
  },
  {
   "cell_type": "code",
   "execution_count": null,
   "id": "a0bcd29f-35e3-4ffd-a064-552772c9dd5a",
   "metadata": {},
   "outputs": [],
   "source": []
  }
 ],
 "metadata": {
  "kernelspec": {
   "display_name": "Python 3 (ipykernel)",
   "language": "python",
   "name": "python3"
  },
  "language_info": {
   "codemirror_mode": {
    "name": "ipython",
    "version": 3
   },
   "file_extension": ".py",
   "mimetype": "text/x-python",
   "name": "python",
   "nbconvert_exporter": "python",
   "pygments_lexer": "ipython3",
   "version": "3.9.13"
  }
 },
 "nbformat": 4,
 "nbformat_minor": 5
}
