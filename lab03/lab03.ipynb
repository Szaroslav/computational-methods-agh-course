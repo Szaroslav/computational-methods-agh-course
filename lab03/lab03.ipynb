{
 "cells": [
  {
   "cell_type": "markdown",
   "id": "2eb4b01b-4ecd-40a9-bdd5-2c3a0d4f9e64",
   "metadata": {
    "tags": []
   },
   "source": [
    "# Równania nieliniowe\n",
    "## Laboratorium 3 - Metody Obliczeniowe w Nauce i Technice"
   ]
  },
  {
   "cell_type": "code",
   "execution_count": 12,
   "id": "611447ab-dabe-4b35-8a5b-d556ad54b1d4",
   "metadata": {},
   "outputs": [],
   "source": [
    "import numpy as np\n",
    "from mpmath import *"
   ]
  },
  {
   "cell_type": "markdown",
   "id": "5fd3b306-406d-4880-86f3-2cb7a56a09d2",
   "metadata": {},
   "source": [
    "## Funkcje testowe:\n",
    "$f_1(x) = \\cos (x)\\cosh (x) - 1,\\;\\text{dla}\\;x \\in [\\frac{3}{2}\\pi, 2\\pi]$  \n",
    "$f_2(x) = \\frac{1}{x} - \\tan (x),\\;\\text{dla}\\;x \\in [0, \\frac{1}{2}\\pi]$  \n",
    "$f_3(x) = 2^{-x} + e^x + 2\\cos (x) - 6,\\;\\text{dla}\\;x \\in [1, 3]$"
   ]
  },
  {
   "cell_type": "code",
   "execution_count": 13,
   "id": "a83ea3da-2793-4f29-9510-fc8e703ac7cd",
   "metadata": {},
   "outputs": [],
   "source": [
    "def f1(x):\n",
    "    if 3/2 * pi <= x <= 2 * pi:\n",
    "        return mp.cos(x) * mp.cosh(x)\n",
    "    return 0\n",
    "\n",
    "def f1_p1(x):\n",
    "    if 3/2 * pi <= x <= 2 * pi:\n",
    "        return -mp.sin(x) * mp.sinh(x)\n",
    "    return 0\n",
    "\n",
    "\n",
    "def f2(x):\n",
    "    if x == 0:\n",
    "        return mpf(\"+inf\")\n",
    "    if x == 1/2 * pi:\n",
    "        return mpf(\"-inf\")\n",
    "    if 0 < x < 1/2 * pi:\n",
    "        return x**-1 - mp.tan(x)\n",
    "    return 0\n",
    "\n",
    "def f2_p1(x):\n",
    "    if x == 0:\n",
    "        return mpf(\"-inf\")\n",
    "    if 0 < x <= 1/2 * pi:\n",
    "        return -2*x**-2 - mp.sec(x)**2\n",
    "    return 0\n",
    "\n",
    "\n",
    "def f3(x):\n",
    "    if 1 <= x <= 3:\n",
    "        return mp.power(2, -x) + mp.exp(x) + 2*mp.cos(x) - 6\n",
    "    return 0\n",
    "\n",
    "def f3_p1(x):\n",
    "    if 1 <= x <= 3:\n",
    "        return mp.power(2, -x)*mp.ln(2) + mp.exp(x) - 2*mp.sin(x)\n",
    "    return 0"
   ]
  },
  {
   "cell_type": "markdown",
   "id": "baa3d41d-a23d-4d20-9c13-9eec59846ccb",
   "metadata": {},
   "source": [
    "## Zadanie 1. Metoda bisekcji."
   ]
  },
  {
   "cell_type": "code",
   "execution_count": 14,
   "id": "d1b3a9ba-c41a-49c7-b1de-94c8ccb472ed",
   "metadata": {},
   "outputs": [
    {
     "data": {
      "text/plain": [
       "(mpf('6.2831853013279142'), 28)"
      ]
     },
     "execution_count": 14,
     "metadata": {},
     "output_type": "execute_result"
    }
   ],
   "source": [
    "def bisection_method(f, eps, a, b):\n",
    "    i = 0\n",
    "    while abs(b - a) > eps:\n",
    "        x = (b - a) / 2 + a\n",
    "        i += 1\n",
    "        \n",
    "        if abs(f(x)) <= eps: break\n",
    "        elif np.sign(x) * np.sign(a) < 0: b = x\n",
    "        else: a = x\n",
    "        \n",
    "    return a, i\n",
    "    \n",
    "    \n",
    "bisection_method(f1, 10**-8, 3/2 * pi, 2 * pi)"
   ]
  },
  {
   "cell_type": "markdown",
   "id": "8e5f939b-466d-4572-8c62-9a919b02f7e9",
   "metadata": {},
   "source": [
    "## Zadanie 2. Metoda stycznych (Newtona)."
   ]
  },
  {
   "cell_type": "code",
   "execution_count": 15,
   "id": "3042fa46-b045-4bf4-9ce3-8a40d518175e",
   "metadata": {},
   "outputs": [],
   "source": [
    "def newtons_method(x0, f, f_prime, eps, max_it):\n",
    "    i = 0\n",
    "    \n",
    "    for i in range(max_it):\n",
    "        i += 1\n",
    "        y = f(x0)\n",
    "        y_prime = f_prime(x0)\n",
    "        \n",
    "        if abs(y_prime) <= eps: break\n",
    "        \n",
    "        x1 = x0 - y / y_prime\n",
    "        if abs(x1 - x0) <= eps: return x1, i\n",
    "        \n",
    "        x0 = x1\n",
    "        \n",
    "    return x0"
   ]
  },
  {
   "cell_type": "code",
   "execution_count": 24,
   "id": "97721538-c451-4d9d-831b-6e4b2be460c4",
   "metadata": {},
   "outputs": [
    {
     "name": "stdout",
     "output_type": "stream",
     "text": [
      "(mpf('4.7123889803846897'), 1)\n",
      "6.28318530717959\n",
      "(mpf('0.86033358879180655'), 15)\n",
      "nan\n",
      "(mpf('1.8293836019508918'), 10)\n",
      "(mpf('1.829383601945453'), 12)\n"
     ]
    }
   ],
   "source": [
    "print(newtons_method(3/2 * pi, f1, f1_p1, 10**-8, 50))\n",
    "print(newtons_method(2 * pi, f1, f1_p1, 10**-9, 50))\n",
    "print(newtons_method(1/4 * pi, f2, f2_p1, 10**-9, 50))\n",
    "print(newtons_method(0, f2, f2_p1, 10**-9, 50))\n",
    "print(newtons_method(1.5, f3, f3_p1, 10**-9, 50))\n",
    "print(newtons_method(3, f3, f3_p1, 10**-9, 50))"
   ]
  },
  {
   "cell_type": "markdown",
   "id": "b90ff921-2d7b-432d-aeba-6dabab343dd6",
   "metadata": {},
   "source": [
    "## Zadanie 3. Metoda siecznych."
   ]
  },
  {
   "cell_type": "code",
   "execution_count": 17,
   "id": "c397a574-d72a-4a17-b37f-6a26eae1cd04",
   "metadata": {},
   "outputs": [
    {
     "name": "stdout",
     "output_type": "stream",
     "text": [
      "Root: (24.738633748750722, 5)\n"
     ]
    }
   ],
   "source": [
    "def secant_method(x0, x1, f, eps, iterations):\n",
    "    i = 0\n",
    "    \n",
    "    for i in range(iterations):\n",
    "        i += 1\n",
    "        \n",
    "        x2 = x1 - f(x1) * (x1 - x0) / float(f(x1) - f(x0))\n",
    "        x0, x1 = x1, x2\n",
    "        \n",
    "        if abs(f(x2)) <= eps: break\n",
    "        \n",
    "    return x2, i"
   ]
  },
  {
   "cell_type": "code",
   "execution_count": 18,
   "id": "deb83279-9988-44a7-a022-623e60ca76b0",
   "metadata": {},
   "outputs": [
    {
     "data": {
      "text/plain": [
       "(24.738633748750722, 5)"
      ]
     },
     "execution_count": 18,
     "metadata": {},
     "output_type": "execute_result"
    }
   ],
   "source": [
    "root = secant_method(10, 30, f_example, 10**-9, 5)\n",
    "root"
   ]
  },
  {
   "cell_type": "code",
   "execution_count": 27,
   "id": "16c4e7e3-5ea1-46e4-855e-cd203b164e17",
   "metadata": {},
   "outputs": [
    {
     "name": "stdout",
     "output_type": "stream",
     "text": [
      "(mpf('4.7123889803846897'), 1)\n",
      "(mpf('4.7123889803846897'), 1)\n",
      "(mpf('nan'), 1)\n",
      "(mpf('0.8603335890215118'), 5)\n",
      "(mpf('1.8293836019338492'), 6)\n",
      "(mpf('1.8293836019532697'), 7)\n"
     ]
    }
   ],
   "source": [
    "print(secant_method(3/2 * pi, 1.6 * pi, f1, 10**-8, 50))\n",
    "print(secant_method(2 * pi, 3/2 * pi, f1, 10**-9, 50))\n",
    "print(secant_method(1/4 * pi, 1/2 * pi, f2, 10**-9, 50))\n",
    "print(secant_method(0.05, 0.3 * pi, f2, 10**-9, 50))\n",
    "print(secant_method(1.5, 2, f3, 10**-9, 50))\n",
    "print(secant_method(3, 2.5, f3, 10**-9, 50))"
   ]
  },
  {
   "cell_type": "code",
   "execution_count": 28,
   "id": "1a3a4842-9286-4747-80c0-035af00260bb",
   "metadata": {},
   "outputs": [],
   "source": [
    "def bisection_method_h(f, eps, a, b):\n",
    "    while abs(b - a) > eps:\n",
    "        x = (b - a) / 2 + a\n",
    "        \n",
    "        if abs(f(x)) <= eps: break\n",
    "        elif np.sign(x) * np.sign(a) < 0: b = x\n",
    "        else: a = x\n",
    "        \n",
    "    return a, b\n",
    "\n",
    "\n",
    "def secant_hybrid(x0, x1, f, eps, iterations):\n",
    "    i = 0\n",
    "    \n",
    "    for i in range(iterations):\n",
    "        i += 1\n",
    "        \n",
    "        x2 = x1 - f(x1) * (x1 - x0) / float(f(x1) - f(x0))\n",
    "        x0, x1 = x1, x2\n",
    "        \n",
    "        if abs(f(x2)) <= eps: break\n",
    "        \n",
    "    return x2, i\n",
    "\n",
    "def secant_hybrid(x0, x1, f, eps, iterations):\n",
    "    for i in range(8):\n",
    "        x0, x1 = bisection_method_h(f, eps, x0, x1)\n",
    "    \n",
    "    i = 0\n",
    "    \n",
    "    for i in range(iterations):\n",
    "        i += 1\n",
    "        \n",
    "        x2 = x1 - f(x1) * (x1 - x0) / float(f(x1) - f(x0))\n",
    "        x0, x1 = x1, x2\n",
    "        \n",
    "        if abs(f(x2)) <= eps: break\n",
    "        \n",
    "    return x2, i"
   ]
  },
  {
   "cell_type": "code",
   "execution_count": 29,
   "id": "dc96e80a-9e34-4966-8f4f-db4c2194afd5",
   "metadata": {},
   "outputs": [
    {
     "name": "stdout",
     "output_type": "stream",
     "text": [
      "(mpf('4.7123889803850858'), 6)\n",
      "(mpf('4.7123889803846897'), 1)\n"
     ]
    }
   ],
   "source": [
    "print(secant_hybrid(3/2 * pi, 1.6 * pi, f1, 10**-8, 50))\n",
    "print(secant_hybrid(2 * pi, 3/2 * pi, f1, 10**-9, 50))"
   ]
  },
  {
   "cell_type": "code",
   "execution_count": null,
   "id": "81f3d960-5e2d-40c0-b8be-dfe94bee5e01",
   "metadata": {},
   "outputs": [],
   "source": []
  }
 ],
 "metadata": {
  "kernelspec": {
   "display_name": "Python 3 (ipykernel)",
   "language": "python",
   "name": "python3"
  },
  "language_info": {
   "codemirror_mode": {
    "name": "ipython",
    "version": 3
   },
   "file_extension": ".py",
   "mimetype": "text/x-python",
   "name": "python",
   "nbconvert_exporter": "python",
   "pygments_lexer": "ipython3",
   "version": "3.9.13"
  }
 },
 "nbformat": 4,
 "nbformat_minor": 5
}
