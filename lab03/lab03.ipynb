{
 "cells": [
  {
   "cell_type": "markdown",
   "id": "2eb4b01b-4ecd-40a9-bdd5-2c3a0d4f9e64",
   "metadata": {
    "tags": []
   },
   "source": [
    "# Równania nieliniowe\n",
    "## Laboratorium 3 - Metody Obliczeniowe w Nauce i Technice"
   ]
  },
  {
   "cell_type": "code",
   "execution_count": 3,
   "id": "611447ab-dabe-4b35-8a5b-d556ad54b1d4",
   "metadata": {},
   "outputs": [],
   "source": [
    "import numpy as np\n",
    "from mpmath import *"
   ]
  },
  {
   "cell_type": "markdown",
   "id": "5fd3b306-406d-4880-86f3-2cb7a56a09d2",
   "metadata": {},
   "source": [
    "## Funkcje testowe:\n",
    "$f_1(x) = \\cos (x)\\cosh (x) - 1,\\;\\text{dla}\\;x \\in [\\frac{3}{2}\\pi, 2\\pi]$  \n",
    "$f_2(x) = \\frac{1}{x} - \\tan (x),\\;\\text{dla}\\;x \\in [0, \\frac{1}{2}\\pi]$  \n",
    "$f_3(x) = 2^{-x} - e^x + 2\\cos (x) - 6,\\;\\text{dla}\\;x \\in [1, 3]$"
   ]
  },
  {
   "cell_type": "code",
   "execution_count": 21,
   "id": "a83ea3da-2793-4f29-9510-fc8e703ac7cd",
   "metadata": {},
   "outputs": [],
   "source": [
    "def f1(x):\n",
    "    if 3/2 * pi <= x <= 2 * pi:\n",
    "        return mp.cos(x) * mp.cosh(x)\n",
    "    return 0\n",
    "\n",
    "def f1_p1(x):\n",
    "    if 3/2 * pi <= x <= 2 * pi:\n",
    "        return -mp.sin(x) * mp.sinh(x)\n",
    "    return 0\n",
    "\n",
    "\n",
    "def f2(x):\n",
    "    if 0 <= x <= 1/2 * pi:\n",
    "        return x**-1 - mp.tan(x)\n",
    "    return 0\n",
    "\n",
    "def f2_p1(x):\n",
    "    if 0 <= x <= 1/2 * pi:\n",
    "        return -2*x**-2 - mp.sec(x)**2\n",
    "    return 0\n",
    "\n",
    "\n",
    "def f3(x):\n",
    "    if 1 <= x <= 3:\n",
    "        return mp.power(2, -x) - mp.exp(x) + 2*mp.cos(x) - 6\n",
    "    return 0\n",
    "\n",
    "def f3_p1(x):\n",
    "    if 1 <= x <= 3:\n",
    "        return mp.power(2, -x)*mp.ln(2) - mp.exp(x) - 2*mp.sin(x) - 6\n",
    "    return 0"
   ]
  },
  {
   "cell_type": "markdown",
   "id": "baa3d41d-a23d-4d20-9c13-9eec59846ccb",
   "metadata": {},
   "source": [
    "## Zadanie 1. Metoda bisekcji."
   ]
  },
  {
   "cell_type": "code",
   "execution_count": 19,
   "id": "d1b3a9ba-c41a-49c7-b1de-94c8ccb472ed",
   "metadata": {},
   "outputs": [
    {
     "data": {
      "text/plain": [
       "(mpf('4.7123889803846897'), 17)"
      ]
     },
     "execution_count": 19,
     "metadata": {},
     "output_type": "execute_result"
    }
   ],
   "source": [
    "def bisection_method(f, precision, a, b, eps):\n",
    "    i = 0\n",
    "    while b - a > 10**-precision:\n",
    "        x = (a + b) / 2\n",
    "        i += 1\n",
    "        \n",
    "        if abs(f(x)) <= eps: break\n",
    "        elif f(x) * f(a) < 0: b = x\n",
    "        else: a = x\n",
    "        \n",
    "    return a, i\n",
    "    \n",
    "    \n",
    "bisection_method(f1, 5, 3/2 * pi, 2 * pi, 0.001)"
   ]
  },
  {
   "cell_type": "markdown",
   "id": "8e5f939b-466d-4572-8c62-9a919b02f7e9",
   "metadata": {},
   "source": [
    "## Zadanie 2. Metoda Newtona."
   ]
  },
  {
   "cell_type": "code",
   "execution_count": null,
   "id": "3042fa46-b045-4bf4-9ce3-8a40d518175e",
   "metadata": {},
   "outputs": [],
   "source": [
    "def newtons_method(x0, f, f_prime, eps, max_it):\n",
    "    i = 0\n",
    "    \n",
    "    for i in range(max_it):\n",
    "        i += 1\n",
    "        y = f(x0)\n",
    "        y_prime = f_prime(x0)\n",
    "        \n",
    "        if abs(y_prime) <= eps: break\n",
    "        \n",
    "        x1 = x0 - y / y_prime\n",
    "        if abs(x1 - x0) <= eps: return x1, i\n",
    "        \n",
    "        x0 = x1\n",
    "        \n",
    "    return None"
   ]
  },
  {
   "cell_type": "code",
   "execution_count": null,
   "id": "b8faff35-0b96-4bbf-8595-c66c55be6987",
   "metadata": {},
   "outputs": [],
   "source": []
  },
  {
   "cell_type": "code",
   "execution_count": null,
   "id": "10c1d567-12ed-4985-928c-5fecfb3fa6e3",
   "metadata": {},
   "outputs": [],
   "source": []
  }
 ],
 "metadata": {
  "kernelspec": {
   "display_name": "Python 3 (ipykernel)",
   "language": "python",
   "name": "python3"
  },
  "language_info": {
   "codemirror_mode": {
    "name": "ipython",
    "version": 3
   },
   "file_extension": ".py",
   "mimetype": "text/x-python",
   "name": "python",
   "nbconvert_exporter": "python",
   "pygments_lexer": "ipython3",
   "version": "3.9.13"
  }
 },
 "nbformat": 4,
 "nbformat_minor": 5
}
