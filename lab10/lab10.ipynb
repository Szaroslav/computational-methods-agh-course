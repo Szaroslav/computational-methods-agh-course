{
 "cells": [
  {
   "cell_type": "markdown",
   "id": "ac93af95-16d7-4aa7-b09b-cd202f6b303a",
   "metadata": {},
   "source": [
    "# Implementacja DFT\n",
    "## Laboratorium 10 - Metody Obliczeniowe w Nauce i Technice"
   ]
  },
  {
   "cell_type": "code",
   "execution_count": 2,
   "id": "728fa7cc-8a5b-415d-b07b-a16b7f45993d",
   "metadata": {},
   "outputs": [],
   "source": [
    "import numpy as np\n",
    "import scipy.linalg as salg\n",
    "import matplotlib.pyplot as plt\n",
    "import time\n",
    "from functools import reduce\n",
    "from skimage.io import imread, imshow\n",
    "from skimage.color import rgb2hsv, rgb2gray, rgb2yuv\n",
    "from skimage import color, exposure, transform\n",
    "from skimage.exposure import equalize_hist"
   ]
  },
  {
   "cell_type": "markdown",
   "id": "53103fd9-6478-4c87-85d0-5ec990c2e8dc",
   "metadata": {},
   "source": [
    "## Zadanie 1. DFT."
   ]
  },
  {
   "cell_type": "markdown",
   "id": "2e8f7fbd-e63e-4a36-8878-491f9dd8ee02",
   "metadata": {},
   "source": [
    "### 1.\n",
    "Zaimplementuj funkcję realizującą DFT jako iloczyn macierzy Fouriera $\\boldsymbol{F}_n$ i $n$-elementowego wektora wejściowego ($\\boldsymbol{y} = \\boldsymbol{F}_n\\boldsymbol{x}$).\n",
    "$$\n",
    "    n = 2^r \\\\\n",
    "    [\\boldsymbol{F}_n]_{jk} = \\xi^{jk} \\\\\n",
    "    \\xi = e^{-\\frac{2\\pi i}{n}} = \\cos{(\\frac{2\\pi}{n})} - i\\sin{(\\frac{2\\pi}{n})} = \\overline{\\omega}\n",
    "$$"
   ]
  },
  {
   "cell_type": "markdown",
   "id": "be707110-3279-4146-bb39-784de19c08a7",
   "metadata": {},
   "source": [
    "### 2.\n",
    "Zaimplementuj również IDFT korzystając z tożsamosci:\n",
    "$$\n",
    "    \\boldsymbol{F}_n^{-1}\\boldsymbol{y} = \\frac{\\overline{\\boldsymbol{F}}_n\\boldsymbol{y}}{n} = \\frac{\\overline{\\boldsymbol{F}_n\\overline{\\boldsymbol{y}}}}{n}\n",
    "$$\n",
    "Sprawdź poprawność działania funkcji realizującej DFT stosując transformację odwrotną ($\\boldsymbol{x} = \\boldsymbol{F}_n^{−1}\\boldsymbol{y}$) oraz porównując uzyskane wyniki z wyjściem funkcji bibliotecznej."
   ]
  },
  {
   "cell_type": "markdown",
   "id": "62e2428c-2c41-40b9-b4f5-38016cf8c49a",
   "metadata": {},
   "source": [
    "### 3.\n",
    "Zaimplementuj rekurencyjny algorytm Cooleya-Turkeya realizujący szybką transformację Fouriera (FFT). Porównaj szybkość jego działania z implementacją biblioteczną oraz implementacją z mnożeniem wektora przez macierz $\\boldsymbol{F}_n$ dla danych\n",
    "o różnym rozmiarze."
   ]
  },
  {
   "cell_type": "code",
   "execution_count": null,
   "id": "fc0a81e8-1d1e-4557-8072-b53ade2fc701",
   "metadata": {},
   "outputs": [],
   "source": []
  },
  {
   "cell_type": "markdown",
   "id": "cb1300b5-f312-4eed-9fe5-bcea2a427f20",
   "metadata": {},
   "source": [
    "## Zadanie 2. DFT w 1D."
   ]
  },
  {
   "cell_type": "code",
   "execution_count": null,
   "id": "a78c0f39-e38e-4ff9-8658-a00e09b6ceaa",
   "metadata": {},
   "outputs": [],
   "source": []
  },
  {
   "cell_type": "code",
   "execution_count": null,
   "id": "f77ba2d4-b69a-42b3-9af0-65bcf2789078",
   "metadata": {},
   "outputs": [],
   "source": []
  }
 ],
 "metadata": {
  "kernelspec": {
   "display_name": "Python 3 (ipykernel)",
   "language": "python",
   "name": "python3"
  },
  "language_info": {
   "codemirror_mode": {
    "name": "ipython",
    "version": 3
   },
   "file_extension": ".py",
   "mimetype": "text/x-python",
   "name": "python",
   "nbconvert_exporter": "python",
   "pygments_lexer": "ipython3",
   "version": "3.9.13"
  }
 },
 "nbformat": 4,
 "nbformat_minor": 5
}
