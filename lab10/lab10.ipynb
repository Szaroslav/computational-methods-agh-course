{
 "cells": [
  {
   "cell_type": "markdown",
   "id": "ac93af95-16d7-4aa7-b09b-cd202f6b303a",
   "metadata": {},
   "source": [
    "# Implementacja DFT\n",
    "## Laboratorium 10 - Metody Obliczeniowe w Nauce i Technice"
   ]
  },
  {
   "cell_type": "code",
   "execution_count": 36,
   "id": "728fa7cc-8a5b-415d-b07b-a16b7f45993d",
   "metadata": {},
   "outputs": [],
   "source": [
    "import numpy as np\n",
    "import cmath\n",
    "import os\n",
    "import matplotlib.pyplot as plt\n",
    "import time"
   ]
  },
  {
   "cell_type": "markdown",
   "id": "53103fd9-6478-4c87-85d0-5ec990c2e8dc",
   "metadata": {},
   "source": [
    "## Zadanie 1. DFT."
   ]
  },
  {
   "cell_type": "markdown",
   "id": "2e8f7fbd-e63e-4a36-8878-491f9dd8ee02",
   "metadata": {
    "tags": []
   },
   "source": [
    "### 1.\n",
    "Zaimplementuj funkcję realizującą DFT jako iloczyn macierzy Fouriera $\\boldsymbol{F}_n$ i $n$-elementowego wektora wejściowego ($\\boldsymbol{y} = \\boldsymbol{F}_n\\boldsymbol{x}$).\n",
    "$$\n",
    "    n = 2^r \\\\\n",
    "    [\\boldsymbol{F}_n]_{jk} = \\xi^{jk} \\\\\n",
    "    \\xi = e^{-\\frac{2\\pi i}{n}} = \\cos{\\left(\\frac{2\\pi}{n}\\right)} - i\\sin{\\left(\\frac{2\\pi}{n}\\right)} = \\overline{\\omega}\n",
    "$$"
   ]
  },
  {
   "cell_type": "code",
   "execution_count": 31,
   "id": "d2c49a64-65ba-40f2-bf5e-67b0122717cc",
   "metadata": {},
   "outputs": [
    {
     "data": {
      "text/plain": [
       "array([ 364.         +0.j       ,  -82.99137753-29.8908723j,\n",
       "         15.        -35.j       ,  -25.00862247-47.8908723j,\n",
       "       -146.         +0.j       ,  -25.00862247+47.8908723j,\n",
       "         15.        +35.j       ,  -82.99137753+29.8908723j])"
      ]
     },
     "execution_count": 31,
     "metadata": {},
     "output_type": "execute_result"
    }
   ],
   "source": [
    "def xi(n):\n",
    "    PI = np.pi\n",
    "    return cmath.exp(-2j*PI / n)\n",
    "\n",
    "\n",
    "def fill_fouriers_matrix(F, XI):\n",
    "    n = len(F)\n",
    "    for j in range(n):\n",
    "        for k in range(n):\n",
    "            F[j][k] = XI**(j * k)\n",
    "            \n",
    "    return F\n",
    "\n",
    "\n",
    "def dft(x, n):\n",
    "    XI = xi(n)\n",
    "    F = np.empty((n, n), dtype=np.csingle)\n",
    "    F = fill_fouriers_matrix(F, XI)\n",
    "    \n",
    "    y = F @ x\n",
    "    return y, F       \n",
    "\n",
    "\n",
    "n = 2**3\n",
    "x = np.random.randint(0, 101, n)\n",
    "y, F = dft(x, n)\n",
    "y"
   ]
  },
  {
   "cell_type": "markdown",
   "id": "be707110-3279-4146-bb39-784de19c08a7",
   "metadata": {},
   "source": [
    "### 2.\n",
    "Zaimplementuj również IDFT korzystając z tożsamosci:\n",
    "$$\n",
    "    \\boldsymbol{F}_n^{-1}\\boldsymbol{y} = \\frac{\\overline{\\boldsymbol{F}}_n\\boldsymbol{y}}{n} = \\frac{\\overline{\\boldsymbol{F}_n\\overline{\\boldsymbol{y}}}}{n}\n",
    "$$\n",
    "Sprawdź poprawność działania funkcji realizującej DFT stosując transformację odwrotną ($\\boldsymbol{x} = \\boldsymbol{F}_n^{−1}\\boldsymbol{y}$) oraz porównując uzyskane wyniki z wyjściem funkcji bibliotecznej."
   ]
  },
  {
   "cell_type": "code",
   "execution_count": 43,
   "id": "cf1df2b3-28ea-49ad-b451-07a324bcc726",
   "metadata": {},
   "outputs": [
    {
     "name": "stdout",
     "output_type": "stream",
     "text": [
      "x\n",
      " [ 4 76 19 79 58 69 28 31]\n",
      "\n",
      "x given by IDFT\n",
      " [ 4.        -0.j 75.99999988-0.j 19.        -0.j 78.99999918-0.j\n",
      " 58.        -0.j 69.00000012-0.j 28.        -0.j 31.00000082-0.j]\n",
      "\n",
      "Comparing above 2 matrices:  True\n",
      "\n",
      "\n",
      "\n",
      "y\n",
      " [ 364.         +0.j         -82.99137753-29.8908723j\n",
      "   15.        -35.j         -25.00862247-47.8908723j\n",
      " -146.         +0.j         -25.00862247+47.8908723j\n",
      "   15.        +35.j         -82.99137753+29.8908723j]\n",
      "\n",
      "y given by NumPy's FFT\n",
      " [ 364.         +0.j          -82.99137803-29.89087297j\n",
      "   15.        -35.j          -25.00862197-47.89087297j\n",
      " -146.         +0.j          -25.00862197+47.89087297j\n",
      "   15.        +35.j          -82.99137803+29.89087297j]\n",
      "\n",
      "Comparing above 2 matrices:  True\n"
     ]
    }
   ],
   "source": [
    "# Evaluating inverse x vector\n",
    "x_idft = np.conjugate(F @ np.conjugate(y)) / n\n",
    "\n",
    "# Comparing own DFT with own IDFT\n",
    "print(f\"x{os.linesep}\", x, end=2 * os.linesep)\n",
    "print(f\"x given by IDFT{os.linesep}\", x_idft, end=2 * os.linesep)\n",
    "print(\"Comparing above 2 matrices: \", np.allclose(x, x_idft))\n",
    "\n",
    "print(2 * os.linesep)\n",
    "\n",
    "# Comparing own DFT with NumPy's FFT\n",
    "print(f\"y{os.linesep}\", y, end=2 * os.linesep)\n",
    "y_fft = np.fft.fft(x)\n",
    "print(f\"y given by NumPy's FFT{os.linesep}\", y_fft, end=2 * os.linesep)\n",
    "print(\"Comparing above 2 matrices: \", np.allclose(y, y_fft))"
   ]
  },
  {
   "cell_type": "markdown",
   "id": "62e2428c-2c41-40b9-b4f5-38016cf8c49a",
   "metadata": {},
   "source": [
    "### 3.\n",
    "Zaimplementuj rekurencyjny algorytm Cooleya-Turkeya realizujący szybką transformację Fouriera (FFT). Porównaj szybkość jego działania z implementacją biblioteczną oraz implementacją z mnożeniem wektora przez macierz $\\boldsymbol{F}_n$ dla danych\n",
    "o różnym rozmiarze."
   ]
  },
  {
   "cell_type": "code",
   "execution_count": 48,
   "id": "ec0ba65e-5a36-4f5b-97e5-a8844e869ec4",
   "metadata": {},
   "outputs": [
    {
     "data": {
      "text/plain": [
       "array([364.+0.0000000e+00j, 356.-8.8664427e-13j, 414.-1.5420753e-12j,\n",
       "       320.-2.3356464e-12j, 218.-8.5431358e-13j,  92.-5.4766207e-13j,\n",
       "       248.-1.7007895e-12j,  32.-2.7432088e-13j], dtype=complex64)"
      ]
     },
     "execution_count": 48,
     "metadata": {},
     "output_type": "execute_result"
    }
   ],
   "source": [
    "def fft(x):\n",
    "    n = len(x)\n",
    "    if n == 1:\n",
    "        return x\n",
    "    \n",
    "    x0 = [x[i] for i in range(0, n, 2)]\n",
    "    x1 = [x[i] for i in range(1, n, 2)]\n",
    "    \n",
    "    y0 = fft(x0)\n",
    "    y1 = fft(x1)\n",
    "    \n",
    "    omega = cmath.exp(2j * np.pi * n)\n",
    "    \n",
    "    y = np.empty(n, dtype=np.csingle)\n",
    "    for j in range(n // 2):\n",
    "        y[j] = y0[j] + omega**j * y1[j]\n",
    "        y[j + n // 2] = y0[j] + omega**(j + n // 2) * y0[j]\n",
    "        \n",
    "    return y\n",
    "\n",
    "\n",
    "fft(x)"
   ]
  },
  {
   "cell_type": "code",
   "execution_count": 52,
   "id": "fc0a81e8-1d1e-4557-8072-b53ade2fc701",
   "metadata": {},
   "outputs": [],
   "source": [
    "# Comparing own FFT with NumPy's FFT\n",
    "# y_fft = fft(x)\n",
    "# print(f\"y{os.linesep}\", y_fft, end=2 * os.linesep)\n",
    "# y_npfft = np.fft.fft(x)\n",
    "# print(f\"y given by NumPy's FFT{os.linesep}\", y_npfft, end=2 * os.linesep)\n",
    "# print(\"Comparing above 2 matrices: \", np.allclose(y_fft, y_npfft))"
   ]
  },
  {
   "cell_type": "markdown",
   "id": "7209bd2b-d0b9-4bc1-9fae-cde04b3ea9d0",
   "metadata": {},
   "source": [
    "#### Porównanie szybkości algorytmów"
   ]
  },
  {
   "cell_type": "code",
   "execution_count": 55,
   "id": "16bd3b9c-286f-4c88-a27b-0c81863ee7d4",
   "metadata": {},
   "outputs": [
    {
     "name": "stdout",
     "output_type": "stream",
     "text": [
      "Performance comparison for n = 2^0\n",
      "Own DFT... 0.0019910335540771484 s\n",
      "Own FFT... 0.0 s\n",
      "NumPy's FFT... 0.0 s\n",
      "\n",
      "\n",
      "\n",
      "Performance comparison for n = 2^1\n",
      "Own DFT... 0.0 s\n",
      "Own FFT... 0.0 s\n",
      "NumPy's FFT... 0.001008749008178711 s\n",
      "\n",
      "\n",
      "\n",
      "Performance comparison for n = 2^2\n",
      "Own DFT... 0.0 s\n",
      "Own FFT... 0.0 s\n",
      "NumPy's FFT... 0.0 s\n",
      "\n",
      "\n",
      "\n",
      "Performance comparison for n = 2^3\n",
      "Own DFT... 0.0 s\n",
      "Own FFT... 0.0 s\n",
      "NumPy's FFT... 0.0009970664978027344 s\n",
      "\n",
      "\n",
      "\n",
      "Performance comparison for n = 2^4\n",
      "Own DFT... 0.0 s\n",
      "Own FFT... 0.0 s\n",
      "NumPy's FFT... 0.0 s\n",
      "\n",
      "\n",
      "\n",
      "Performance comparison for n = 2^5\n",
      "Own DFT... 0.0 s\n",
      "Own FFT... 0.0010135173797607422 s\n",
      "NumPy's FFT... 0.0 s\n",
      "\n",
      "\n",
      "\n",
      "Performance comparison for n = 2^6\n",
      "Own DFT... 0.003568410873413086 s\n",
      "Own FFT... 0.003039121627807617 s\n",
      "NumPy's FFT... 0.0 s\n",
      "\n",
      "\n",
      "\n",
      "Performance comparison for n = 2^7\n",
      "Own DFT... 0.010551691055297852 s\n",
      "Own FFT... 0.007554531097412109 s\n",
      "NumPy's FFT... 0.0 s\n",
      "\n",
      "\n",
      "\n",
      "Performance comparison for n = 2^8\n",
      "Own DFT... 0.04467344284057617 s\n",
      "Own FFT... 0.016399383544921875 s\n",
      "NumPy's FFT... 0.0 s\n",
      "\n",
      "\n",
      "\n",
      "Performance comparison for n = 2^9\n",
      "Own DFT... 0.15964412689208984 s\n",
      "Own FFT... 0.039862871170043945 s\n",
      "NumPy's FFT... 0.0 s\n",
      "\n",
      "\n",
      "\n",
      "Performance comparison for n = 2^10\n",
      "Own DFT... 0.76165771484375 s\n",
      "Own FFT... 0.09042072296142578 s\n",
      "NumPy's FFT... 0.0 s\n",
      "\n",
      "\n",
      "\n",
      "Performance comparison for n = 2^11\n",
      "Own DFT... 2.9195873737335205 s\n",
      "Own FFT... 0.17632079124450684 s\n",
      "NumPy's FFT... 0.0 s\n",
      "\n",
      "\n",
      "\n",
      "Performance comparison for n = 2^12\n",
      "Own DFT... 11.950186014175415 s\n",
      "Own FFT... 0.4607665538787842 s\n",
      "NumPy's FFT... 0.0 s\n",
      "\n",
      "\n",
      "\n"
     ]
    }
   ],
   "source": [
    "for r in range(13):\n",
    "    print(f\"Performance comparison for n = 2^{r}\")\n",
    "    n = 2**r\n",
    "    x = np.random.randint(0, 101, n)\n",
    "    \n",
    "    print(\"Own DFT... \", end='')\n",
    "    start = time.time()\n",
    "    y, F = dft(x, n)\n",
    "    end = time.time()\n",
    "    print(f\"{end - start} s\")\n",
    "    \n",
    "    print(\"Own FFT... \", end='')\n",
    "    start = time.time()\n",
    "    y = fft(x)\n",
    "    end = time.time()\n",
    "    print(f\"{end - start} s\")\n",
    "    \n",
    "    print(\"NumPy's FFT... \", end='')\n",
    "    start = time.time()\n",
    "    y = np.fft.fft(x)\n",
    "    end = time.time()\n",
    "    print(f\"{end - start} s\")\n",
    "    \n",
    "    print(2 * os.linesep)"
   ]
  },
  {
   "cell_type": "markdown",
   "id": "cb1300b5-f312-4eed-9fe5-bcea2a427f20",
   "metadata": {},
   "source": [
    "## Zadanie 2. DFT w 1D."
   ]
  },
  {
   "cell_type": "code",
   "execution_count": null,
   "id": "a78c0f39-e38e-4ff9-8658-a00e09b6ceaa",
   "metadata": {},
   "outputs": [],
   "source": [
    "n = 5\n",
    "S = np.empty(n, dtype=np.ndarray)\n",
    "for i, t in enumerate(((.5, 1), (1, 1), (1, .5), (3, .25), (2, 2.5))):\n",
    "    a, b = t\n",
    "    S[i] = "
   ]
  },
  {
   "cell_type": "code",
   "execution_count": null,
   "id": "f77ba2d4-b69a-42b3-9af0-65bcf2789078",
   "metadata": {},
   "outputs": [],
   "source": []
  }
 ],
 "metadata": {
  "kernelspec": {
   "display_name": "Python 3 (ipykernel)",
   "language": "python",
   "name": "python3"
  },
  "language_info": {
   "codemirror_mode": {
    "name": "ipython",
    "version": 3
   },
   "file_extension": ".py",
   "mimetype": "text/x-python",
   "name": "python",
   "nbconvert_exporter": "python",
   "pygments_lexer": "ipython3",
   "version": "3.9.13"
  }
 },
 "nbformat": 4,
 "nbformat_minor": 5
}
