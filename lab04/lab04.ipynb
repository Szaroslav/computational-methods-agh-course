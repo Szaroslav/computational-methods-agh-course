{
 "cells": [
  {
   "cell_type": "markdown",
   "id": "f6766747-9415-4a0f-84c9-9c768bb499fb",
   "metadata": {},
   "source": [
    "# Symulowane wyżarzanie\n",
    "## Laboratorium 4 - Metody Obliczeniowe w Nauce i Technice"
   ]
  },
  {
   "cell_type": "code",
   "execution_count": 5,
   "id": "f72054eb-f410-4597-9fac-298854d15bce",
   "metadata": {},
   "outputs": [],
   "source": [
    "import numpy as np"
   ]
  },
  {
   "cell_type": "code",
   "execution_count": 18,
   "id": "a128c20e-fd01-4611-80c8-2637df584e79",
   "metadata": {},
   "outputs": [],
   "source": [
    "class Point:\n",
    "    def __init__(self, x, y):\n",
    "        self.x = x\n",
    "        self.y = y\n",
    "        \n",
    "\n",
    "def generate_points_arrays(n):\n",
    "    P = []\n",
    "    normal_parameters = [(4, 2), (8, 8), (0, 6), (512, 64)]\n",
    "    \n",
    "    P.append([Point(np.random.randint(0, 2 * n**0.5), np.random.randint(0, 2 * n**0.5)) for _ in range(n)])\n",
    "    for l, s in normal_parameters:\n",
    "        x = np.random.normal(l, s, n)\n",
    "        y = np.random.normal(l, s, n)\n",
    "        P.append([Point(x[i], y[i]) for i in range(n)])\n",
    "        \n",
    "    return np.array(P)\n",
    "\n",
    "\n",
    "P = generate_points_arrays(10)"
   ]
  },
  {
   "cell_type": "code",
   "execution_count": 26,
   "id": "93df97f4-b361-4c09-a5fe-14139e9c7c0a",
   "metadata": {},
   "outputs": [
    {
     "name": "stdout",
     "output_type": "stream",
     "text": [
      "0 1 2.0\n",
      "1 2 0.0\n",
      "2 3 2.0\n",
      "3 0 0.0\n"
     ]
    },
    {
     "data": {
      "text/plain": [
       "4.0"
      ]
     },
     "execution_count": 26,
     "metadata": {},
     "output_type": "execute_result"
    }
   ],
   "source": [
    "class SimAnnealing:\n",
    "    def __init__(self, gamma):\n",
    "        self.gamma = gamma\n",
    "        self.T = 2**12\n",
    "        \n",
    "    def evaluate(self):\n",
    "        pass\n",
    "    \n",
    "    def distance(self, p1, p2):\n",
    "        return ((p2.x - p1.x)**2 + (p2.y - p2.y)**2)**.5 \n",
    "    \n",
    "    def get_cost(self, state):\n",
    "        acc = 0.0\n",
    "        for i, j in [(i, (i + 1) % len(state)) for i in range(len(state))]:\n",
    "            print(i, j, self.distance(state[i], state[j]))\n",
    "            acc += self.distance(state[i], state[j])\n",
    "            \n",
    "        return acc\n",
    "        \n",
    "    def neighbour(self, state):\n",
    "        state = state.copy()\n",
    "        i, j = np.random.default_rng().choice(len(state), 2)\n",
    "        state[i], state[j] = state[j], state[i]\n",
    "        \n",
    "    def P(self, new_state_cost, state_cost):\n",
    "        if new_state_cost < state_cost:\n",
    "            return 1\n",
    "        return np.exp((state_cost - new_state_cost) / self.T)\n",
    "        \n",
    "        \n",
    "SimAnnealing(2).get_cost([Point(0, 0), Point(2, 0), Point(2, 2), Point(0, 2)])"
   ]
  },
  {
   "cell_type": "code",
   "execution_count": null,
   "id": "e6072937-888d-47da-956d-bee8a7da057d",
   "metadata": {},
   "outputs": [],
   "source": []
  },
  {
   "cell_type": "code",
   "execution_count": null,
   "id": "6f192b77-237b-4428-9e8a-837c108b16b3",
   "metadata": {},
   "outputs": [],
   "source": []
  },
  {
   "cell_type": "code",
   "execution_count": null,
   "id": "02bb74b6-bdd7-4d25-b0f2-84bd5dab442a",
   "metadata": {},
   "outputs": [],
   "source": []
  }
 ],
 "metadata": {
  "kernelspec": {
   "display_name": "Python 3 (ipykernel)",
   "language": "python",
   "name": "python3"
  },
  "language_info": {
   "codemirror_mode": {
    "name": "ipython",
    "version": 3
   },
   "file_extension": ".py",
   "mimetype": "text/x-python",
   "name": "python",
   "nbconvert_exporter": "python",
   "pygments_lexer": "ipython3",
   "version": "3.10.9"
  }
 },
 "nbformat": 4,
 "nbformat_minor": 5
}
