{
 "cells": [
  {
   "cell_type": "markdown",
   "id": "f6766747-9415-4a0f-84c9-9c768bb499fb",
   "metadata": {},
   "source": [
    "# Symulowane wyżarzanie\n",
    "## Laboratorium 4 - Metody Obliczeniowe w Nauce i Technice"
   ]
  },
  {
   "cell_type": "code",
   "execution_count": 2,
   "id": "f72054eb-f410-4597-9fac-298854d15bce",
   "metadata": {},
   "outputs": [],
   "source": [
    "import numpy as np"
   ]
  },
  {
   "cell_type": "code",
   "execution_count": 13,
   "id": "a128c20e-fd01-4611-80c8-2637df584e79",
   "metadata": {},
   "outputs": [
    {
     "data": {
      "text/plain": [
       "array([[[ 2.00000000e+00,  3.00000000e+00],\n",
       "        [ 0.00000000e+00,  2.00000000e+00],\n",
       "        [ 4.00000000e+00,  4.00000000e+00],\n",
       "        [ 2.00000000e+00,  2.00000000e+00],\n",
       "        [ 1.00000000e+00,  2.00000000e+00],\n",
       "        [ 5.00000000e+00,  4.00000000e+00],\n",
       "        [ 0.00000000e+00,  4.00000000e+00],\n",
       "        [ 0.00000000e+00,  1.00000000e+00],\n",
       "        [ 0.00000000e+00,  1.00000000e+00],\n",
       "        [ 2.00000000e+00,  3.00000000e+00]],\n",
       "\n",
       "       [[ 5.92236719e+00,  3.48278040e-01],\n",
       "        [ 3.64634517e+00,  4.93655362e+00],\n",
       "        [ 2.67433976e+00,  4.27553951e+00],\n",
       "        [ 3.14134202e+00,  5.40426069e+00],\n",
       "        [ 2.97159485e+00,  2.24592508e+00],\n",
       "        [ 1.81419284e+00,  2.83155648e+00],\n",
       "        [ 2.05040301e+00,  6.16919376e+00],\n",
       "        [ 3.60641053e+00,  4.09066464e+00],\n",
       "        [ 4.36952011e+00,  1.42419630e+00],\n",
       "        [ 5.16102749e+00,  1.97110025e+00]],\n",
       "\n",
       "       [[-1.32979763e+00,  1.69786704e+01],\n",
       "        [ 2.06267732e+01, -1.33721980e+00],\n",
       "        [ 7.78386762e-01,  5.77265515e+00],\n",
       "        [ 1.00277759e+01,  8.10598303e+00],\n",
       "        [ 1.43101226e+01,  2.42858665e+00],\n",
       "        [ 1.57943998e+01,  1.29986386e+01],\n",
       "        [ 1.12559161e+01,  2.12267048e+01],\n",
       "        [ 7.51953412e+00, -1.44700816e+00],\n",
       "        [ 5.59017947e+00, -4.25559874e+00],\n",
       "        [-9.41233216e+00, -5.31055039e+00]],\n",
       "\n",
       "       [[ 3.99616514e+00,  3.16725509e+00],\n",
       "        [-6.02348534e+00, -4.19745306e+00],\n",
       "        [ 2.19960794e+00, -8.25220336e+00],\n",
       "        [-4.48910142e+00, -9.79311522e+00],\n",
       "        [ 4.45657494e-01, -8.88754723e-01],\n",
       "        [ 2.89539563e-01, -4.29176264e+00],\n",
       "        [-8.03920399e+00, -3.85528997e+00],\n",
       "        [-6.11949203e-01,  1.80424453e+00],\n",
       "        [-2.72808959e-01, -2.66947227e+00],\n",
       "        [-4.73230571e+00, -8.93578044e+00]],\n",
       "\n",
       "       [[ 5.04060261e+02,  4.20915800e+02],\n",
       "        [ 5.46046154e+02,  5.03043749e+02],\n",
       "        [ 5.77151383e+02,  5.66138282e+02],\n",
       "        [ 4.33255838e+02,  4.69757406e+02],\n",
       "        [ 5.20676015e+02,  4.97343585e+02],\n",
       "        [ 4.26641276e+02,  5.16203848e+02],\n",
       "        [ 5.14348045e+02,  4.67184250e+02],\n",
       "        [ 5.67729280e+02,  4.44158633e+02],\n",
       "        [ 5.82388351e+02,  5.17628412e+02],\n",
       "        [ 4.68099493e+02,  5.44921733e+02]]])"
      ]
     },
     "execution_count": 13,
     "metadata": {},
     "output_type": "execute_result"
    }
   ],
   "source": [
    "def generate_points_arrays(n):\n",
    "    P = []\n",
    "    normal_parameters = [(4, 2), (8, 8), (0, 6), (512, 64)]\n",
    "    \n",
    "    P.append([(np.random.randint(0, 2 * n**0.5), np.random.randint(0, 2 * n**0.5)) for _ in range(n)])\n",
    "    for l, s in normal_parameters:\n",
    "        x = np.random.normal(l, s, n)\n",
    "        y = np.random.normal(l, s, n)\n",
    "        P.append([(x[i], y[i]) for i in range(n)])\n",
    "        \n",
    "    return np.array(P)\n",
    "\n",
    "\n",
    "P = generate_points_arrays(10)"
   ]
  },
  {
   "cell_type": "code",
   "execution_count": null,
   "id": "93df97f4-b361-4c09-a5fe-14139e9c7c0a",
   "metadata": {},
   "outputs": [],
   "source": []
  },
  {
   "cell_type": "code",
   "execution_count": null,
   "id": "e6072937-888d-47da-956d-bee8a7da057d",
   "metadata": {},
   "outputs": [],
   "source": []
  },
  {
   "cell_type": "code",
   "execution_count": null,
   "id": "6f192b77-237b-4428-9e8a-837c108b16b3",
   "metadata": {},
   "outputs": [],
   "source": []
  },
  {
   "cell_type": "code",
   "execution_count": null,
   "id": "02bb74b6-bdd7-4d25-b0f2-84bd5dab442a",
   "metadata": {},
   "outputs": [],
   "source": []
  }
 ],
 "metadata": {
  "kernelspec": {
   "display_name": "Python 3 (ipykernel)",
   "language": "python",
   "name": "python3"
  },
  "language_info": {
   "codemirror_mode": {
    "name": "ipython",
    "version": 3
   },
   "file_extension": ".py",
   "mimetype": "text/x-python",
   "name": "python",
   "nbconvert_exporter": "python",
   "pygments_lexer": "ipython3",
   "version": "3.9.13"
  }
 },
 "nbformat": 4,
 "nbformat_minor": 5
}
